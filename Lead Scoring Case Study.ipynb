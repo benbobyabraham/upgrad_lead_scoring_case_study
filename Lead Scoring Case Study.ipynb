{
 "cells": [
  {
   "cell_type": "markdown",
   "id": "ca0f55ca",
   "metadata": {},
   "source": [
    "<h1 style=\"color:#FA7A35;font-family:Georgia\">Lead Case Study</h1>"
   ]
  },
  {
   "cell_type": "markdown",
   "id": "48531cf3",
   "metadata": {},
   "source": [
    "\n",
    "## Lead Scoring\n",
    "\n",
    "### Problem Statement\n",
    "\n",
    "An education company named X Education sells online courses to industry professionals. On any given day, many professionals who are interested in the courses land on their website and browse for courses.\n",
    "\n",
    "The company markets its courses on several websites and search engines like Google. Once these people land on the website, they might browse the courses or fill up a form for the course or watch some videos.\n",
    "When these people fill up a form providing their email address or phone number, they are classified to be a lead. Moreover, the company also gets leads through past referrals.\n",
    "Once these leads are acquired, employees from the sales team start making calls, writing emails, etc. Through this process, some of the leads get converted while most do not. The typical lead conversion rate at X education is around 30%.\n",
    "\n",
    "Now, although X Education gets a lot of leads, its lead conversion rate is very poor. For example, if, say, they acquire 100 leads in a day, only about 30 of them are converted. To make this process more efficient, **the company wishes to identify the most potential leads, also known as ‘Hot Leads’**.\n",
    "If they successfully identify this set of leads, the lead conversion rate should go up as the sales team will now be focusing more on communicating with the potential leads rather than making calls to everyone. A typical lead conversion process can be represented using the following funnel:\n",
    "\n",
    "<img src=\"https://cdn.upgrad.com/UpGrad/temp/189f213d-fade-4fe4-b506-865f1840a25a/XNote_201901081613670.jpg\">\n",
    "\n",
    "                  \n",
    "                                \n",
    "                               Lead Conversion Process - Demonstrated as a funnel\n",
    "As you can see, there are a lot of leads generated in the initial stage (top) but only a few of them come out as paying customers from the bottom.\n",
    "In the middle stage, you need to nurture the potential leads well (i.e. educating the leads about the product, constantly communicating etc. ) in order to get a higher lead conversion.\n",
    "\n",
    "X Education has appointed you to help them select the most promising leads, i.e. the leads that are most likely to convert into paying customers.The company requires you to build a model wherein you need to assign a lead score to each of the leads such that the customers with higher lead score have a higher conversion chance and the customers with lower lead score have a lower conversion chance.**The CEO, in particular, has given a ballpark of the target lead conversion rate to be around 80%.**\n",
    "\n",
    "### Data\n",
    "\n",
    "You have been provided with a leads dataset from the past with around 9000 data points. This dataset consists of various attributes such as Lead Source, Total Time Spent on Website, Total Visits, Last Activity, etc. which may or may not be useful in ultimately deciding whether a lead will be converted or not. The target variable, in this case, is the column ‘Converted’ which tells whether a past lead was converted or not wherein 1 means it was converted and 0 means it wasn’t converted.\n",
    "\n",
    "Another thing that you also need to check out for are the levels present in the categorical variables.\n",
    "\n",
    "Many of the categorical variables have a level called 'Select' which needs to be handled because it is as good as a null value.\n",
    "\n",
    "### Goal\n",
    "\n",
    "There are quite a few goals for this case study.\n",
    "\n",
    "* **Build a logistic regression model to assign a lead score between 0 and 100 to each of the leads which can be used by the company to target potential leads. A higher score would mean that the lead is hot, i.e. is most likely to convert whereas a lower score would mean that the lead is cold and will mostly not get converted.**\n"
   ]
  },
  {
   "cell_type": "markdown",
   "id": "fa4e39a4",
   "metadata": {},
   "source": [
    "<h1 style=\"color:#FA7A35;font-family:Georgia\">Importing Libraries</h1>"
   ]
  },
  {
   "cell_type": "code",
   "execution_count": 1,
   "id": "313453ce",
   "metadata": {},
   "outputs": [],
   "source": [
    "# Importing basic libraries\n",
    "import pandas as pd\n",
    "import numpy as np\n",
    "import matplotlib.pyplot as plt\n",
    "import seaborn as sns\n",
    "sns.set_theme(style=\"whitegrid\")\n",
    "# setting up  max columns to None, which prints all the columns in pd.show()\n",
    "pd.options.display.max_columns = None\n",
    "\n",
    "# Importing sk learn libraries for data modelling, train test split\n",
    "from sklearn.model_selection import train_test_split\n",
    "from sklearn.preprocessing import StandardScaler\n",
    "\n",
    "# Importing Logsitic Regression from sklearn\n",
    "from sklearn.linear_model import LogisticRegression\n",
    "from sklearn.feature_selection import RFE\n",
    "\n",
    "# Importing model evaluation metrics from sklearn\n",
    "from sklearn import metrics\n",
    "from sklearn.metrics import confusion_matrix\n",
    "from sklearn.metrics import precision_recall_curve\n",
    "from sklearn.metrics import precision_score, recall_score\n",
    "\n",
    "# Importing stats model for VIF calculations\n",
    "import statsmodels.api as sm\n",
    "from statsmodels.stats.outliers_influence import variance_inflation_factor"
   ]
  },
  {
   "cell_type": "markdown",
   "id": "093f93be",
   "metadata": {},
   "source": [
    "<h1 style=\"color:#FA7A35;font-family:Georgia\">Reading and understanding data</h1>"
   ]
  },
  {
   "cell_type": "code",
   "execution_count": 2,
   "id": "7c9c8660",
   "metadata": {},
   "outputs": [
    {
     "data": {
      "text/html": [
       "<div>\n",
       "<style scoped>\n",
       "    .dataframe tbody tr th:only-of-type {\n",
       "        vertical-align: middle;\n",
       "    }\n",
       "\n",
       "    .dataframe tbody tr th {\n",
       "        vertical-align: top;\n",
       "    }\n",
       "\n",
       "    .dataframe thead th {\n",
       "        text-align: right;\n",
       "    }\n",
       "</style>\n",
       "<table border=\"1\" class=\"dataframe\">\n",
       "  <thead>\n",
       "    <tr style=\"text-align: right;\">\n",
       "      <th></th>\n",
       "      <th>Prospect ID</th>\n",
       "      <th>Lead Number</th>\n",
       "      <th>Lead Origin</th>\n",
       "      <th>Lead Source</th>\n",
       "      <th>Do Not Email</th>\n",
       "      <th>Do Not Call</th>\n",
       "      <th>Converted</th>\n",
       "      <th>TotalVisits</th>\n",
       "      <th>Total Time Spent on Website</th>\n",
       "      <th>Page Views Per Visit</th>\n",
       "      <th>Last Activity</th>\n",
       "      <th>Country</th>\n",
       "      <th>Specialization</th>\n",
       "      <th>How did you hear about X Education</th>\n",
       "      <th>What is your current occupation</th>\n",
       "      <th>What matters most to you in choosing a course</th>\n",
       "      <th>Search</th>\n",
       "      <th>Magazine</th>\n",
       "      <th>Newspaper Article</th>\n",
       "      <th>X Education Forums</th>\n",
       "      <th>Newspaper</th>\n",
       "      <th>Digital Advertisement</th>\n",
       "      <th>Through Recommendations</th>\n",
       "      <th>Receive More Updates About Our Courses</th>\n",
       "      <th>Tags</th>\n",
       "      <th>Lead Quality</th>\n",
       "      <th>Update me on Supply Chain Content</th>\n",
       "      <th>Get updates on DM Content</th>\n",
       "      <th>Lead Profile</th>\n",
       "      <th>City</th>\n",
       "      <th>Asymmetrique Activity Index</th>\n",
       "      <th>Asymmetrique Profile Index</th>\n",
       "      <th>Asymmetrique Activity Score</th>\n",
       "      <th>Asymmetrique Profile Score</th>\n",
       "      <th>I agree to pay the amount through cheque</th>\n",
       "      <th>A free copy of Mastering The Interview</th>\n",
       "      <th>Last Notable Activity</th>\n",
       "    </tr>\n",
       "  </thead>\n",
       "  <tbody>\n",
       "    <tr>\n",
       "      <th>0</th>\n",
       "      <td>7927b2df-8bba-4d29-b9a2-b6e0beafe620</td>\n",
       "      <td>660737</td>\n",
       "      <td>API</td>\n",
       "      <td>Olark Chat</td>\n",
       "      <td>No</td>\n",
       "      <td>No</td>\n",
       "      <td>0</td>\n",
       "      <td>0.0</td>\n",
       "      <td>0</td>\n",
       "      <td>0.0</td>\n",
       "      <td>Page Visited on Website</td>\n",
       "      <td>NaN</td>\n",
       "      <td>Select</td>\n",
       "      <td>Select</td>\n",
       "      <td>Unemployed</td>\n",
       "      <td>Better Career Prospects</td>\n",
       "      <td>No</td>\n",
       "      <td>No</td>\n",
       "      <td>No</td>\n",
       "      <td>No</td>\n",
       "      <td>No</td>\n",
       "      <td>No</td>\n",
       "      <td>No</td>\n",
       "      <td>No</td>\n",
       "      <td>Interested in other courses</td>\n",
       "      <td>Low in Relevance</td>\n",
       "      <td>No</td>\n",
       "      <td>No</td>\n",
       "      <td>Select</td>\n",
       "      <td>Select</td>\n",
       "      <td>02.Medium</td>\n",
       "      <td>02.Medium</td>\n",
       "      <td>15.0</td>\n",
       "      <td>15.0</td>\n",
       "      <td>No</td>\n",
       "      <td>No</td>\n",
       "      <td>Modified</td>\n",
       "    </tr>\n",
       "    <tr>\n",
       "      <th>1</th>\n",
       "      <td>2a272436-5132-4136-86fa-dcc88c88f482</td>\n",
       "      <td>660728</td>\n",
       "      <td>API</td>\n",
       "      <td>Organic Search</td>\n",
       "      <td>No</td>\n",
       "      <td>No</td>\n",
       "      <td>0</td>\n",
       "      <td>5.0</td>\n",
       "      <td>674</td>\n",
       "      <td>2.5</td>\n",
       "      <td>Email Opened</td>\n",
       "      <td>India</td>\n",
       "      <td>Select</td>\n",
       "      <td>Select</td>\n",
       "      <td>Unemployed</td>\n",
       "      <td>Better Career Prospects</td>\n",
       "      <td>No</td>\n",
       "      <td>No</td>\n",
       "      <td>No</td>\n",
       "      <td>No</td>\n",
       "      <td>No</td>\n",
       "      <td>No</td>\n",
       "      <td>No</td>\n",
       "      <td>No</td>\n",
       "      <td>Ringing</td>\n",
       "      <td>NaN</td>\n",
       "      <td>No</td>\n",
       "      <td>No</td>\n",
       "      <td>Select</td>\n",
       "      <td>Select</td>\n",
       "      <td>02.Medium</td>\n",
       "      <td>02.Medium</td>\n",
       "      <td>15.0</td>\n",
       "      <td>15.0</td>\n",
       "      <td>No</td>\n",
       "      <td>No</td>\n",
       "      <td>Email Opened</td>\n",
       "    </tr>\n",
       "    <tr>\n",
       "      <th>2</th>\n",
       "      <td>8cc8c611-a219-4f35-ad23-fdfd2656bd8a</td>\n",
       "      <td>660727</td>\n",
       "      <td>Landing Page Submission</td>\n",
       "      <td>Direct Traffic</td>\n",
       "      <td>No</td>\n",
       "      <td>No</td>\n",
       "      <td>1</td>\n",
       "      <td>2.0</td>\n",
       "      <td>1532</td>\n",
       "      <td>2.0</td>\n",
       "      <td>Email Opened</td>\n",
       "      <td>India</td>\n",
       "      <td>Business Administration</td>\n",
       "      <td>Select</td>\n",
       "      <td>Student</td>\n",
       "      <td>Better Career Prospects</td>\n",
       "      <td>No</td>\n",
       "      <td>No</td>\n",
       "      <td>No</td>\n",
       "      <td>No</td>\n",
       "      <td>No</td>\n",
       "      <td>No</td>\n",
       "      <td>No</td>\n",
       "      <td>No</td>\n",
       "      <td>Will revert after reading the email</td>\n",
       "      <td>Might be</td>\n",
       "      <td>No</td>\n",
       "      <td>No</td>\n",
       "      <td>Potential Lead</td>\n",
       "      <td>Mumbai</td>\n",
       "      <td>02.Medium</td>\n",
       "      <td>01.High</td>\n",
       "      <td>14.0</td>\n",
       "      <td>20.0</td>\n",
       "      <td>No</td>\n",
       "      <td>Yes</td>\n",
       "      <td>Email Opened</td>\n",
       "    </tr>\n",
       "    <tr>\n",
       "      <th>3</th>\n",
       "      <td>0cc2df48-7cf4-4e39-9de9-19797f9b38cc</td>\n",
       "      <td>660719</td>\n",
       "      <td>Landing Page Submission</td>\n",
       "      <td>Direct Traffic</td>\n",
       "      <td>No</td>\n",
       "      <td>No</td>\n",
       "      <td>0</td>\n",
       "      <td>1.0</td>\n",
       "      <td>305</td>\n",
       "      <td>1.0</td>\n",
       "      <td>Unreachable</td>\n",
       "      <td>India</td>\n",
       "      <td>Media and Advertising</td>\n",
       "      <td>Word Of Mouth</td>\n",
       "      <td>Unemployed</td>\n",
       "      <td>Better Career Prospects</td>\n",
       "      <td>No</td>\n",
       "      <td>No</td>\n",
       "      <td>No</td>\n",
       "      <td>No</td>\n",
       "      <td>No</td>\n",
       "      <td>No</td>\n",
       "      <td>No</td>\n",
       "      <td>No</td>\n",
       "      <td>Ringing</td>\n",
       "      <td>Not Sure</td>\n",
       "      <td>No</td>\n",
       "      <td>No</td>\n",
       "      <td>Select</td>\n",
       "      <td>Mumbai</td>\n",
       "      <td>02.Medium</td>\n",
       "      <td>01.High</td>\n",
       "      <td>13.0</td>\n",
       "      <td>17.0</td>\n",
       "      <td>No</td>\n",
       "      <td>No</td>\n",
       "      <td>Modified</td>\n",
       "    </tr>\n",
       "    <tr>\n",
       "      <th>4</th>\n",
       "      <td>3256f628-e534-4826-9d63-4a8b88782852</td>\n",
       "      <td>660681</td>\n",
       "      <td>Landing Page Submission</td>\n",
       "      <td>Google</td>\n",
       "      <td>No</td>\n",
       "      <td>No</td>\n",
       "      <td>1</td>\n",
       "      <td>2.0</td>\n",
       "      <td>1428</td>\n",
       "      <td>1.0</td>\n",
       "      <td>Converted to Lead</td>\n",
       "      <td>India</td>\n",
       "      <td>Select</td>\n",
       "      <td>Other</td>\n",
       "      <td>Unemployed</td>\n",
       "      <td>Better Career Prospects</td>\n",
       "      <td>No</td>\n",
       "      <td>No</td>\n",
       "      <td>No</td>\n",
       "      <td>No</td>\n",
       "      <td>No</td>\n",
       "      <td>No</td>\n",
       "      <td>No</td>\n",
       "      <td>No</td>\n",
       "      <td>Will revert after reading the email</td>\n",
       "      <td>Might be</td>\n",
       "      <td>No</td>\n",
       "      <td>No</td>\n",
       "      <td>Select</td>\n",
       "      <td>Mumbai</td>\n",
       "      <td>02.Medium</td>\n",
       "      <td>01.High</td>\n",
       "      <td>15.0</td>\n",
       "      <td>18.0</td>\n",
       "      <td>No</td>\n",
       "      <td>No</td>\n",
       "      <td>Modified</td>\n",
       "    </tr>\n",
       "  </tbody>\n",
       "</table>\n",
       "</div>"
      ],
      "text/plain": [
       "                            Prospect ID  Lead Number              Lead Origin  \\\n",
       "0  7927b2df-8bba-4d29-b9a2-b6e0beafe620       660737                      API   \n",
       "1  2a272436-5132-4136-86fa-dcc88c88f482       660728                      API   \n",
       "2  8cc8c611-a219-4f35-ad23-fdfd2656bd8a       660727  Landing Page Submission   \n",
       "3  0cc2df48-7cf4-4e39-9de9-19797f9b38cc       660719  Landing Page Submission   \n",
       "4  3256f628-e534-4826-9d63-4a8b88782852       660681  Landing Page Submission   \n",
       "\n",
       "      Lead Source Do Not Email Do Not Call  Converted  TotalVisits  \\\n",
       "0      Olark Chat           No          No          0          0.0   \n",
       "1  Organic Search           No          No          0          5.0   \n",
       "2  Direct Traffic           No          No          1          2.0   \n",
       "3  Direct Traffic           No          No          0          1.0   \n",
       "4          Google           No          No          1          2.0   \n",
       "\n",
       "   Total Time Spent on Website  Page Views Per Visit            Last Activity  \\\n",
       "0                            0                   0.0  Page Visited on Website   \n",
       "1                          674                   2.5             Email Opened   \n",
       "2                         1532                   2.0             Email Opened   \n",
       "3                          305                   1.0              Unreachable   \n",
       "4                         1428                   1.0        Converted to Lead   \n",
       "\n",
       "  Country           Specialization How did you hear about X Education  \\\n",
       "0     NaN                   Select                             Select   \n",
       "1   India                   Select                             Select   \n",
       "2   India  Business Administration                             Select   \n",
       "3   India    Media and Advertising                      Word Of Mouth   \n",
       "4   India                   Select                              Other   \n",
       "\n",
       "  What is your current occupation  \\\n",
       "0                      Unemployed   \n",
       "1                      Unemployed   \n",
       "2                         Student   \n",
       "3                      Unemployed   \n",
       "4                      Unemployed   \n",
       "\n",
       "  What matters most to you in choosing a course Search Magazine  \\\n",
       "0                       Better Career Prospects     No       No   \n",
       "1                       Better Career Prospects     No       No   \n",
       "2                       Better Career Prospects     No       No   \n",
       "3                       Better Career Prospects     No       No   \n",
       "4                       Better Career Prospects     No       No   \n",
       "\n",
       "  Newspaper Article X Education Forums Newspaper Digital Advertisement  \\\n",
       "0                No                 No        No                    No   \n",
       "1                No                 No        No                    No   \n",
       "2                No                 No        No                    No   \n",
       "3                No                 No        No                    No   \n",
       "4                No                 No        No                    No   \n",
       "\n",
       "  Through Recommendations Receive More Updates About Our Courses  \\\n",
       "0                      No                                     No   \n",
       "1                      No                                     No   \n",
       "2                      No                                     No   \n",
       "3                      No                                     No   \n",
       "4                      No                                     No   \n",
       "\n",
       "                                  Tags      Lead Quality  \\\n",
       "0          Interested in other courses  Low in Relevance   \n",
       "1                              Ringing               NaN   \n",
       "2  Will revert after reading the email          Might be   \n",
       "3                              Ringing          Not Sure   \n",
       "4  Will revert after reading the email          Might be   \n",
       "\n",
       "  Update me on Supply Chain Content Get updates on DM Content    Lead Profile  \\\n",
       "0                                No                        No          Select   \n",
       "1                                No                        No          Select   \n",
       "2                                No                        No  Potential Lead   \n",
       "3                                No                        No          Select   \n",
       "4                                No                        No          Select   \n",
       "\n",
       "     City Asymmetrique Activity Index Asymmetrique Profile Index  \\\n",
       "0  Select                   02.Medium                  02.Medium   \n",
       "1  Select                   02.Medium                  02.Medium   \n",
       "2  Mumbai                   02.Medium                    01.High   \n",
       "3  Mumbai                   02.Medium                    01.High   \n",
       "4  Mumbai                   02.Medium                    01.High   \n",
       "\n",
       "   Asymmetrique Activity Score  Asymmetrique Profile Score  \\\n",
       "0                         15.0                        15.0   \n",
       "1                         15.0                        15.0   \n",
       "2                         14.0                        20.0   \n",
       "3                         13.0                        17.0   \n",
       "4                         15.0                        18.0   \n",
       "\n",
       "  I agree to pay the amount through cheque  \\\n",
       "0                                       No   \n",
       "1                                       No   \n",
       "2                                       No   \n",
       "3                                       No   \n",
       "4                                       No   \n",
       "\n",
       "  A free copy of Mastering The Interview Last Notable Activity  \n",
       "0                                     No              Modified  \n",
       "1                                     No          Email Opened  \n",
       "2                                    Yes          Email Opened  \n",
       "3                                     No              Modified  \n",
       "4                                     No              Modified  "
      ]
     },
     "execution_count": 2,
     "metadata": {},
     "output_type": "execute_result"
    }
   ],
   "source": [
    "# Loading Data into pandas data frame\n",
    "data = pd.read_csv(\"Leads.csv\")\n",
    "# printing the top 5 rows of the data frame\n",
    "data.head()"
   ]
  },
  {
   "cell_type": "code",
   "execution_count": 3,
   "id": "bdca6553",
   "metadata": {},
   "outputs": [
    {
     "data": {
      "text/plain": [
       "(9240, 37)"
      ]
     },
     "execution_count": 3,
     "metadata": {},
     "output_type": "execute_result"
    }
   ],
   "source": [
    "# Checking for the count of rows and columns.\n",
    "data.shape"
   ]
  },
  {
   "cell_type": "code",
   "execution_count": 4,
   "id": "ed6c25c1",
   "metadata": {},
   "outputs": [
    {
     "name": "stdout",
     "output_type": "stream",
     "text": [
      "<class 'pandas.core.frame.DataFrame'>\n",
      "RangeIndex: 9240 entries, 0 to 9239\n",
      "Data columns (total 37 columns):\n",
      " #   Column                                         Non-Null Count  Dtype  \n",
      "---  ------                                         --------------  -----  \n",
      " 0   Prospect ID                                    9240 non-null   object \n",
      " 1   Lead Number                                    9240 non-null   int64  \n",
      " 2   Lead Origin                                    9240 non-null   object \n",
      " 3   Lead Source                                    9204 non-null   object \n",
      " 4   Do Not Email                                   9240 non-null   object \n",
      " 5   Do Not Call                                    9240 non-null   object \n",
      " 6   Converted                                      9240 non-null   int64  \n",
      " 7   TotalVisits                                    9103 non-null   float64\n",
      " 8   Total Time Spent on Website                    9240 non-null   int64  \n",
      " 9   Page Views Per Visit                           9103 non-null   float64\n",
      " 10  Last Activity                                  9137 non-null   object \n",
      " 11  Country                                        6779 non-null   object \n",
      " 12  Specialization                                 7802 non-null   object \n",
      " 13  How did you hear about X Education             7033 non-null   object \n",
      " 14  What is your current occupation                6550 non-null   object \n",
      " 15  What matters most to you in choosing a course  6531 non-null   object \n",
      " 16  Search                                         9240 non-null   object \n",
      " 17  Magazine                                       9240 non-null   object \n",
      " 18  Newspaper Article                              9240 non-null   object \n",
      " 19  X Education Forums                             9240 non-null   object \n",
      " 20  Newspaper                                      9240 non-null   object \n",
      " 21  Digital Advertisement                          9240 non-null   object \n",
      " 22  Through Recommendations                        9240 non-null   object \n",
      " 23  Receive More Updates About Our Courses         9240 non-null   object \n",
      " 24  Tags                                           5887 non-null   object \n",
      " 25  Lead Quality                                   4473 non-null   object \n",
      " 26  Update me on Supply Chain Content              9240 non-null   object \n",
      " 27  Get updates on DM Content                      9240 non-null   object \n",
      " 28  Lead Profile                                   6531 non-null   object \n",
      " 29  City                                           7820 non-null   object \n",
      " 30  Asymmetrique Activity Index                    5022 non-null   object \n",
      " 31  Asymmetrique Profile Index                     5022 non-null   object \n",
      " 32  Asymmetrique Activity Score                    5022 non-null   float64\n",
      " 33  Asymmetrique Profile Score                     5022 non-null   float64\n",
      " 34  I agree to pay the amount through cheque       9240 non-null   object \n",
      " 35  A free copy of Mastering The Interview         9240 non-null   object \n",
      " 36  Last Notable Activity                          9240 non-null   object \n",
      "dtypes: float64(4), int64(3), object(30)\n",
      "memory usage: 2.6+ MB\n"
     ]
    }
   ],
   "source": [
    "# printing data information with data types and non-null count for all columns\n",
    "data.info()"
   ]
  },
  {
   "cell_type": "code",
   "execution_count": 5,
   "id": "ad0ba1a8",
   "metadata": {},
   "outputs": [
    {
     "data": {
      "text/html": [
       "<div>\n",
       "<style scoped>\n",
       "    .dataframe tbody tr th:only-of-type {\n",
       "        vertical-align: middle;\n",
       "    }\n",
       "\n",
       "    .dataframe tbody tr th {\n",
       "        vertical-align: top;\n",
       "    }\n",
       "\n",
       "    .dataframe thead th {\n",
       "        text-align: right;\n",
       "    }\n",
       "</style>\n",
       "<table border=\"1\" class=\"dataframe\">\n",
       "  <thead>\n",
       "    <tr style=\"text-align: right;\">\n",
       "      <th></th>\n",
       "      <th>Lead Number</th>\n",
       "      <th>Converted</th>\n",
       "      <th>TotalVisits</th>\n",
       "      <th>Total Time Spent on Website</th>\n",
       "      <th>Page Views Per Visit</th>\n",
       "      <th>Asymmetrique Activity Score</th>\n",
       "      <th>Asymmetrique Profile Score</th>\n",
       "    </tr>\n",
       "  </thead>\n",
       "  <tbody>\n",
       "    <tr>\n",
       "      <th>count</th>\n",
       "      <td>9240.000000</td>\n",
       "      <td>9240.000000</td>\n",
       "      <td>9103.000000</td>\n",
       "      <td>9240.000000</td>\n",
       "      <td>9103.000000</td>\n",
       "      <td>5022.000000</td>\n",
       "      <td>5022.000000</td>\n",
       "    </tr>\n",
       "    <tr>\n",
       "      <th>mean</th>\n",
       "      <td>617188.435606</td>\n",
       "      <td>0.385390</td>\n",
       "      <td>3.445238</td>\n",
       "      <td>487.698268</td>\n",
       "      <td>2.362820</td>\n",
       "      <td>14.306252</td>\n",
       "      <td>16.344883</td>\n",
       "    </tr>\n",
       "    <tr>\n",
       "      <th>std</th>\n",
       "      <td>23405.995698</td>\n",
       "      <td>0.486714</td>\n",
       "      <td>4.854853</td>\n",
       "      <td>548.021466</td>\n",
       "      <td>2.161418</td>\n",
       "      <td>1.386694</td>\n",
       "      <td>1.811395</td>\n",
       "    </tr>\n",
       "    <tr>\n",
       "      <th>min</th>\n",
       "      <td>579533.000000</td>\n",
       "      <td>0.000000</td>\n",
       "      <td>0.000000</td>\n",
       "      <td>0.000000</td>\n",
       "      <td>0.000000</td>\n",
       "      <td>7.000000</td>\n",
       "      <td>11.000000</td>\n",
       "    </tr>\n",
       "    <tr>\n",
       "      <th>25%</th>\n",
       "      <td>596484.500000</td>\n",
       "      <td>0.000000</td>\n",
       "      <td>1.000000</td>\n",
       "      <td>12.000000</td>\n",
       "      <td>1.000000</td>\n",
       "      <td>14.000000</td>\n",
       "      <td>15.000000</td>\n",
       "    </tr>\n",
       "    <tr>\n",
       "      <th>50%</th>\n",
       "      <td>615479.000000</td>\n",
       "      <td>0.000000</td>\n",
       "      <td>3.000000</td>\n",
       "      <td>248.000000</td>\n",
       "      <td>2.000000</td>\n",
       "      <td>14.000000</td>\n",
       "      <td>16.000000</td>\n",
       "    </tr>\n",
       "    <tr>\n",
       "      <th>75%</th>\n",
       "      <td>637387.250000</td>\n",
       "      <td>1.000000</td>\n",
       "      <td>5.000000</td>\n",
       "      <td>936.000000</td>\n",
       "      <td>3.000000</td>\n",
       "      <td>15.000000</td>\n",
       "      <td>18.000000</td>\n",
       "    </tr>\n",
       "    <tr>\n",
       "      <th>max</th>\n",
       "      <td>660737.000000</td>\n",
       "      <td>1.000000</td>\n",
       "      <td>251.000000</td>\n",
       "      <td>2272.000000</td>\n",
       "      <td>55.000000</td>\n",
       "      <td>18.000000</td>\n",
       "      <td>20.000000</td>\n",
       "    </tr>\n",
       "  </tbody>\n",
       "</table>\n",
       "</div>"
      ],
      "text/plain": [
       "         Lead Number    Converted  TotalVisits  Total Time Spent on Website  \\\n",
       "count    9240.000000  9240.000000  9103.000000                  9240.000000   \n",
       "mean   617188.435606     0.385390     3.445238                   487.698268   \n",
       "std     23405.995698     0.486714     4.854853                   548.021466   \n",
       "min    579533.000000     0.000000     0.000000                     0.000000   \n",
       "25%    596484.500000     0.000000     1.000000                    12.000000   \n",
       "50%    615479.000000     0.000000     3.000000                   248.000000   \n",
       "75%    637387.250000     1.000000     5.000000                   936.000000   \n",
       "max    660737.000000     1.000000   251.000000                  2272.000000   \n",
       "\n",
       "       Page Views Per Visit  Asymmetrique Activity Score  \\\n",
       "count           9103.000000                  5022.000000   \n",
       "mean               2.362820                    14.306252   \n",
       "std                2.161418                     1.386694   \n",
       "min                0.000000                     7.000000   \n",
       "25%                1.000000                    14.000000   \n",
       "50%                2.000000                    14.000000   \n",
       "75%                3.000000                    15.000000   \n",
       "max               55.000000                    18.000000   \n",
       "\n",
       "       Asymmetrique Profile Score  \n",
       "count                 5022.000000  \n",
       "mean                    16.344883  \n",
       "std                      1.811395  \n",
       "min                     11.000000  \n",
       "25%                     15.000000  \n",
       "50%                     16.000000  \n",
       "75%                     18.000000  \n",
       "max                     20.000000  "
      ]
     },
     "execution_count": 5,
     "metadata": {},
     "output_type": "execute_result"
    }
   ],
   "source": [
    "# examine the numerical columns in the data frame\n",
    "data.describe()"
   ]
  },
  {
   "cell_type": "code",
   "execution_count": 6,
   "id": "aaaa6e90",
   "metadata": {},
   "outputs": [
    {
     "data": {
      "text/plain": [
       "Prospect ID                                         0\n",
       "Lead Number                                         0\n",
       "Lead Origin                                         0\n",
       "Lead Source                                        36\n",
       "Do Not Email                                        0\n",
       "Do Not Call                                         0\n",
       "Converted                                           0\n",
       "TotalVisits                                       137\n",
       "Total Time Spent on Website                         0\n",
       "Page Views Per Visit                              137\n",
       "Last Activity                                     103\n",
       "Country                                          2461\n",
       "Specialization                                   1438\n",
       "How did you hear about X Education               2207\n",
       "What is your current occupation                  2690\n",
       "What matters most to you in choosing a course    2709\n",
       "Search                                              0\n",
       "Magazine                                            0\n",
       "Newspaper Article                                   0\n",
       "X Education Forums                                  0\n",
       "Newspaper                                           0\n",
       "Digital Advertisement                               0\n",
       "Through Recommendations                             0\n",
       "Receive More Updates About Our Courses              0\n",
       "Tags                                             3353\n",
       "Lead Quality                                     4767\n",
       "Update me on Supply Chain Content                   0\n",
       "Get updates on DM Content                           0\n",
       "Lead Profile                                     2709\n",
       "City                                             1420\n",
       "Asymmetrique Activity Index                      4218\n",
       "Asymmetrique Profile Index                       4218\n",
       "Asymmetrique Activity Score                      4218\n",
       "Asymmetrique Profile Score                       4218\n",
       "I agree to pay the amount through cheque            0\n",
       "A free copy of Mastering The Interview              0\n",
       "Last Notable Activity                               0\n",
       "dtype: int64"
      ]
     },
     "execution_count": 6,
     "metadata": {},
     "output_type": "execute_result"
    }
   ],
   "source": [
    "# scanning Number of Null/Empty values in  each column\n",
    "data.isna().sum()"
   ]
  },
  {
   "cell_type": "code",
   "execution_count": 7,
   "id": "0912200d",
   "metadata": {
    "scrolled": true
   },
   "outputs": [
    {
     "data": {
      "text/plain": [
       "Prospect ID                                       0.00\n",
       "Lead Number                                       0.00\n",
       "Lead Origin                                       0.00\n",
       "Lead Source                                       0.39\n",
       "Do Not Email                                      0.00\n",
       "Do Not Call                                       0.00\n",
       "Converted                                         0.00\n",
       "TotalVisits                                       1.48\n",
       "Total Time Spent on Website                       0.00\n",
       "Page Views Per Visit                              1.48\n",
       "Last Activity                                     1.11\n",
       "Country                                          26.63\n",
       "Specialization                                   15.56\n",
       "How did you hear about X Education               23.89\n",
       "What is your current occupation                  29.11\n",
       "What matters most to you in choosing a course    29.32\n",
       "Search                                            0.00\n",
       "Magazine                                          0.00\n",
       "Newspaper Article                                 0.00\n",
       "X Education Forums                                0.00\n",
       "Newspaper                                         0.00\n",
       "Digital Advertisement                             0.00\n",
       "Through Recommendations                           0.00\n",
       "Receive More Updates About Our Courses            0.00\n",
       "Tags                                             36.29\n",
       "Lead Quality                                     51.59\n",
       "Update me on Supply Chain Content                 0.00\n",
       "Get updates on DM Content                         0.00\n",
       "Lead Profile                                     29.32\n",
       "City                                             15.37\n",
       "Asymmetrique Activity Index                      45.65\n",
       "Asymmetrique Profile Index                       45.65\n",
       "Asymmetrique Activity Score                      45.65\n",
       "Asymmetrique Profile Score                       45.65\n",
       "I agree to pay the amount through cheque          0.00\n",
       "A free copy of Mastering The Interview            0.00\n",
       "Last Notable Activity                             0.00\n",
       "dtype: float64"
      ]
     },
     "execution_count": 7,
     "metadata": {},
     "output_type": "execute_result"
    }
   ],
   "source": [
    "# Percentage of Null/Empty values in each column\n",
    "round(100*(data.isnull().sum()/len(data.index)), 2)"
   ]
  },
  {
   "cell_type": "code",
   "execution_count": 8,
   "id": "35b9c72d",
   "metadata": {},
   "outputs": [
    {
     "data": {
      "text/plain": [
       "0"
      ]
     },
     "execution_count": 8,
     "metadata": {},
     "output_type": "execute_result"
    }
   ],
   "source": [
    "# Count of Duplicated Rows in the Data Frame\n",
    "data.duplicated().sum()"
   ]
  },
  {
   "cell_type": "markdown",
   "id": "ab4e2b83",
   "metadata": {},
   "source": [
    "<h5 style = \"color:#00539CFF\">Observations:</h5>\n",
    "\n",
    "1. The data set has a total of <span style=\"color:Green\">9240 rows and 37 columns.</span> <br>\n",
    "2. The target variable is the column - Converted.<br>\n",
    "3. The columns - Country, Specialization, How did you hear about X Education, What is your current occupation, What matters most to you in choosing a course, Tags, Lead Quality, Lead Profile, City, Asymmetrique Activity Index, Asymmetrique Profile Index, Asymmetrique Activity Score, Asymmetrique Profile Score have high percentages of missing values which should be treated.<br>\n",
    "4. There are no duplicate datas available.<br>\n",
    "5. Prospect ID and Lead Number both serve the same purpose. They are both unique identifiers. We will drop Prospect ID.<br>\n",
    "6. Few columns have \"Select\" in their entries which should be changed to null.<br>\n"
   ]
  },
  {
   "cell_type": "markdown",
   "id": "7bf73480",
   "metadata": {},
   "source": [
    "<h1 style=\"color:#FA7A35;font-family:Georgia\">Data Preparation</h1>"
   ]
  },
  {
   "cell_type": "markdown",
   "id": "88f688b6",
   "metadata": {},
   "source": [
    "<h2 style=\"color:Blue;font-family:Georgia\">Renaming the columns</h2>"
   ]
  },
  {
   "cell_type": "code",
   "execution_count": 9,
   "id": "83228aba",
   "metadata": {},
   "outputs": [
    {
     "data": {
      "text/plain": [
       "Index(['Prospect ID', 'Lead Number', 'Lead Origin', 'Lead Source',\n",
       "       'Do Not Email', 'Do Not Call', 'Converted', 'TotalVisits',\n",
       "       'Total Time Spent on Website', 'Page Views Per Visit', 'Last Activity',\n",
       "       'Country', 'Specialization', 'How did you hear about X Education',\n",
       "       'What is your current occupation',\n",
       "       'What matters most to you in choosing a course', 'Search', 'Magazine',\n",
       "       'Newspaper Article', 'X Education Forums', 'Newspaper',\n",
       "       'Digital Advertisement', 'Through Recommendations',\n",
       "       'Receive More Updates About Our Courses', 'Tags', 'Lead Quality',\n",
       "       'Update me on Supply Chain Content', 'Get updates on DM Content',\n",
       "       'Lead Profile', 'City', 'Asymmetrique Activity Index',\n",
       "       'Asymmetrique Profile Index', 'Asymmetrique Activity Score',\n",
       "       'Asymmetrique Profile Score',\n",
       "       'I agree to pay the amount through cheque',\n",
       "       'A free copy of Mastering The Interview', 'Last Notable Activity'],\n",
       "      dtype='object')"
      ]
     },
     "execution_count": 9,
     "metadata": {},
     "output_type": "execute_result"
    }
   ],
   "source": [
    "# printing column names\n",
    "data.columns"
   ]
  },
  {
   "cell_type": "code",
   "execution_count": 10,
   "id": "b36c1afc",
   "metadata": {},
   "outputs": [
    {
     "data": {
      "text/plain": [
       "Index(['prospect_id', 'lead_number', 'lead_origin', 'lead_source',\n",
       "       'do_not_email', 'do_not_call', 'converted', 'totalvisits',\n",
       "       'total_time_spent_on_website', 'page_views_per_visit', 'last_activity',\n",
       "       'country', 'specialization', 'how_did_you_hear_about_x_education',\n",
       "       'what_is_your_current_occupation',\n",
       "       'what_matters_most_to_you_in_choosing_a_course', 'search', 'magazine',\n",
       "       'newspaper_article', 'x_education_forums', 'newspaper',\n",
       "       'digital_advertisement', 'through_recommendations',\n",
       "       'receive_more_updates_about_our_courses', 'tags', 'lead_quality',\n",
       "       'update_me_on_supply_chain_content', 'get_updates_on_dm_content',\n",
       "       'lead_profile', 'city', 'asymmetrique_activity_index',\n",
       "       'asymmetrique_profile_index', 'asymmetrique_activity_score',\n",
       "       'asymmetrique_profile_score',\n",
       "       'i_agree_to_pay_the_amount_through_cheque',\n",
       "       'a_free_copy_of_mastering_the_interview', 'last_notable_activity'],\n",
       "      dtype='object')"
      ]
     },
     "execution_count": 10,
     "metadata": {},
     "output_type": "execute_result"
    }
   ],
   "source": [
    "# Replacing space with _ in column names\n",
    "data.columns = data.columns.str.replace(' ', '_').str.lower()\n",
    "data.columns"
   ]
  },
  {
   "cell_type": "code",
   "execution_count": 11,
   "id": "91ec8b48",
   "metadata": {},
   "outputs": [
    {
     "data": {
      "text/plain": [
       "Index(['prospect_id', 'lead_number', 'lead_origin', 'lead_source',\n",
       "       'do_not_email', 'do_not_call', 'converted', 'total_visits',\n",
       "       'time_on_website', 'page_views_per_visit', 'last_activity', 'country',\n",
       "       'specialization', 'source', 'occupation', 'course_selection_reason',\n",
       "       'search', 'magazine', 'newspaper_article', 'x_education_forums',\n",
       "       'newspaper', 'digital_advertisement', 'through_recommendations',\n",
       "       'courses_updates', 'tags', 'lead_quality',\n",
       "       'supply_chain_content_updates', 'dm_content_updates', 'lead_profile',\n",
       "       'city', 'asymmetrique_activity_index', 'asymmetrique_profile_index',\n",
       "       'asymmetrique_activity_score', 'asymmetrique_profile_score',\n",
       "       'cheque_payment', 'mastering_interview', 'last_notable_activity'],\n",
       "      dtype='object')"
      ]
     },
     "execution_count": 11,
     "metadata": {},
     "output_type": "execute_result"
    }
   ],
   "source": [
    "# Renaming Columns for easy understanding\n",
    "data.rename(columns={'totalvisits': 'total_visits', 'total_time_spent_on_website': 'time_on_website', \n",
    "                    'how_did_you_hear_about_x_education': 'source', 'what_is_your_current_occupation': 'occupation',\n",
    "                    'what_matters_most_to_you_in_choosing_a_course' : 'course_selection_reason', \n",
    "                    'receive_more_updates_about_our_courses': 'courses_updates', \n",
    "                     'update_me_on_supply_chain_content': 'supply_chain_content_updates',\n",
    "                    'get_updates_on_dm_content': 'dm_content_updates',\n",
    "                    'i_agree_to_pay_the_amount_through_cheque': 'cheque_payment',\n",
    "                    'a_free_copy_of_mastering_the_interview': 'mastering_interview' }, inplace=True)\n",
    "data.columns"
   ]
  },
  {
   "cell_type": "markdown",
   "id": "7696c39b",
   "metadata": {},
   "source": [
    "<h2 style=\"color:Blue;font-family:Georgia\">Dealing with 'select'</h2>"
   ]
  },
  {
   "cell_type": "code",
   "execution_count": 12,
   "id": "668065a9",
   "metadata": {},
   "outputs": [],
   "source": [
    "# replacing \"select\" value to a np.NaN value\n",
    "data=data.replace('Select', np.NaN)"
   ]
  },
  {
   "cell_type": "code",
   "execution_count": 13,
   "id": "3bfa22cf",
   "metadata": {
    "scrolled": true
   },
   "outputs": [
    {
     "data": {
      "text/plain": [
       "prospect_id                      0.00\n",
       "lead_number                      0.00\n",
       "lead_origin                      0.00\n",
       "lead_source                      0.39\n",
       "do_not_email                     0.00\n",
       "do_not_call                      0.00\n",
       "converted                        0.00\n",
       "total_visits                     1.48\n",
       "time_on_website                  0.00\n",
       "page_views_per_visit             1.48\n",
       "last_activity                    1.11\n",
       "country                         26.63\n",
       "specialization                  36.58\n",
       "source                          78.46\n",
       "occupation                      29.11\n",
       "course_selection_reason         29.32\n",
       "search                           0.00\n",
       "magazine                         0.00\n",
       "newspaper_article                0.00\n",
       "x_education_forums               0.00\n",
       "newspaper                        0.00\n",
       "digital_advertisement            0.00\n",
       "through_recommendations          0.00\n",
       "courses_updates                  0.00\n",
       "tags                            36.29\n",
       "lead_quality                    51.59\n",
       "supply_chain_content_updates     0.00\n",
       "dm_content_updates               0.00\n",
       "lead_profile                    74.19\n",
       "city                            39.71\n",
       "asymmetrique_activity_index     45.65\n",
       "asymmetrique_profile_index      45.65\n",
       "asymmetrique_activity_score     45.65\n",
       "asymmetrique_profile_score      45.65\n",
       "cheque_payment                   0.00\n",
       "mastering_interview              0.00\n",
       "last_notable_activity            0.00\n",
       "dtype: float64"
      ]
     },
     "execution_count": 13,
     "metadata": {},
     "output_type": "execute_result"
    }
   ],
   "source": [
    "# Percentages of Null Values in each column\n",
    "round(100*(data.isna().sum()/len(data.index)),2)"
   ]
  },
  {
   "cell_type": "markdown",
   "id": "a8211215",
   "metadata": {},
   "source": [
    "<h5 style = \"color:#00539CFF\">Observations:</h5>\n",
    "1. there is a huge change in the percentage of null values after replacing columns containing select with Null.<br>\n",
    "2. Lead Profile, Source columns have 70 % of Null Values"
   ]
  },
  {
   "cell_type": "code",
   "execution_count": 14,
   "id": "0bf8df23",
   "metadata": {},
   "outputs": [],
   "source": [
    "#dropping prospect_id and lead_number as they are unique id's representing each row and does not add value to our analysis\n",
    "data.drop(['prospect_id','lead_number'], axis=1, inplace=True)"
   ]
  },
  {
   "cell_type": "markdown",
   "id": "bb9e1aaf",
   "metadata": {},
   "source": [
    "<h2 style=\"color:Blue;font-family:Georgia\">Dealing with Null values </h2>"
   ]
  },
  {
   "cell_type": "markdown",
   "id": "68c7fd69",
   "metadata": {},
   "source": [
    "<h5 style = \"color:#00539CFF\">Observations:</h5>\n",
    "<p> The columns source, lead_quality, lead_profile, asymmetrique_activity_index, asymmetrique_profile_index, asymmetrique_activity_score, asymmetrique_profile_score have null values more than 40% </p>"
   ]
  },
  {
   "cell_type": "markdown",
   "id": "6783fa96",
   "metadata": {},
   "source": [
    "<b> Dropping the columns which have more than 40 % of Null values"
   ]
  },
  {
   "cell_type": "code",
   "execution_count": 15,
   "id": "d694f49f",
   "metadata": {},
   "outputs": [
    {
     "data": {
      "text/plain": [
       "lead_origin                      0.00\n",
       "lead_source                      0.39\n",
       "do_not_email                     0.00\n",
       "do_not_call                      0.00\n",
       "converted                        0.00\n",
       "total_visits                     1.48\n",
       "time_on_website                  0.00\n",
       "page_views_per_visit             1.48\n",
       "last_activity                    1.11\n",
       "country                         26.63\n",
       "specialization                  36.58\n",
       "occupation                      29.11\n",
       "course_selection_reason         29.32\n",
       "search                           0.00\n",
       "magazine                         0.00\n",
       "newspaper_article                0.00\n",
       "x_education_forums               0.00\n",
       "newspaper                        0.00\n",
       "digital_advertisement            0.00\n",
       "through_recommendations          0.00\n",
       "courses_updates                  0.00\n",
       "tags                            36.29\n",
       "supply_chain_content_updates     0.00\n",
       "dm_content_updates               0.00\n",
       "city                            39.71\n",
       "cheque_payment                   0.00\n",
       "mastering_interview              0.00\n",
       "last_notable_activity            0.00\n",
       "dtype: float64"
      ]
     },
     "execution_count": 15,
     "metadata": {},
     "output_type": "execute_result"
    }
   ],
   "source": [
    "data.drop(['source', 'lead_quality', 'lead_profile', 'asymmetrique_activity_index', \n",
    "                      'asymmetrique_profile_index', 'asymmetrique_activity_score', 'asymmetrique_profile_score'], \n",
    "        axis = 1, inplace = True)\n",
    "\n",
    "(round(100*(data.isna().sum()/len(data.index)),2))"
   ]
  },
  {
   "cell_type": "markdown",
   "id": "0da80a11",
   "metadata": {},
   "source": [
    " <b>Dealing with other columns having null values </b>"
   ]
  },
  {
   "cell_type": "code",
   "execution_count": 16,
   "id": "72fdf4c3",
   "metadata": {},
   "outputs": [
    {
     "data": {
      "text/plain": [
       "count       9204\n",
       "unique        21\n",
       "top       Google\n",
       "freq        2868\n",
       "Name: lead_source, dtype: object"
      ]
     },
     "execution_count": 16,
     "metadata": {},
     "output_type": "execute_result"
    }
   ],
   "source": [
    "#lead_source , a categorical variable\n",
    "data['lead_source'].describe()"
   ]
  },
  {
   "cell_type": "code",
   "execution_count": 17,
   "id": "2efef11a",
   "metadata": {},
   "outputs": [
    {
     "data": {
      "text/plain": [
       "array(['Olark Chat', 'Organic Search', 'Direct Traffic', 'Google',\n",
       "       'Referral Sites', 'Welingak Website', 'Reference', 'google',\n",
       "       'Facebook', nan, 'blog', 'Pay per Click Ads', 'bing',\n",
       "       'Social Media', 'WeLearn', 'Click2call', 'Live Chat',\n",
       "       'welearnblog_Home', 'youtubechannel', 'testone', 'Press_Release',\n",
       "       'NC_EDM'], dtype=object)"
      ]
     },
     "execution_count": 17,
     "metadata": {},
     "output_type": "execute_result"
    }
   ],
   "source": [
    "# unique values in lead_score\n",
    "data['lead_source'].unique()"
   ]
  },
  {
   "cell_type": "code",
   "execution_count": 18,
   "id": "a612ec96",
   "metadata": {},
   "outputs": [
    {
     "data": {
      "text/plain": [
       "Google               2868\n",
       "Direct Traffic       2543\n",
       "Olark Chat           1755\n",
       "Organic Search       1154\n",
       "Reference             534\n",
       "Welingak Website      142\n",
       "Referral Sites        125\n",
       "Facebook               55\n",
       "bing                    6\n",
       "google                  5\n",
       "Click2call              4\n",
       "Press_Release           2\n",
       "Social Media            2\n",
       "Live Chat               2\n",
       "youtubechannel          1\n",
       "testone                 1\n",
       "Pay per Click Ads       1\n",
       "welearnblog_Home        1\n",
       "WeLearn                 1\n",
       "blog                    1\n",
       "NC_EDM                  1\n",
       "Name: lead_source, dtype: int64"
      ]
     },
     "execution_count": 18,
     "metadata": {},
     "output_type": "execute_result"
    }
   ],
   "source": [
    "# value counts for each unique category in lead_Score\n",
    "data['lead_source'].value_counts()"
   ]
  },
  {
   "cell_type": "code",
   "execution_count": 19,
   "id": "0edc2173",
   "metadata": {},
   "outputs": [],
   "source": [
    "#replacing null values with Google and replacing google with Google\n",
    "#replacing categories with low counts as others\n",
    "data['lead_source']=data['lead_source'].replace([np.NaN, 'google'], 'Google')\n",
    "data['lead_source']=data['lead_source'].replace(['Referral Sites','Facebook', 'bing','Click2call','Press_Release','Social Media','Live Chat','youtubechannel','testone',\n",
    "                                                'Pay per Click Ads','welearnblog_Home','WeLearn','blog','NC_EDM'], 'Others')"
   ]
  },
  {
   "cell_type": "code",
   "execution_count": 20,
   "id": "fd3b4102",
   "metadata": {},
   "outputs": [
    {
     "data": {
      "text/plain": [
       "Google              2909\n",
       "Direct Traffic      2543\n",
       "Olark Chat          1755\n",
       "Organic Search      1154\n",
       "Reference            534\n",
       "Others               203\n",
       "Welingak Website     142\n",
       "Name: lead_source, dtype: int64"
      ]
     },
     "execution_count": 20,
     "metadata": {},
     "output_type": "execute_result"
    }
   ],
   "source": [
    "# checking for value_counts\n",
    "data['lead_source'].value_counts()"
   ]
  },
  {
   "cell_type": "code",
   "execution_count": 21,
   "id": "572a0114",
   "metadata": {},
   "outputs": [
    {
     "data": {
      "text/plain": [
       "count    9103.000000\n",
       "mean        3.445238\n",
       "std         4.854853\n",
       "min         0.000000\n",
       "25%         1.000000\n",
       "50%         3.000000\n",
       "75%         5.000000\n",
       "max       251.000000\n",
       "Name: total_visits, dtype: float64"
      ]
     },
     "execution_count": 21,
     "metadata": {},
     "output_type": "execute_result"
    }
   ],
   "source": [
    "#total_visits, Numerical variable\n",
    "data['total_visits'].describe()"
   ]
  },
  {
   "cell_type": "code",
   "execution_count": 22,
   "id": "a604e856",
   "metadata": {},
   "outputs": [],
   "source": [
    "# Replacing Null Values in 'TotalVisits' with median\n",
    "data['total_visits'] = data['total_visits'].replace(np.nan, data['total_visits'].median())"
   ]
  },
  {
   "cell_type": "code",
   "execution_count": 23,
   "id": "c49a2963",
   "metadata": {},
   "outputs": [
    {
     "data": {
      "text/plain": [
       "count    9103.000000\n",
       "mean        2.362820\n",
       "std         2.161418\n",
       "min         0.000000\n",
       "25%         1.000000\n",
       "50%         2.000000\n",
       "75%         3.000000\n",
       "max        55.000000\n",
       "Name: page_views_per_visit, dtype: float64"
      ]
     },
     "execution_count": 23,
     "metadata": {},
     "output_type": "execute_result"
    }
   ],
   "source": [
    "# page_views_per_visit, Numerical variable\n",
    "data['page_views_per_visit'].describe()"
   ]
  },
  {
   "cell_type": "code",
   "execution_count": 24,
   "id": "72ab9326",
   "metadata": {},
   "outputs": [],
   "source": [
    "# Replacing Null Values in 'page_views_per_visit' with median\n",
    "data['page_views_per_visit'] = data['page_views_per_visit'].replace(np.nan, data['page_views_per_visit'].median())"
   ]
  },
  {
   "cell_type": "code",
   "execution_count": 25,
   "id": "1fa41fea",
   "metadata": {},
   "outputs": [
    {
     "data": {
      "text/plain": [
       "count    9240.000000\n",
       "mean        2.357440\n",
       "std         2.145781\n",
       "min         0.000000\n",
       "25%         1.000000\n",
       "50%         2.000000\n",
       "75%         3.000000\n",
       "max        55.000000\n",
       "Name: page_views_per_visit, dtype: float64"
      ]
     },
     "execution_count": 25,
     "metadata": {},
     "output_type": "execute_result"
    }
   ],
   "source": [
    "# page_views_per_visit, Numerical variable\n",
    "data['page_views_per_visit'].describe()"
   ]
  },
  {
   "cell_type": "code",
   "execution_count": 26,
   "id": "935de095",
   "metadata": {},
   "outputs": [
    {
     "data": {
      "text/plain": [
       "Email Opened                    3437\n",
       "SMS Sent                        2745\n",
       "Olark Chat Conversation          973\n",
       "Page Visited on Website          640\n",
       "Converted to Lead                428\n",
       "Email Bounced                    326\n",
       "Email Link Clicked               267\n",
       "Form Submitted on Website        116\n",
       "Unreachable                       93\n",
       "Unsubscribed                      61\n",
       "Had a Phone Conversation          30\n",
       "Approached upfront                 9\n",
       "View in browser link Clicked       6\n",
       "Email Received                     2\n",
       "Email Marked Spam                  2\n",
       "Visited Booth in Tradeshow         1\n",
       "Resubscribed to emails             1\n",
       "Name: last_activity, dtype: int64"
      ]
     },
     "execution_count": 26,
     "metadata": {},
     "output_type": "execute_result"
    }
   ],
   "source": [
    "#last_activity, categorical variable\n",
    "data.last_activity.value_counts()"
   ]
  },
  {
   "cell_type": "code",
   "execution_count": 27,
   "id": "b1118d83",
   "metadata": {},
   "outputs": [],
   "source": [
    "# Replacing the NA values and others with low count as Others\n",
    "data['last_activity'] = data['last_activity'].replace(np.nan, 'Email Opened')\n",
    "data['last_activity'] = data['last_activity'].replace(['Visited Booth in Tradeshow', 'Resubscribed to emails',\n",
    "                                                        'Email Marked Spam', 'Email Received',\n",
    "                                                         'View in browser link Clicked', 'Approached upfront',\n",
    "                                                         'Had a Phone Conversation', 'Unsubscribed', 'Unreachable'],\n",
    "                                                        'Others')"
   ]
  },
  {
   "cell_type": "code",
   "execution_count": 28,
   "id": "c21cd624",
   "metadata": {},
   "outputs": [
    {
     "data": {
      "text/plain": [
       "India                   6492\n",
       "United States             69\n",
       "United Arab Emirates      53\n",
       "Singapore                 24\n",
       "Saudi Arabia              21\n",
       "United Kingdom            15\n",
       "Australia                 13\n",
       "Qatar                     10\n",
       "Hong Kong                  7\n",
       "Bahrain                    7\n",
       "Oman                       6\n",
       "France                     6\n",
       "unknown                    5\n",
       "South Africa               4\n",
       "Nigeria                    4\n",
       "Germany                    4\n",
       "Kuwait                     4\n",
       "Canada                     4\n",
       "Sweden                     3\n",
       "China                      2\n",
       "Asia/Pacific Region        2\n",
       "Uganda                     2\n",
       "Bangladesh                 2\n",
       "Italy                      2\n",
       "Belgium                    2\n",
       "Netherlands                2\n",
       "Ghana                      2\n",
       "Philippines                2\n",
       "Russia                     1\n",
       "Switzerland                1\n",
       "Vietnam                    1\n",
       "Denmark                    1\n",
       "Tanzania                   1\n",
       "Liberia                    1\n",
       "Malaysia                   1\n",
       "Kenya                      1\n",
       "Sri Lanka                  1\n",
       "Indonesia                  1\n",
       "Name: country, dtype: int64"
      ]
     },
     "execution_count": 28,
     "metadata": {},
     "output_type": "execute_result"
    }
   ],
   "source": [
    "# country, Categorical variable\n",
    "data['country'].value_counts()"
   ]
  },
  {
   "cell_type": "markdown",
   "id": "79a377de",
   "metadata": {},
   "source": [
    "<h5 style = \"color:#00539CFF\">Observations:</h5>\n",
    "as it is observed from above that India is the most frequent country value, 90% of the column values contains India.\n",
    "So this column doesn't fit in modelling.\n"
   ]
  },
  {
   "cell_type": "code",
   "execution_count": 29,
   "id": "f545c92c",
   "metadata": {},
   "outputs": [],
   "source": [
    "# Dropping Country column since, more than 90% values are India or NA\n",
    "data.drop('country', axis=1, inplace=True)"
   ]
  },
  {
   "cell_type": "code",
   "execution_count": 30,
   "id": "1e239b21",
   "metadata": {},
   "outputs": [
    {
     "data": {
      "text/plain": [
       "Finance Management                   976\n",
       "Human Resource Management            848\n",
       "Marketing Management                 838\n",
       "Operations Management                503\n",
       "Business Administration              403\n",
       "IT Projects Management               366\n",
       "Supply Chain Management              349\n",
       "Banking, Investment And Insurance    338\n",
       "Travel and Tourism                   203\n",
       "Media and Advertising                203\n",
       "International Business               178\n",
       "Healthcare Management                159\n",
       "Hospitality Management               114\n",
       "E-COMMERCE                           112\n",
       "Retail Management                    100\n",
       "Rural and Agribusiness                73\n",
       "E-Business                            57\n",
       "Services Excellence                   40\n",
       "Name: specialization, dtype: int64"
      ]
     },
     "execution_count": 30,
     "metadata": {},
     "output_type": "execute_result"
    }
   ],
   "source": [
    "#specialization, Categorical Column\n",
    "data.specialization.value_counts()"
   ]
  },
  {
   "cell_type": "code",
   "execution_count": 31,
   "id": "c068a532",
   "metadata": {},
   "outputs": [],
   "source": [
    "data['specialization'] = data['specialization'].replace(np.nan, 'Not Specified')\n",
    "# Grouping values with low count in order to remove bias\n",
    "# Management Specialization\n",
    "data['specialization'] = data['specialization'].replace(['Finance Management', 'Human Resource Management',\n",
    "                                                          'Marketing Management', 'Operations Management',\n",
    "                                                          'IT Projects Management', 'Supply Chain Management',\n",
    "                                                          'Healthcare Management', 'Hospitality Management',\n",
    "                                                          'Retail Management'], 'Management Specializations')\n",
    "# Business Specialization\n",
    "data['specialization'] = data['specialization'].replace(['International Business', 'Rural and Agribusiness',\n",
    "                                                          'E-Business'], 'Business Specializations')"
   ]
  },
  {
   "cell_type": "code",
   "execution_count": 32,
   "id": "07d3ca3e",
   "metadata": {},
   "outputs": [
    {
     "data": {
      "text/plain": [
       "Unemployed              5600\n",
       "Working Professional     706\n",
       "Student                  210\n",
       "Other                     16\n",
       "Housewife                 10\n",
       "Businessman                8\n",
       "Name: occupation, dtype: int64"
      ]
     },
     "execution_count": 32,
     "metadata": {},
     "output_type": "execute_result"
    }
   ],
   "source": [
    "#occupation, categorical variable\n",
    "data.occupation.value_counts()"
   ]
  },
  {
   "cell_type": "code",
   "execution_count": 33,
   "id": "5beb4e66",
   "metadata": {},
   "outputs": [],
   "source": [
    "# replacing Null values with \"Not Specified\"\n",
    "# Replacing Businessman and Housewife with others as they are low in counts\n",
    "data['occupation'] = data['occupation'].replace(np.nan, 'Not Specified')\n",
    "data['occupation'] = data['occupation'].replace(['Housewife', 'Businessman'],'Other')"
   ]
  },
  {
   "cell_type": "code",
   "execution_count": 34,
   "id": "086e7263",
   "metadata": {},
   "outputs": [
    {
     "data": {
      "text/plain": [
       "Better Career Prospects      6528\n",
       "Flexibility & Convenience       2\n",
       "Other                           1\n",
       "Name: course_selection_reason, dtype: int64"
      ]
     },
     "execution_count": 34,
     "metadata": {},
     "output_type": "execute_result"
    }
   ],
   "source": [
    "#course_selection_reason, categorical variable\n",
    "data.course_selection_reason.value_counts()"
   ]
  },
  {
   "cell_type": "markdown",
   "id": "abfd3aa4",
   "metadata": {},
   "source": [
    "<h5 style = \"color:#00539CFF\">Observations:</h5>\n",
    "as it is observed from above that Better Career Prospects is the most frequent country value, 95% of the column values contains India.\n",
    "So this column doesn't fit in modelling."
   ]
  },
  {
   "cell_type": "code",
   "execution_count": 35,
   "id": "f1cd2f08",
   "metadata": {},
   "outputs": [],
   "source": [
    "#dropping the colum course_selection_reason as most of its data is null and the other major part is better career prospects\n",
    "data.drop('course_selection_reason', axis=1, inplace=True)"
   ]
  },
  {
   "cell_type": "code",
   "execution_count": 36,
   "id": "1a89198b",
   "metadata": {},
   "outputs": [
    {
     "data": {
      "text/plain": [
       "Will revert after reading the email                  2072\n",
       "Ringing                                              1203\n",
       "Interested in other courses                           513\n",
       "Already a student                                     465\n",
       "Closed by Horizzon                                    358\n",
       "switched off                                          240\n",
       "Busy                                                  186\n",
       "Lost to EINS                                          175\n",
       "Not doing further education                           145\n",
       "Interested  in full time MBA                          117\n",
       "Graduation in progress                                111\n",
       "invalid number                                         83\n",
       "Diploma holder (Not Eligible)                          63\n",
       "wrong number given                                     47\n",
       "opp hangup                                             33\n",
       "number not provided                                    27\n",
       "in touch with EINS                                     12\n",
       "Lost to Others                                          7\n",
       "Still Thinking                                          6\n",
       "Want to take admission but has financial problems       6\n",
       "In confusion whether part time or DLP                   5\n",
       "Interested in Next batch                                5\n",
       "Lateral student                                         3\n",
       "Shall take in the next coming month                     2\n",
       "University not recognized                               2\n",
       "Recognition issue (DEC approval)                        1\n",
       "Name: tags, dtype: int64"
      ]
     },
     "execution_count": 36,
     "metadata": {},
     "output_type": "execute_result"
    }
   ],
   "source": [
    "#tags,categorical variable\n",
    "data.tags.value_counts()"
   ]
  },
  {
   "cell_type": "code",
   "execution_count": 37,
   "id": "5cd32900",
   "metadata": {},
   "outputs": [],
   "source": [
    "# Grouping values with low count\n",
    "data['tags'] = data['tags'].replace(np.nan, 'Not Specified')\n",
    "data['tags'] = data['tags'].replace(['Recognition issue (DEC approval)', 'Shall take in the next coming month', \n",
    "                                      'University not recognized', 'Lateral student',\n",
    "                                       'In confusion whether part time or DLP', 'Interested in Next batch, Still Thinking',\n",
    "                                       'Want to take admission but has financial problems', 'Lost to Others',\n",
    "                                      'in touch with EINS', 'number not provided', 'opp hangup', 'wrong number given',\n",
    "                                      'Diploma holder (Not Eligible)', 'invalid number', 'Graduation in progress',\n",
    "                                      'Interested  in full time MBA', 'Not doing further education', 'Lost to EINS', 'Busy',\n",
    "                                      'switched off'], 'Other Tags')"
   ]
  },
  {
   "cell_type": "code",
   "execution_count": 38,
   "id": "b1a660c1",
   "metadata": {},
   "outputs": [
    {
     "data": {
      "text/plain": [
       "Mumbai                         3222\n",
       "Thane & Outskirts               752\n",
       "Other Cities                    686\n",
       "Other Cities of Maharashtra     457\n",
       "Other Metro Cities              380\n",
       "Tier II Cities                   74\n",
       "Name: city, dtype: int64"
      ]
     },
     "execution_count": 38,
     "metadata": {},
     "output_type": "execute_result"
    }
   ],
   "source": [
    "#city, categorical variable\n",
    "data.city.value_counts()"
   ]
  },
  {
   "cell_type": "code",
   "execution_count": 39,
   "id": "3195426b",
   "metadata": {},
   "outputs": [],
   "source": [
    "# Dropping the City column as most entries are Mumbai or not known\n",
    "data.drop('city', axis=1,inplace=True)"
   ]
  },
  {
   "cell_type": "code",
   "execution_count": 40,
   "id": "7f4f1d25",
   "metadata": {},
   "outputs": [
    {
     "data": {
      "text/plain": [
       "lead_origin                     0.0\n",
       "lead_source                     0.0\n",
       "do_not_email                    0.0\n",
       "do_not_call                     0.0\n",
       "converted                       0.0\n",
       "total_visits                    0.0\n",
       "time_on_website                 0.0\n",
       "page_views_per_visit            0.0\n",
       "last_activity                   0.0\n",
       "specialization                  0.0\n",
       "occupation                      0.0\n",
       "search                          0.0\n",
       "magazine                        0.0\n",
       "newspaper_article               0.0\n",
       "x_education_forums              0.0\n",
       "newspaper                       0.0\n",
       "digital_advertisement           0.0\n",
       "through_recommendations         0.0\n",
       "courses_updates                 0.0\n",
       "tags                            0.0\n",
       "supply_chain_content_updates    0.0\n",
       "dm_content_updates              0.0\n",
       "cheque_payment                  0.0\n",
       "mastering_interview             0.0\n",
       "last_notable_activity           0.0\n",
       "dtype: float64"
      ]
     },
     "execution_count": 40,
     "metadata": {},
     "output_type": "execute_result"
    }
   ],
   "source": [
    "(round(100*(data.isna().sum()/len(data.index)),2))"
   ]
  },
  {
   "cell_type": "markdown",
   "id": "e61a18bb",
   "metadata": {},
   "source": [
    "<b> checking the other variables"
   ]
  },
  {
   "cell_type": "code",
   "execution_count": 41,
   "id": "886d4e05",
   "metadata": {},
   "outputs": [
    {
     "data": {
      "text/plain": [
       "No     9238\n",
       "Yes       2\n",
       "Name: do_not_call, dtype: int64"
      ]
     },
     "execution_count": 41,
     "metadata": {},
     "output_type": "execute_result"
    }
   ],
   "source": [
    "# do_not_call              \n",
    "data.do_not_call.value_counts()"
   ]
  },
  {
   "cell_type": "code",
   "execution_count": 42,
   "id": "480ff6d0",
   "metadata": {},
   "outputs": [
    {
     "data": {
      "text/plain": [
       "No     9226\n",
       "Yes      14\n",
       "Name: search, dtype: int64"
      ]
     },
     "execution_count": 42,
     "metadata": {},
     "output_type": "execute_result"
    }
   ],
   "source": [
    "# Search column\n",
    "data.search.value_counts()"
   ]
  },
  {
   "cell_type": "code",
   "execution_count": 43,
   "id": "903baa88",
   "metadata": {},
   "outputs": [
    {
     "data": {
      "text/plain": [
       "No    9240\n",
       "Name: magazine, dtype: int64"
      ]
     },
     "execution_count": 43,
     "metadata": {},
     "output_type": "execute_result"
    }
   ],
   "source": [
    "# magazine column\n",
    "data.magazine.value_counts()"
   ]
  },
  {
   "cell_type": "code",
   "execution_count": 44,
   "id": "db472715",
   "metadata": {},
   "outputs": [
    {
     "data": {
      "text/plain": [
       "No     9238\n",
       "Yes       2\n",
       "Name: newspaper_article, dtype: int64"
      ]
     },
     "execution_count": 44,
     "metadata": {},
     "output_type": "execute_result"
    }
   ],
   "source": [
    "# Newspaper_article\n",
    "data.newspaper_article.value_counts()"
   ]
  },
  {
   "cell_type": "code",
   "execution_count": 45,
   "id": "ab71f32c",
   "metadata": {},
   "outputs": [
    {
     "data": {
      "text/plain": [
       "No     9239\n",
       "Yes       1\n",
       "Name: x_education_forums, dtype: int64"
      ]
     },
     "execution_count": 45,
     "metadata": {},
     "output_type": "execute_result"
    }
   ],
   "source": [
    "# x_education_forums\n",
    "data.x_education_forums.value_counts()"
   ]
  },
  {
   "cell_type": "code",
   "execution_count": 46,
   "id": "63bceeb1",
   "metadata": {},
   "outputs": [
    {
     "data": {
      "text/plain": [
       "No     9239\n",
       "Yes       1\n",
       "Name: newspaper, dtype: int64"
      ]
     },
     "execution_count": 46,
     "metadata": {},
     "output_type": "execute_result"
    }
   ],
   "source": [
    "# newspaper\n",
    "data.newspaper.value_counts()"
   ]
  },
  {
   "cell_type": "code",
   "execution_count": 47,
   "id": "0f151dc6",
   "metadata": {},
   "outputs": [
    {
     "data": {
      "text/plain": [
       "No     9236\n",
       "Yes       4\n",
       "Name: digital_advertisement, dtype: int64"
      ]
     },
     "execution_count": 47,
     "metadata": {},
     "output_type": "execute_result"
    }
   ],
   "source": [
    "# digital_adverstisement \n",
    "data.digital_advertisement.value_counts()"
   ]
  },
  {
   "cell_type": "code",
   "execution_count": 48,
   "id": "51fcce6e",
   "metadata": {},
   "outputs": [
    {
     "data": {
      "text/plain": [
       "No     9233\n",
       "Yes       7\n",
       "Name: through_recommendations, dtype: int64"
      ]
     },
     "execution_count": 48,
     "metadata": {},
     "output_type": "execute_result"
    }
   ],
   "source": [
    "# through_recommendations\n",
    "data.through_recommendations.value_counts()"
   ]
  },
  {
   "cell_type": "code",
   "execution_count": 49,
   "id": "e58cb748",
   "metadata": {},
   "outputs": [
    {
     "data": {
      "text/plain": [
       "No    9240\n",
       "Name: courses_updates, dtype: int64"
      ]
     },
     "execution_count": 49,
     "metadata": {},
     "output_type": "execute_result"
    }
   ],
   "source": [
    "# courses_updates\n",
    "data.courses_updates.value_counts()"
   ]
  },
  {
   "cell_type": "code",
   "execution_count": 50,
   "id": "e3c3677f",
   "metadata": {},
   "outputs": [
    {
     "data": {
      "text/plain": [
       "No    9240\n",
       "Name: supply_chain_content_updates, dtype: int64"
      ]
     },
     "execution_count": 50,
     "metadata": {},
     "output_type": "execute_result"
    }
   ],
   "source": [
    "# supply_chain_content_updates\n",
    "data.supply_chain_content_updates.value_counts()"
   ]
  },
  {
   "cell_type": "code",
   "execution_count": 51,
   "id": "77cd4b41",
   "metadata": {},
   "outputs": [
    {
     "data": {
      "text/plain": [
       "No    9240\n",
       "Name: dm_content_updates, dtype: int64"
      ]
     },
     "execution_count": 51,
     "metadata": {},
     "output_type": "execute_result"
    }
   ],
   "source": [
    "# dm_content_updates\n",
    "data.dm_content_updates.value_counts()"
   ]
  },
  {
   "cell_type": "code",
   "execution_count": 52,
   "id": "16f530f7",
   "metadata": {},
   "outputs": [
    {
     "data": {
      "text/plain": [
       "No    9240\n",
       "Name: cheque_payment, dtype: int64"
      ]
     },
     "execution_count": 52,
     "metadata": {},
     "output_type": "execute_result"
    }
   ],
   "source": [
    "# cheque_payment\n",
    "data.cheque_payment.value_counts()"
   ]
  },
  {
   "cell_type": "code",
   "execution_count": 53,
   "id": "bced5324",
   "metadata": {},
   "outputs": [
    {
     "data": {
      "text/plain": [
       "Modified                        3407\n",
       "Email Opened                    2827\n",
       "SMS Sent                        2172\n",
       "Page Visited on Website          318\n",
       "Olark Chat Conversation          183\n",
       "Email Link Clicked               173\n",
       "Email Bounced                     60\n",
       "Unsubscribed                      47\n",
       "Unreachable                       32\n",
       "Had a Phone Conversation          14\n",
       "Email Marked Spam                  2\n",
       "Approached upfront                 1\n",
       "Resubscribed to emails             1\n",
       "View in browser link Clicked       1\n",
       "Form Submitted on Website          1\n",
       "Email Received                     1\n",
       "Name: last_notable_activity, dtype: int64"
      ]
     },
     "execution_count": 53,
     "metadata": {},
     "output_type": "execute_result"
    }
   ],
   "source": [
    "# last_notable_activity\n",
    "data.last_notable_activity.value_counts()"
   ]
  },
  {
   "cell_type": "code",
   "execution_count": 54,
   "id": "81854b9a",
   "metadata": {},
   "outputs": [],
   "source": [
    "#replacing the values with low counts to others\n",
    "data.last_notable_activity=data.last_notable_activity.replace(['Email Bounced','Unsubscribed','Page Visited on Website',\n",
    "                                                               'Olark Chat Conversation','Unreachable','Had a Phone Conversation',\n",
    "                                                               'Email Marked Spam', 'Approached upfront','Resubscribed to emails',\n",
    "                                                               'View in browser link Clicked','Form Submitted on Website','Email Received',\n",
    "                                                              'Email Link Clicked'],'Others')"
   ]
  },
  {
   "cell_type": "code",
   "execution_count": 55,
   "id": "68e4040e",
   "metadata": {},
   "outputs": [
    {
     "data": {
      "text/plain": [
       "Modified        3407\n",
       "Email Opened    2827\n",
       "SMS Sent        2172\n",
       "Others           834\n",
       "Name: last_notable_activity, dtype: int64"
      ]
     },
     "execution_count": 55,
     "metadata": {},
     "output_type": "execute_result"
    }
   ],
   "source": [
    "data.last_notable_activity.value_counts()"
   ]
  },
  {
   "cell_type": "markdown",
   "id": "a98d0147",
   "metadata": {},
   "source": [
    "<h5 style = \"color:#00539CFF\">Observations:</h5> <br>\n",
    " As it is Observed that  'do_not_call','search','magazine','newspaper_article','x_education_forums','newspaper','digital_advertisement',\n",
    "'through_recommendations','courses_updates', 'supply_chain_content_updates','dm_content_updates','cheque_payment' have most of the column values are either Yes / No.\n",
    "Dropping these Columns as it doesnt fit in Modelling"
   ]
  },
  {
   "cell_type": "code",
   "execution_count": 56,
   "id": "8e1e8aa6",
   "metadata": {},
   "outputs": [],
   "source": [
    "drop_cln=['do_not_call','search','magazine','newspaper_article','x_education_forums','newspaper','digital_advertisement',\n",
    "         'through_recommendations','courses_updates', 'supply_chain_content_updates','dm_content_updates','cheque_payment']"
   ]
  },
  {
   "cell_type": "code",
   "execution_count": 57,
   "id": "d3a0bc76",
   "metadata": {},
   "outputs": [],
   "source": [
    "data.drop(drop_cln,axis=1, inplace=True)"
   ]
  },
  {
   "cell_type": "code",
   "execution_count": 58,
   "id": "d1db8ca6",
   "metadata": {},
   "outputs": [
    {
     "data": {
      "text/plain": [
       "Index(['lead_origin', 'lead_source', 'do_not_email', 'converted',\n",
       "       'total_visits', 'time_on_website', 'page_views_per_visit',\n",
       "       'last_activity', 'specialization', 'occupation', 'tags',\n",
       "       'mastering_interview', 'last_notable_activity'],\n",
       "      dtype='object')"
      ]
     },
     "execution_count": 58,
     "metadata": {},
     "output_type": "execute_result"
    }
   ],
   "source": [
    "data.columns"
   ]
  },
  {
   "cell_type": "markdown",
   "id": "f64d795e",
   "metadata": {},
   "source": [
    "<h2 style=\"color:Blue;font-family:Georgia\">Dealing with outliers</h2>"
   ]
  },
  {
   "cell_type": "code",
   "execution_count": 59,
   "id": "72aa263f",
   "metadata": {},
   "outputs": [
    {
     "data": {
      "text/html": [
       "<div>\n",
       "<style scoped>\n",
       "    .dataframe tbody tr th:only-of-type {\n",
       "        vertical-align: middle;\n",
       "    }\n",
       "\n",
       "    .dataframe tbody tr th {\n",
       "        vertical-align: top;\n",
       "    }\n",
       "\n",
       "    .dataframe thead th {\n",
       "        text-align: right;\n",
       "    }\n",
       "</style>\n",
       "<table border=\"1\" class=\"dataframe\">\n",
       "  <thead>\n",
       "    <tr style=\"text-align: right;\">\n",
       "      <th></th>\n",
       "      <th>converted</th>\n",
       "      <th>total_visits</th>\n",
       "      <th>time_on_website</th>\n",
       "      <th>page_views_per_visit</th>\n",
       "    </tr>\n",
       "  </thead>\n",
       "  <tbody>\n",
       "    <tr>\n",
       "      <th>count</th>\n",
       "      <td>9240.000000</td>\n",
       "      <td>9240.000000</td>\n",
       "      <td>9240.000000</td>\n",
       "      <td>9240.000000</td>\n",
       "    </tr>\n",
       "    <tr>\n",
       "      <th>mean</th>\n",
       "      <td>0.385390</td>\n",
       "      <td>3.438636</td>\n",
       "      <td>487.698268</td>\n",
       "      <td>2.357440</td>\n",
       "    </tr>\n",
       "    <tr>\n",
       "      <th>std</th>\n",
       "      <td>0.486714</td>\n",
       "      <td>4.819024</td>\n",
       "      <td>548.021466</td>\n",
       "      <td>2.145781</td>\n",
       "    </tr>\n",
       "    <tr>\n",
       "      <th>min</th>\n",
       "      <td>0.000000</td>\n",
       "      <td>0.000000</td>\n",
       "      <td>0.000000</td>\n",
       "      <td>0.000000</td>\n",
       "    </tr>\n",
       "    <tr>\n",
       "      <th>25%</th>\n",
       "      <td>0.000000</td>\n",
       "      <td>1.000000</td>\n",
       "      <td>12.000000</td>\n",
       "      <td>1.000000</td>\n",
       "    </tr>\n",
       "    <tr>\n",
       "      <th>50%</th>\n",
       "      <td>0.000000</td>\n",
       "      <td>3.000000</td>\n",
       "      <td>248.000000</td>\n",
       "      <td>2.000000</td>\n",
       "    </tr>\n",
       "    <tr>\n",
       "      <th>75%</th>\n",
       "      <td>1.000000</td>\n",
       "      <td>5.000000</td>\n",
       "      <td>936.000000</td>\n",
       "      <td>3.000000</td>\n",
       "    </tr>\n",
       "    <tr>\n",
       "      <th>max</th>\n",
       "      <td>1.000000</td>\n",
       "      <td>251.000000</td>\n",
       "      <td>2272.000000</td>\n",
       "      <td>55.000000</td>\n",
       "    </tr>\n",
       "  </tbody>\n",
       "</table>\n",
       "</div>"
      ],
      "text/plain": [
       "         converted  total_visits  time_on_website  page_views_per_visit\n",
       "count  9240.000000   9240.000000      9240.000000           9240.000000\n",
       "mean      0.385390      3.438636       487.698268              2.357440\n",
       "std       0.486714      4.819024       548.021466              2.145781\n",
       "min       0.000000      0.000000         0.000000              0.000000\n",
       "25%       0.000000      1.000000        12.000000              1.000000\n",
       "50%       0.000000      3.000000       248.000000              2.000000\n",
       "75%       1.000000      5.000000       936.000000              3.000000\n",
       "max       1.000000    251.000000      2272.000000             55.000000"
      ]
     },
     "execution_count": 59,
     "metadata": {},
     "output_type": "execute_result"
    }
   ],
   "source": [
    "# Numerical Variables\n",
    "data.describe()"
   ]
  },
  {
   "cell_type": "code",
   "execution_count": 60,
   "id": "e299f83b",
   "metadata": {},
   "outputs": [
    {
     "data": {
      "image/png": "[encoded data removed]",
      "text/plain": [
       "<Figure size 432x288 with 1 Axes>"
      ]
     },
     "metadata": {},
     "output_type": "display_data"
    }
   ],
   "source": [
    "# Plotting converted column\n",
    "sns.boxplot(y=data.converted)\n",
    "plt.show()"
   ]
  },
  {
   "cell_type": "code",
   "execution_count": 61,
   "id": "4f8a4dc0",
   "metadata": {},
   "outputs": [
    {
     "data": {
      "text/plain": [
       "count    9240.000000\n",
       "mean        0.385390\n",
       "std         0.486714\n",
       "min         0.000000\n",
       "25%         0.000000\n",
       "50%         0.000000\n",
       "75%         1.000000\n",
       "max         1.000000\n",
       "Name: converted, dtype: float64"
      ]
     },
     "execution_count": 61,
     "metadata": {},
     "output_type": "execute_result"
    }
   ],
   "source": [
    "# describe the converted column\n",
    "data.converted.describe()"
   ]
  },
  {
   "cell_type": "code",
   "execution_count": 62,
   "id": "4b8c5304",
   "metadata": {},
   "outputs": [
    {
     "data": {
      "image/png": "[encoded data removed]",
      "text/plain": [
       "<Figure size 432x288 with 1 Axes>"
      ]
     },
     "metadata": {},
     "output_type": "display_data"
    }
   ],
   "source": [
    "# total_visits column\n",
    "sns.boxplot(y=data.total_visits)\n",
    "plt.show()"
   ]
  },
  {
   "cell_type": "code",
   "execution_count": 63,
   "id": "5a564b4a",
   "metadata": {},
   "outputs": [
    {
     "data": {
      "image/png": "[encoded data removed]",
      "text/plain": [
       "<Figure size 432x288 with 1 Axes>"
      ]
     },
     "metadata": {},
     "output_type": "display_data"
    }
   ],
   "source": [
    "# Removing the top 1% of the value to handle outliers\n",
    "data = data[(data['total_visits'] <= data['total_visits'].quantile(0.98))]\n",
    "sns.boxplot(y = data['total_visits'])\n",
    "plt.show()"
   ]
  },
  {
   "cell_type": "code",
   "execution_count": 64,
   "id": "6d9b0e93",
   "metadata": {},
   "outputs": [
    {
     "data": {
      "image/png": "[encoded data removed]",
      "text/plain": [
       "<Figure size 432x288 with 1 Axes>"
      ]
     },
     "metadata": {},
     "output_type": "display_data"
    }
   ],
   "source": [
    "#time_on_website\n",
    "sns.boxplot(y=data.time_on_website)\n",
    "plt.show()"
   ]
  },
  {
   "cell_type": "code",
   "execution_count": 65,
   "id": "45c59dd5",
   "metadata": {},
   "outputs": [
    {
     "data": {
      "image/png": "[encoded data removed]",
      "text/plain": [
       "<Figure size 432x288 with 1 Axes>"
      ]
     },
     "metadata": {},
     "output_type": "display_data"
    }
   ],
   "source": [
    "#page_views_per_visit\n",
    "sns.boxplot(y=data.page_views_per_visit)\n",
    "plt.show()"
   ]
  },
  {
   "cell_type": "code",
   "execution_count": 66,
   "id": "1766773e",
   "metadata": {},
   "outputs": [
    {
     "data": {
      "image/png": "[encoded data removed]",
      "text/plain": [
       "<Figure size 432x288 with 1 Axes>"
      ]
     },
     "metadata": {},
     "output_type": "display_data"
    }
   ],
   "source": [
    "# Removing the top 1% of the value to handle outliers\n",
    "data = data[(data['page_views_per_visit'] <= data['page_views_per_visit'].quantile(0.98))]\n",
    "sns.boxplot(y = data['page_views_per_visit'])\n",
    "plt.show()"
   ]
  },
  {
   "cell_type": "markdown",
   "id": "664a2a0e",
   "metadata": {},
   "source": [
    "<h2 style=\"color:Blue;font-family:Georgia\">Univariate analysis</h2>"
   ]
  },
  {
   "cell_type": "code",
   "execution_count": 67,
   "id": "73042d07",
   "metadata": {},
   "outputs": [
    {
     "data": {
      "text/html": [
       "<div>\n",
       "<style scoped>\n",
       "    .dataframe tbody tr th:only-of-type {\n",
       "        vertical-align: middle;\n",
       "    }\n",
       "\n",
       "    .dataframe tbody tr th {\n",
       "        vertical-align: top;\n",
       "    }\n",
       "\n",
       "    .dataframe thead th {\n",
       "        text-align: right;\n",
       "    }\n",
       "</style>\n",
       "<table border=\"1\" class=\"dataframe\">\n",
       "  <thead>\n",
       "    <tr style=\"text-align: right;\">\n",
       "      <th></th>\n",
       "      <th>lead_origin</th>\n",
       "      <th>lead_source</th>\n",
       "      <th>do_not_email</th>\n",
       "      <th>converted</th>\n",
       "      <th>total_visits</th>\n",
       "      <th>time_on_website</th>\n",
       "      <th>page_views_per_visit</th>\n",
       "      <th>last_activity</th>\n",
       "      <th>specialization</th>\n",
       "      <th>occupation</th>\n",
       "      <th>tags</th>\n",
       "      <th>mastering_interview</th>\n",
       "      <th>last_notable_activity</th>\n",
       "    </tr>\n",
       "  </thead>\n",
       "  <tbody>\n",
       "    <tr>\n",
       "      <th>0</th>\n",
       "      <td>API</td>\n",
       "      <td>Olark Chat</td>\n",
       "      <td>No</td>\n",
       "      <td>0</td>\n",
       "      <td>0.0</td>\n",
       "      <td>0</td>\n",
       "      <td>0.0</td>\n",
       "      <td>Page Visited on Website</td>\n",
       "      <td>Not Specified</td>\n",
       "      <td>Unemployed</td>\n",
       "      <td>Interested in other courses</td>\n",
       "      <td>No</td>\n",
       "      <td>Modified</td>\n",
       "    </tr>\n",
       "    <tr>\n",
       "      <th>1</th>\n",
       "      <td>API</td>\n",
       "      <td>Organic Search</td>\n",
       "      <td>No</td>\n",
       "      <td>0</td>\n",
       "      <td>5.0</td>\n",
       "      <td>674</td>\n",
       "      <td>2.5</td>\n",
       "      <td>Email Opened</td>\n",
       "      <td>Not Specified</td>\n",
       "      <td>Unemployed</td>\n",
       "      <td>Ringing</td>\n",
       "      <td>No</td>\n",
       "      <td>Email Opened</td>\n",
       "    </tr>\n",
       "    <tr>\n",
       "      <th>2</th>\n",
       "      <td>Landing Page Submission</td>\n",
       "      <td>Direct Traffic</td>\n",
       "      <td>No</td>\n",
       "      <td>1</td>\n",
       "      <td>2.0</td>\n",
       "      <td>1532</td>\n",
       "      <td>2.0</td>\n",
       "      <td>Email Opened</td>\n",
       "      <td>Business Administration</td>\n",
       "      <td>Student</td>\n",
       "      <td>Will revert after reading the email</td>\n",
       "      <td>Yes</td>\n",
       "      <td>Email Opened</td>\n",
       "    </tr>\n",
       "    <tr>\n",
       "      <th>3</th>\n",
       "      <td>Landing Page Submission</td>\n",
       "      <td>Direct Traffic</td>\n",
       "      <td>No</td>\n",
       "      <td>0</td>\n",
       "      <td>1.0</td>\n",
       "      <td>305</td>\n",
       "      <td>1.0</td>\n",
       "      <td>Others</td>\n",
       "      <td>Media and Advertising</td>\n",
       "      <td>Unemployed</td>\n",
       "      <td>Ringing</td>\n",
       "      <td>No</td>\n",
       "      <td>Modified</td>\n",
       "    </tr>\n",
       "    <tr>\n",
       "      <th>4</th>\n",
       "      <td>Landing Page Submission</td>\n",
       "      <td>Google</td>\n",
       "      <td>No</td>\n",
       "      <td>1</td>\n",
       "      <td>2.0</td>\n",
       "      <td>1428</td>\n",
       "      <td>1.0</td>\n",
       "      <td>Converted to Lead</td>\n",
       "      <td>Not Specified</td>\n",
       "      <td>Unemployed</td>\n",
       "      <td>Will revert after reading the email</td>\n",
       "      <td>No</td>\n",
       "      <td>Modified</td>\n",
       "    </tr>\n",
       "  </tbody>\n",
       "</table>\n",
       "</div>"
      ],
      "text/plain": [
       "               lead_origin     lead_source do_not_email  converted  \\\n",
       "0                      API      Olark Chat           No          0   \n",
       "1                      API  Organic Search           No          0   \n",
       "2  Landing Page Submission  Direct Traffic           No          1   \n",
       "3  Landing Page Submission  Direct Traffic           No          0   \n",
       "4  Landing Page Submission          Google           No          1   \n",
       "\n",
       "   total_visits  time_on_website  page_views_per_visit  \\\n",
       "0           0.0                0                   0.0   \n",
       "1           5.0              674                   2.5   \n",
       "2           2.0             1532                   2.0   \n",
       "3           1.0              305                   1.0   \n",
       "4           2.0             1428                   1.0   \n",
       "\n",
       "             last_activity           specialization  occupation  \\\n",
       "0  Page Visited on Website            Not Specified  Unemployed   \n",
       "1             Email Opened            Not Specified  Unemployed   \n",
       "2             Email Opened  Business Administration     Student   \n",
       "3                   Others    Media and Advertising  Unemployed   \n",
       "4        Converted to Lead            Not Specified  Unemployed   \n",
       "\n",
       "                                  tags mastering_interview  \\\n",
       "0          Interested in other courses                  No   \n",
       "1                              Ringing                  No   \n",
       "2  Will revert after reading the email                 Yes   \n",
       "3                              Ringing                  No   \n",
       "4  Will revert after reading the email                  No   \n",
       "\n",
       "  last_notable_activity  \n",
       "0              Modified  \n",
       "1          Email Opened  \n",
       "2          Email Opened  \n",
       "3              Modified  \n",
       "4              Modified  "
      ]
     },
     "execution_count": 67,
     "metadata": {},
     "output_type": "execute_result"
    }
   ],
   "source": [
    "data.head()"
   ]
  },
  {
   "cell_type": "code",
   "execution_count": 68,
   "id": "88265e80",
   "metadata": {},
   "outputs": [],
   "source": [
    "# changing the columns 'do_not_email' and 'mastering_interview' having yes/no to 1/0\n",
    "def data_map(x):\n",
    "    return x.map({'Yes': 1, 'No':0})\n",
    "\n",
    "temp_list = ['do_not_email', 'mastering_interview']\n",
    "\n",
    "# Applying the above custom function\n",
    "\n",
    "data[temp_list] = data[temp_list].apply(data_map)"
   ]
  },
  {
   "cell_type": "code",
   "execution_count": 69,
   "id": "d1355d5b",
   "metadata": {},
   "outputs": [
    {
     "data": {
      "text/html": [
       "<div>\n",
       "<style scoped>\n",
       "    .dataframe tbody tr th:only-of-type {\n",
       "        vertical-align: middle;\n",
       "    }\n",
       "\n",
       "    .dataframe tbody tr th {\n",
       "        vertical-align: top;\n",
       "    }\n",
       "\n",
       "    .dataframe thead th {\n",
       "        text-align: right;\n",
       "    }\n",
       "</style>\n",
       "<table border=\"1\" class=\"dataframe\">\n",
       "  <thead>\n",
       "    <tr style=\"text-align: right;\">\n",
       "      <th></th>\n",
       "      <th>lead_origin</th>\n",
       "      <th>lead_source</th>\n",
       "      <th>do_not_email</th>\n",
       "      <th>converted</th>\n",
       "      <th>total_visits</th>\n",
       "      <th>time_on_website</th>\n",
       "      <th>page_views_per_visit</th>\n",
       "      <th>last_activity</th>\n",
       "      <th>specialization</th>\n",
       "      <th>occupation</th>\n",
       "      <th>tags</th>\n",
       "      <th>mastering_interview</th>\n",
       "      <th>last_notable_activity</th>\n",
       "    </tr>\n",
       "  </thead>\n",
       "  <tbody>\n",
       "    <tr>\n",
       "      <th>0</th>\n",
       "      <td>API</td>\n",
       "      <td>Olark Chat</td>\n",
       "      <td>0</td>\n",
       "      <td>0</td>\n",
       "      <td>0.0</td>\n",
       "      <td>0</td>\n",
       "      <td>0.0</td>\n",
       "      <td>Page Visited on Website</td>\n",
       "      <td>Not Specified</td>\n",
       "      <td>Unemployed</td>\n",
       "      <td>Interested in other courses</td>\n",
       "      <td>0</td>\n",
       "      <td>Modified</td>\n",
       "    </tr>\n",
       "    <tr>\n",
       "      <th>1</th>\n",
       "      <td>API</td>\n",
       "      <td>Organic Search</td>\n",
       "      <td>0</td>\n",
       "      <td>0</td>\n",
       "      <td>5.0</td>\n",
       "      <td>674</td>\n",
       "      <td>2.5</td>\n",
       "      <td>Email Opened</td>\n",
       "      <td>Not Specified</td>\n",
       "      <td>Unemployed</td>\n",
       "      <td>Ringing</td>\n",
       "      <td>0</td>\n",
       "      <td>Email Opened</td>\n",
       "    </tr>\n",
       "    <tr>\n",
       "      <th>2</th>\n",
       "      <td>Landing Page Submission</td>\n",
       "      <td>Direct Traffic</td>\n",
       "      <td>0</td>\n",
       "      <td>1</td>\n",
       "      <td>2.0</td>\n",
       "      <td>1532</td>\n",
       "      <td>2.0</td>\n",
       "      <td>Email Opened</td>\n",
       "      <td>Business Administration</td>\n",
       "      <td>Student</td>\n",
       "      <td>Will revert after reading the email</td>\n",
       "      <td>1</td>\n",
       "      <td>Email Opened</td>\n",
       "    </tr>\n",
       "    <tr>\n",
       "      <th>3</th>\n",
       "      <td>Landing Page Submission</td>\n",
       "      <td>Direct Traffic</td>\n",
       "      <td>0</td>\n",
       "      <td>0</td>\n",
       "      <td>1.0</td>\n",
       "      <td>305</td>\n",
       "      <td>1.0</td>\n",
       "      <td>Others</td>\n",
       "      <td>Media and Advertising</td>\n",
       "      <td>Unemployed</td>\n",
       "      <td>Ringing</td>\n",
       "      <td>0</td>\n",
       "      <td>Modified</td>\n",
       "    </tr>\n",
       "    <tr>\n",
       "      <th>4</th>\n",
       "      <td>Landing Page Submission</td>\n",
       "      <td>Google</td>\n",
       "      <td>0</td>\n",
       "      <td>1</td>\n",
       "      <td>2.0</td>\n",
       "      <td>1428</td>\n",
       "      <td>1.0</td>\n",
       "      <td>Converted to Lead</td>\n",
       "      <td>Not Specified</td>\n",
       "      <td>Unemployed</td>\n",
       "      <td>Will revert after reading the email</td>\n",
       "      <td>0</td>\n",
       "      <td>Modified</td>\n",
       "    </tr>\n",
       "  </tbody>\n",
       "</table>\n",
       "</div>"
      ],
      "text/plain": [
       "               lead_origin     lead_source  do_not_email  converted  \\\n",
       "0                      API      Olark Chat             0          0   \n",
       "1                      API  Organic Search             0          0   \n",
       "2  Landing Page Submission  Direct Traffic             0          1   \n",
       "3  Landing Page Submission  Direct Traffic             0          0   \n",
       "4  Landing Page Submission          Google             0          1   \n",
       "\n",
       "   total_visits  time_on_website  page_views_per_visit  \\\n",
       "0           0.0                0                   0.0   \n",
       "1           5.0              674                   2.5   \n",
       "2           2.0             1532                   2.0   \n",
       "3           1.0              305                   1.0   \n",
       "4           2.0             1428                   1.0   \n",
       "\n",
       "             last_activity           specialization  occupation  \\\n",
       "0  Page Visited on Website            Not Specified  Unemployed   \n",
       "1             Email Opened            Not Specified  Unemployed   \n",
       "2             Email Opened  Business Administration     Student   \n",
       "3                   Others    Media and Advertising  Unemployed   \n",
       "4        Converted to Lead            Not Specified  Unemployed   \n",
       "\n",
       "                                  tags  mastering_interview  \\\n",
       "0          Interested in other courses                    0   \n",
       "1                              Ringing                    0   \n",
       "2  Will revert after reading the email                    1   \n",
       "3                              Ringing                    0   \n",
       "4  Will revert after reading the email                    0   \n",
       "\n",
       "  last_notable_activity  \n",
       "0              Modified  \n",
       "1          Email Opened  \n",
       "2          Email Opened  \n",
       "3              Modified  \n",
       "4              Modified  "
      ]
     },
     "execution_count": 69,
     "metadata": {},
     "output_type": "execute_result"
    }
   ],
   "source": [
    "data.head()"
   ]
  },
  {
   "cell_type": "markdown",
   "id": "42228eb9",
   "metadata": {},
   "source": [
    "<h3> Univariate Analysis for Categorical variables</h3>"
   ]
  },
  {
   "cell_type": "code",
   "execution_count": 70,
   "id": "7ebf7ef0",
   "metadata": {},
   "outputs": [],
   "source": [
    "#function for plotting the columns\n",
    "def univar_analysis(col):\n",
    "    plt.figure(figsize=(15, 5))\n",
    "    ax = sns.countplot(x = col, hue = data.converted, data=data)\n",
    "    \n",
    "    for p in ax.patches:\n",
    "        width = p.get_width()\n",
    "        height = p.get_height()\n",
    "        x, y = p.get_xy() \n",
    "        ax.annotate(f'{height}', (x + width/2, y + height*1.02), ha='center')\n",
    "    \n",
    "    plt.xticks(rotation = 90)\n",
    "    plt.show()"
   ]
  },
  {
   "cell_type": "code",
   "execution_count": 71,
   "id": "2f9f141e",
   "metadata": {},
   "outputs": [
    {
     "data": {
      "image/png": "[encoded data removed]",
      "text/plain": [
       "<Figure size 1080x360 with 1 Axes>"
      ]
     },
     "metadata": {},
     "output_type": "display_data"
    }
   ],
   "source": [
    "# plotting count plot for lead_origin\n",
    "univar_analysis('lead_origin')"
   ]
  },
  {
   "cell_type": "markdown",
   "id": "3cb11470",
   "metadata": {},
   "source": [
    "<h5 style = \"color:#00539CFF\">Observations:</h5> <br>Customers identified via Lead Add Form tend to have a high rate of conversion\n"
   ]
  },
  {
   "cell_type": "code",
   "execution_count": 72,
   "id": "25734aed",
   "metadata": {
    "scrolled": true
   },
   "outputs": [
    {
     "data": {
      "image/png": "[encoded data removed]",
      "text/plain": [
       "<Figure size 1080x360 with 1 Axes>"
      ]
     },
     "metadata": {},
     "output_type": "display_data"
    }
   ],
   "source": [
    "#lead_source\n",
    "univar_analysis('lead_source')"
   ]
  },
  {
   "cell_type": "markdown",
   "id": "1dd64032",
   "metadata": {},
   "source": [
    "<h5 style = \"color:#00539CFF\">Observations:</h5>\n",
    "1. Source of Lead via Google and Direct Traffic have high negative conversion as compared to others.<br>\n",
    "2. Leads coming via Reference have the highest conversion rate.\n"
   ]
  },
  {
   "cell_type": "code",
   "execution_count": 73,
   "id": "b05b5e2b",
   "metadata": {
    "scrolled": true
   },
   "outputs": [
    {
     "data": {
      "image/png": "[encoded data removed]",
      "text/plain": [
       "<Figure size 1080x360 with 1 Axes>"
      ]
     },
     "metadata": {},
     "output_type": "display_data"
    }
   ],
   "source": [
    "#do_not_email\n",
    "univar_analysis('do_not_email')"
   ]
  },
  {
   "cell_type": "code",
   "execution_count": null,
   "id": "8f59fb57",
   "metadata": {},
   "outputs": [],
   "source": []
  },
  {
   "cell_type": "code",
   "execution_count": 74,
   "id": "9554f399",
   "metadata": {},
   "outputs": [
    {
     "data": {
      "image/png": "[encoded data removed]",
      "text/plain": [
       "<Figure size 1080x360 with 1 Axes>"
      ]
     },
     "metadata": {},
     "output_type": "display_data"
    }
   ],
   "source": [
    "#last_activity\n",
    "univar_analysis('last_activity')"
   ]
  },
  {
   "cell_type": "markdown",
   "id": "cad5599c",
   "metadata": {},
   "source": [
    "<h5 style = \"color:#00539CFF\">Observations:</h5>\n",
    "1. Last Activity performed by Customers is SMS sent, then it has conversion of 1727.\n"
   ]
  },
  {
   "cell_type": "code",
   "execution_count": 75,
   "id": "027b31b4",
   "metadata": {},
   "outputs": [
    {
     "data": {
      "image/png": "[encoded data removed]",
      "text/plain": [
       "<Figure size 1080x360 with 1 Axes>"
      ]
     },
     "metadata": {},
     "output_type": "display_data"
    }
   ],
   "source": [
    "#specialization\n",
    "univar_analysis('specialization')"
   ]
  },
  {
   "cell_type": "markdown",
   "id": "b2d8bc0c",
   "metadata": {},
   "source": [
    "<h5 style = \"color:#00539CFF\">Observations:</h5>\n",
    "1. Customers who worked in Management Specialization have conversion of 1922. <br>\n",
    "2. Customers who worked in Service have the least conversion."
   ]
  },
  {
   "cell_type": "code",
   "execution_count": 76,
   "id": "7be2d4da",
   "metadata": {},
   "outputs": [
    {
     "data": {
      "image/png": "[encoded data removed]",
      "text/plain": [
       "<Figure size 1080x360 with 1 Axes>"
      ]
     },
     "metadata": {},
     "output_type": "display_data"
    }
   ],
   "source": [
    "#occupation\n",
    "univar_analysis('occupation')"
   ]
  },
  {
   "cell_type": "markdown",
   "id": "d9c8384c",
   "metadata": {},
   "source": [
    "<h5 style = \"color:#00539CFF\">Observations:</h5>\n",
    "1. It is interesting to know that out of 5600, only 2441 converted. <br>\n",
    "2. From 706 Working Professionals, 647 converted."
   ]
  },
  {
   "cell_type": "code",
   "execution_count": 77,
   "id": "2bd01669",
   "metadata": {},
   "outputs": [
    {
     "data": {
      "image/png": "[encoded data removed]",
      "text/plain": [
       "<Figure size 1080x360 with 1 Axes>"
      ]
     },
     "metadata": {},
     "output_type": "display_data"
    }
   ],
   "source": [
    "#tags\n",
    "univar_analysis('tags')"
   ]
  },
  {
   "cell_type": "markdown",
   "id": "28549a63",
   "metadata": {},
   "source": [
    "<h5 style = \"color:#00539CFF\">Observations:</h5>\n",
    "1. email revert showed high rate of conversion."
   ]
  },
  {
   "cell_type": "code",
   "execution_count": 78,
   "id": "ee7959cd",
   "metadata": {},
   "outputs": [
    {
     "data": {
      "image/png": "[encoded data removed]",
      "text/plain": [
       "<Figure size 1080x360 with 1 Axes>"
      ]
     },
     "metadata": {},
     "output_type": "display_data"
    }
   ],
   "source": [
    "#mastering_interview\n",
    "univar_analysis('mastering_interview')"
   ]
  },
  {
   "cell_type": "code",
   "execution_count": 79,
   "id": "f793f482",
   "metadata": {},
   "outputs": [
    {
     "data": {
      "image/png": "[encoded data removed]",
      "text/plain": [
       "<Figure size 1080x360 with 1 Axes>"
      ]
     },
     "metadata": {},
     "output_type": "display_data"
    }
   ],
   "source": [
    "#last_notable_activity\n",
    "univar_analysis('last_notable_activity')"
   ]
  },
  {
   "cell_type": "markdown",
   "id": "566a5acf",
   "metadata": {},
   "source": [
    "<h5 style = \"color:#00539CFF\">Observations:</h5>\n",
    "1. For individuals with Last Notable activity as SMS sent, 1457 people converted. <br>\n",
    "2. For individuals with Last Notable activity as Email opened , 997 people converted. "
   ]
  },
  {
   "cell_type": "markdown",
   "id": "bd540553",
   "metadata": {},
   "source": [
    "<h2 style=\"color:Blue;font-family:Georgia\">Correlation</h2>"
   ]
  },
  {
   "cell_type": "code",
   "execution_count": 80,
   "id": "cfce42db",
   "metadata": {},
   "outputs": [
    {
     "data": {
      "image/png": "[encoded data removed]",
      "text/plain": [
       "<Figure size 720x720 with 2 Axes>"
      ]
     },
     "metadata": {},
     "output_type": "display_data"
    }
   ],
   "source": [
    "# plotting a correlation values using sns\n",
    "plt.figure(figsize = (10,10))\n",
    "sns.heatmap(data.corr(), annot = True, cmap= 'Reds')\n",
    "plt.show()"
   ]
  },
  {
   "cell_type": "markdown",
   "id": "b9cba99d",
   "metadata": {},
   "source": [
    "<h5 style = \"color:#00539CFF\">Observations:</h5>\n",
    "1. total_visits and  page_views_per_visit shows highest correlation of 0.77."
   ]
  },
  {
   "cell_type": "markdown",
   "id": "b4b142de",
   "metadata": {},
   "source": [
    "<h1 style=\"color:#FA7A35;font-family:Georgia\">Dummy Variables</h1>"
   ]
  },
  {
   "cell_type": "code",
   "execution_count": 81,
   "id": "e0812d25",
   "metadata": {},
   "outputs": [
    {
     "name": "stdout",
     "output_type": "stream",
     "text": [
      "<class 'pandas.core.frame.DataFrame'>\n",
      "Int64Index: 8887 entries, 0 to 9239\n",
      "Data columns (total 13 columns):\n",
      " #   Column                 Non-Null Count  Dtype  \n",
      "---  ------                 --------------  -----  \n",
      " 0   lead_origin            8887 non-null   object \n",
      " 1   lead_source            8887 non-null   object \n",
      " 2   do_not_email           8887 non-null   int64  \n",
      " 3   converted              8887 non-null   int64  \n",
      " 4   total_visits           8887 non-null   float64\n",
      " 5   time_on_website        8887 non-null   int64  \n",
      " 6   page_views_per_visit   8887 non-null   float64\n",
      " 7   last_activity          8887 non-null   object \n",
      " 8   specialization         8887 non-null   object \n",
      " 9   occupation             8887 non-null   object \n",
      " 10  tags                   8887 non-null   object \n",
      " 11  mastering_interview    8887 non-null   int64  \n",
      " 12  last_notable_activity  8887 non-null   object \n",
      "dtypes: float64(2), int64(4), object(7)\n",
      "memory usage: 972.0+ KB\n"
     ]
    }
   ],
   "source": [
    "data.info()"
   ]
  },
  {
   "cell_type": "code",
   "execution_count": 82,
   "id": "636dcc18",
   "metadata": {},
   "outputs": [
    {
     "data": {
      "text/plain": [
       "Index(['lead_origin', 'lead_source', 'last_activity', 'specialization',\n",
       "       'occupation', 'tags', 'last_notable_activity'],\n",
       "      dtype='object')"
      ]
     },
     "execution_count": 82,
     "metadata": {},
     "output_type": "execute_result"
    }
   ],
   "source": [
    "cat_cols = data.select_dtypes(include = 'object').columns\n",
    "cat_cols"
   ]
  },
  {
   "cell_type": "code",
   "execution_count": 83,
   "id": "ede05867",
   "metadata": {},
   "outputs": [
    {
     "data": {
      "text/html": [
       "<div>\n",
       "<style scoped>\n",
       "    .dataframe tbody tr th:only-of-type {\n",
       "        vertical-align: middle;\n",
       "    }\n",
       "\n",
       "    .dataframe tbody tr th {\n",
       "        vertical-align: top;\n",
       "    }\n",
       "\n",
       "    .dataframe thead th {\n",
       "        text-align: right;\n",
       "    }\n",
       "</style>\n",
       "<table border=\"1\" class=\"dataframe\">\n",
       "  <thead>\n",
       "    <tr style=\"text-align: right;\">\n",
       "      <th></th>\n",
       "      <th>lead_origin</th>\n",
       "      <th>lead_source</th>\n",
       "      <th>do_not_email</th>\n",
       "      <th>converted</th>\n",
       "      <th>total_visits</th>\n",
       "      <th>time_on_website</th>\n",
       "      <th>page_views_per_visit</th>\n",
       "      <th>last_activity</th>\n",
       "      <th>specialization</th>\n",
       "      <th>occupation</th>\n",
       "      <th>tags</th>\n",
       "      <th>mastering_interview</th>\n",
       "      <th>last_notable_activity</th>\n",
       "    </tr>\n",
       "  </thead>\n",
       "  <tbody>\n",
       "    <tr>\n",
       "      <th>0</th>\n",
       "      <td>API</td>\n",
       "      <td>Olark Chat</td>\n",
       "      <td>0</td>\n",
       "      <td>0</td>\n",
       "      <td>0.0</td>\n",
       "      <td>0</td>\n",
       "      <td>0.0</td>\n",
       "      <td>Page Visited on Website</td>\n",
       "      <td>Not Specified</td>\n",
       "      <td>Unemployed</td>\n",
       "      <td>Interested in other courses</td>\n",
       "      <td>0</td>\n",
       "      <td>Modified</td>\n",
       "    </tr>\n",
       "    <tr>\n",
       "      <th>1</th>\n",
       "      <td>API</td>\n",
       "      <td>Organic Search</td>\n",
       "      <td>0</td>\n",
       "      <td>0</td>\n",
       "      <td>5.0</td>\n",
       "      <td>674</td>\n",
       "      <td>2.5</td>\n",
       "      <td>Email Opened</td>\n",
       "      <td>Not Specified</td>\n",
       "      <td>Unemployed</td>\n",
       "      <td>Ringing</td>\n",
       "      <td>0</td>\n",
       "      <td>Email Opened</td>\n",
       "    </tr>\n",
       "    <tr>\n",
       "      <th>2</th>\n",
       "      <td>Landing Page Submission</td>\n",
       "      <td>Direct Traffic</td>\n",
       "      <td>0</td>\n",
       "      <td>1</td>\n",
       "      <td>2.0</td>\n",
       "      <td>1532</td>\n",
       "      <td>2.0</td>\n",
       "      <td>Email Opened</td>\n",
       "      <td>Business Administration</td>\n",
       "      <td>Student</td>\n",
       "      <td>Will revert after reading the email</td>\n",
       "      <td>1</td>\n",
       "      <td>Email Opened</td>\n",
       "    </tr>\n",
       "    <tr>\n",
       "      <th>3</th>\n",
       "      <td>Landing Page Submission</td>\n",
       "      <td>Direct Traffic</td>\n",
       "      <td>0</td>\n",
       "      <td>0</td>\n",
       "      <td>1.0</td>\n",
       "      <td>305</td>\n",
       "      <td>1.0</td>\n",
       "      <td>Others</td>\n",
       "      <td>Media and Advertising</td>\n",
       "      <td>Unemployed</td>\n",
       "      <td>Ringing</td>\n",
       "      <td>0</td>\n",
       "      <td>Modified</td>\n",
       "    </tr>\n",
       "    <tr>\n",
       "      <th>4</th>\n",
       "      <td>Landing Page Submission</td>\n",
       "      <td>Google</td>\n",
       "      <td>0</td>\n",
       "      <td>1</td>\n",
       "      <td>2.0</td>\n",
       "      <td>1428</td>\n",
       "      <td>1.0</td>\n",
       "      <td>Converted to Lead</td>\n",
       "      <td>Not Specified</td>\n",
       "      <td>Unemployed</td>\n",
       "      <td>Will revert after reading the email</td>\n",
       "      <td>0</td>\n",
       "      <td>Modified</td>\n",
       "    </tr>\n",
       "  </tbody>\n",
       "</table>\n",
       "</div>"
      ],
      "text/plain": [
       "               lead_origin     lead_source  do_not_email  converted  \\\n",
       "0                      API      Olark Chat             0          0   \n",
       "1                      API  Organic Search             0          0   \n",
       "2  Landing Page Submission  Direct Traffic             0          1   \n",
       "3  Landing Page Submission  Direct Traffic             0          0   \n",
       "4  Landing Page Submission          Google             0          1   \n",
       "\n",
       "   total_visits  time_on_website  page_views_per_visit  \\\n",
       "0           0.0                0                   0.0   \n",
       "1           5.0              674                   2.5   \n",
       "2           2.0             1532                   2.0   \n",
       "3           1.0              305                   1.0   \n",
       "4           2.0             1428                   1.0   \n",
       "\n",
       "             last_activity           specialization  occupation  \\\n",
       "0  Page Visited on Website            Not Specified  Unemployed   \n",
       "1             Email Opened            Not Specified  Unemployed   \n",
       "2             Email Opened  Business Administration     Student   \n",
       "3                   Others    Media and Advertising  Unemployed   \n",
       "4        Converted to Lead            Not Specified  Unemployed   \n",
       "\n",
       "                                  tags  mastering_interview  \\\n",
       "0          Interested in other courses                    0   \n",
       "1                              Ringing                    0   \n",
       "2  Will revert after reading the email                    1   \n",
       "3                              Ringing                    0   \n",
       "4  Will revert after reading the email                    0   \n",
       "\n",
       "  last_notable_activity  \n",
       "0              Modified  \n",
       "1          Email Opened  \n",
       "2          Email Opened  \n",
       "3              Modified  \n",
       "4              Modified  "
      ]
     },
     "execution_count": 83,
     "metadata": {},
     "output_type": "execute_result"
    }
   ],
   "source": [
    "data.head()"
   ]
  },
  {
   "cell_type": "code",
   "execution_count": 84,
   "id": "8dee4ab5",
   "metadata": {},
   "outputs": [],
   "source": [
    "# lead_origin\n",
    "lead_origin = pd.get_dummies(data['lead_origin'], prefix = 'lead_origin')\n",
    "lead_origin = lead_origin.drop('lead_origin_Quick Add Form', axis = 1)\n",
    "data = pd.concat([data, lead_origin], axis = 1)"
   ]
  },
  {
   "cell_type": "code",
   "execution_count": 85,
   "id": "8e139695",
   "metadata": {},
   "outputs": [],
   "source": [
    "# lead_source            \n",
    "lead_source = pd.get_dummies(data['lead_source'], prefix = 'lead_source')\n",
    "lead_source = lead_source.drop('lead_source_Others', axis = 1)\n",
    "data = pd.concat([data, lead_source], axis = 1)"
   ]
  },
  {
   "cell_type": "code",
   "execution_count": 86,
   "id": "e15b9106",
   "metadata": {},
   "outputs": [],
   "source": [
    "# last_activity          \n",
    "last_activity = pd.get_dummies(data['last_activity'], prefix = 'last_activity')\n",
    "last_activity = last_activity.drop('last_activity_Others', axis = 1)\n",
    "data = pd.concat([data, last_activity], axis = 1)"
   ]
  },
  {
   "cell_type": "code",
   "execution_count": 87,
   "id": "18dbefc0",
   "metadata": {},
   "outputs": [],
   "source": [
    "# specialization\n",
    "specialization = pd.get_dummies(data['specialization'], prefix = 'specialization')\n",
    "specialization = specialization.drop('specialization_Not Specified', axis = 1)\n",
    "data = pd.concat([data, specialization], axis = 1)"
   ]
  },
  {
   "cell_type": "code",
   "execution_count": 88,
   "id": "f016ab31",
   "metadata": {},
   "outputs": [],
   "source": [
    "# occupation\n",
    "occupation=pd.get_dummies(data.occupation, prefix='occupation')\n",
    "occupation=occupation.drop('occupation_Other', axis=1)\n",
    "data=pd.concat([data, occupation], axis=1)"
   ]
  },
  {
   "cell_type": "code",
   "execution_count": 89,
   "id": "865bb7ce",
   "metadata": {},
   "outputs": [],
   "source": [
    "#tags\n",
    "tags=pd.get_dummies(data.tags, prefix='tags')\n",
    "tags=tags.drop('tags_Not Specified', axis=1)\n",
    "data=pd.concat([data, tags], axis=1)"
   ]
  },
  {
   "cell_type": "code",
   "execution_count": 90,
   "id": "528dc461",
   "metadata": {},
   "outputs": [],
   "source": [
    "#last_notable_activity\n",
    "last_notable_activity=pd.get_dummies(data.last_notable_activity, prefix='last_notable_activity')\n",
    "last_notable_activity=last_notable_activity.drop('last_notable_activity_Others', axis=1)\n",
    "data=pd.concat([data, last_notable_activity], axis=1)"
   ]
  },
  {
   "cell_type": "code",
   "execution_count": 91,
   "id": "8777f196",
   "metadata": {},
   "outputs": [],
   "source": [
    "data=data.drop(cat_cols, axis=1)"
   ]
  },
  {
   "cell_type": "code",
   "execution_count": 92,
   "id": "4c2e6d53",
   "metadata": {},
   "outputs": [
    {
     "data": {
      "text/plain": [
       "Index(['do_not_email', 'converted', 'total_visits', 'time_on_website',\n",
       "       'page_views_per_visit', 'mastering_interview', 'lead_origin_API',\n",
       "       'lead_origin_Landing Page Submission', 'lead_origin_Lead Add Form',\n",
       "       'lead_origin_Lead Import', 'lead_source_Direct Traffic',\n",
       "       'lead_source_Google', 'lead_source_Olark Chat',\n",
       "       'lead_source_Organic Search', 'lead_source_Reference',\n",
       "       'lead_source_Welingak Website', 'last_activity_Converted to Lead',\n",
       "       'last_activity_Email Bounced', 'last_activity_Email Link Clicked',\n",
       "       'last_activity_Email Opened', 'last_activity_Form Submitted on Website',\n",
       "       'last_activity_Olark Chat Conversation',\n",
       "       'last_activity_Page Visited on Website', 'last_activity_SMS Sent',\n",
       "       'specialization_Banking, Investment And Insurance',\n",
       "       'specialization_Business Administration',\n",
       "       'specialization_Business Specializations', 'specialization_E-COMMERCE',\n",
       "       'specialization_Management Specializations',\n",
       "       'specialization_Media and Advertising',\n",
       "       'specialization_Services Excellence',\n",
       "       'specialization_Travel and Tourism', 'occupation_Not Specified',\n",
       "       'occupation_Student', 'occupation_Unemployed',\n",
       "       'occupation_Working Professional', 'tags_Already a student',\n",
       "       'tags_Closed by Horizzon', 'tags_Interested in Next batch',\n",
       "       'tags_Interested in other courses', 'tags_Other Tags', 'tags_Ringing',\n",
       "       'tags_Still Thinking', 'tags_Will revert after reading the email',\n",
       "       'last_notable_activity_Email Opened', 'last_notable_activity_Modified',\n",
       "       'last_notable_activity_SMS Sent'],\n",
       "      dtype='object')"
      ]
     },
     "execution_count": 92,
     "metadata": {},
     "output_type": "execute_result"
    }
   ],
   "source": [
    "data.columns"
   ]
  },
  {
   "cell_type": "markdown",
   "id": "6e367068",
   "metadata": {},
   "source": [
    "<h1 style=\"color:#FA7A35;font-family:Georgia\">Model Building</h1>"
   ]
  },
  {
   "cell_type": "markdown",
   "id": "27fb8ec9",
   "metadata": {},
   "source": [
    "<h2 style=\"color:Blue;font-family:Georgia\">Splitting data into Train and Test</h2>"
   ]
  },
  {
   "cell_type": "code",
   "execution_count": 93,
   "id": "72caeec9",
   "metadata": {},
   "outputs": [],
   "source": [
    "Y=data.converted\n",
    "X=data.drop('converted', axis=1)"
   ]
  },
  {
   "cell_type": "code",
   "execution_count": 94,
   "id": "a99205d1",
   "metadata": {},
   "outputs": [],
   "source": [
    "X_train, X_test, y_train, y_test = train_test_split(X, Y, train_size= 0.70, random_state= 100)"
   ]
  },
  {
   "cell_type": "code",
   "execution_count": 95,
   "id": "c97dcd52",
   "metadata": {},
   "outputs": [
    {
     "data": {
      "text/html": [
       "<div>\n",
       "<style scoped>\n",
       "    .dataframe tbody tr th:only-of-type {\n",
       "        vertical-align: middle;\n",
       "    }\n",
       "\n",
       "    .dataframe tbody tr th {\n",
       "        vertical-align: top;\n",
       "    }\n",
       "\n",
       "    .dataframe thead th {\n",
       "        text-align: right;\n",
       "    }\n",
       "</style>\n",
       "<table border=\"1\" class=\"dataframe\">\n",
       "  <thead>\n",
       "    <tr style=\"text-align: right;\">\n",
       "      <th></th>\n",
       "      <th>do_not_email</th>\n",
       "      <th>total_visits</th>\n",
       "      <th>time_on_website</th>\n",
       "      <th>page_views_per_visit</th>\n",
       "      <th>mastering_interview</th>\n",
       "      <th>lead_origin_API</th>\n",
       "      <th>lead_origin_Landing Page Submission</th>\n",
       "      <th>lead_origin_Lead Add Form</th>\n",
       "      <th>lead_origin_Lead Import</th>\n",
       "      <th>lead_source_Direct Traffic</th>\n",
       "      <th>lead_source_Google</th>\n",
       "      <th>lead_source_Olark Chat</th>\n",
       "      <th>lead_source_Organic Search</th>\n",
       "      <th>lead_source_Reference</th>\n",
       "      <th>lead_source_Welingak Website</th>\n",
       "      <th>last_activity_Converted to Lead</th>\n",
       "      <th>last_activity_Email Bounced</th>\n",
       "      <th>last_activity_Email Link Clicked</th>\n",
       "      <th>last_activity_Email Opened</th>\n",
       "      <th>last_activity_Form Submitted on Website</th>\n",
       "      <th>last_activity_Olark Chat Conversation</th>\n",
       "      <th>last_activity_Page Visited on Website</th>\n",
       "      <th>last_activity_SMS Sent</th>\n",
       "      <th>specialization_Banking, Investment And Insurance</th>\n",
       "      <th>specialization_Business Administration</th>\n",
       "      <th>specialization_Business Specializations</th>\n",
       "      <th>specialization_E-COMMERCE</th>\n",
       "      <th>specialization_Management Specializations</th>\n",
       "      <th>specialization_Media and Advertising</th>\n",
       "      <th>specialization_Services Excellence</th>\n",
       "      <th>specialization_Travel and Tourism</th>\n",
       "      <th>occupation_Not Specified</th>\n",
       "      <th>occupation_Student</th>\n",
       "      <th>occupation_Unemployed</th>\n",
       "      <th>occupation_Working Professional</th>\n",
       "      <th>tags_Already a student</th>\n",
       "      <th>tags_Closed by Horizzon</th>\n",
       "      <th>tags_Interested in Next batch</th>\n",
       "      <th>tags_Interested in other courses</th>\n",
       "      <th>tags_Other Tags</th>\n",
       "      <th>tags_Ringing</th>\n",
       "      <th>tags_Still Thinking</th>\n",
       "      <th>tags_Will revert after reading the email</th>\n",
       "      <th>last_notable_activity_Email Opened</th>\n",
       "      <th>last_notable_activity_Modified</th>\n",
       "      <th>last_notable_activity_SMS Sent</th>\n",
       "    </tr>\n",
       "  </thead>\n",
       "  <tbody>\n",
       "    <tr>\n",
       "      <th>601</th>\n",
       "      <td>0</td>\n",
       "      <td>3.0</td>\n",
       "      <td>345</td>\n",
       "      <td>2.0</td>\n",
       "      <td>0</td>\n",
       "      <td>0</td>\n",
       "      <td>0</td>\n",
       "      <td>0</td>\n",
       "      <td>1</td>\n",
       "      <td>0</td>\n",
       "      <td>0</td>\n",
       "      <td>0</td>\n",
       "      <td>0</td>\n",
       "      <td>0</td>\n",
       "      <td>0</td>\n",
       "      <td>0</td>\n",
       "      <td>0</td>\n",
       "      <td>0</td>\n",
       "      <td>1</td>\n",
       "      <td>0</td>\n",
       "      <td>0</td>\n",
       "      <td>0</td>\n",
       "      <td>0</td>\n",
       "      <td>0</td>\n",
       "      <td>0</td>\n",
       "      <td>0</td>\n",
       "      <td>0</td>\n",
       "      <td>0</td>\n",
       "      <td>0</td>\n",
       "      <td>0</td>\n",
       "      <td>0</td>\n",
       "      <td>0</td>\n",
       "      <td>0</td>\n",
       "      <td>1</td>\n",
       "      <td>0</td>\n",
       "      <td>0</td>\n",
       "      <td>0</td>\n",
       "      <td>0</td>\n",
       "      <td>0</td>\n",
       "      <td>0</td>\n",
       "      <td>1</td>\n",
       "      <td>0</td>\n",
       "      <td>0</td>\n",
       "      <td>0</td>\n",
       "      <td>1</td>\n",
       "      <td>0</td>\n",
       "    </tr>\n",
       "    <tr>\n",
       "      <th>1488</th>\n",
       "      <td>0</td>\n",
       "      <td>1.0</td>\n",
       "      <td>993</td>\n",
       "      <td>1.0</td>\n",
       "      <td>1</td>\n",
       "      <td>0</td>\n",
       "      <td>1</td>\n",
       "      <td>0</td>\n",
       "      <td>0</td>\n",
       "      <td>1</td>\n",
       "      <td>0</td>\n",
       "      <td>0</td>\n",
       "      <td>0</td>\n",
       "      <td>0</td>\n",
       "      <td>0</td>\n",
       "      <td>1</td>\n",
       "      <td>0</td>\n",
       "      <td>0</td>\n",
       "      <td>0</td>\n",
       "      <td>0</td>\n",
       "      <td>0</td>\n",
       "      <td>0</td>\n",
       "      <td>0</td>\n",
       "      <td>0</td>\n",
       "      <td>0</td>\n",
       "      <td>0</td>\n",
       "      <td>0</td>\n",
       "      <td>1</td>\n",
       "      <td>0</td>\n",
       "      <td>0</td>\n",
       "      <td>0</td>\n",
       "      <td>0</td>\n",
       "      <td>0</td>\n",
       "      <td>0</td>\n",
       "      <td>1</td>\n",
       "      <td>0</td>\n",
       "      <td>0</td>\n",
       "      <td>0</td>\n",
       "      <td>0</td>\n",
       "      <td>0</td>\n",
       "      <td>0</td>\n",
       "      <td>0</td>\n",
       "      <td>1</td>\n",
       "      <td>0</td>\n",
       "      <td>1</td>\n",
       "      <td>0</td>\n",
       "    </tr>\n",
       "    <tr>\n",
       "      <th>4099</th>\n",
       "      <td>0</td>\n",
       "      <td>1.0</td>\n",
       "      <td>526</td>\n",
       "      <td>1.0</td>\n",
       "      <td>0</td>\n",
       "      <td>0</td>\n",
       "      <td>1</td>\n",
       "      <td>0</td>\n",
       "      <td>0</td>\n",
       "      <td>1</td>\n",
       "      <td>0</td>\n",
       "      <td>0</td>\n",
       "      <td>0</td>\n",
       "      <td>0</td>\n",
       "      <td>0</td>\n",
       "      <td>1</td>\n",
       "      <td>0</td>\n",
       "      <td>0</td>\n",
       "      <td>0</td>\n",
       "      <td>0</td>\n",
       "      <td>0</td>\n",
       "      <td>0</td>\n",
       "      <td>0</td>\n",
       "      <td>0</td>\n",
       "      <td>0</td>\n",
       "      <td>0</td>\n",
       "      <td>0</td>\n",
       "      <td>0</td>\n",
       "      <td>0</td>\n",
       "      <td>0</td>\n",
       "      <td>0</td>\n",
       "      <td>0</td>\n",
       "      <td>1</td>\n",
       "      <td>0</td>\n",
       "      <td>0</td>\n",
       "      <td>0</td>\n",
       "      <td>0</td>\n",
       "      <td>0</td>\n",
       "      <td>0</td>\n",
       "      <td>0</td>\n",
       "      <td>0</td>\n",
       "      <td>0</td>\n",
       "      <td>0</td>\n",
       "      <td>0</td>\n",
       "      <td>1</td>\n",
       "      <td>0</td>\n",
       "    </tr>\n",
       "    <tr>\n",
       "      <th>1201</th>\n",
       "      <td>0</td>\n",
       "      <td>2.0</td>\n",
       "      <td>918</td>\n",
       "      <td>2.0</td>\n",
       "      <td>0</td>\n",
       "      <td>0</td>\n",
       "      <td>1</td>\n",
       "      <td>0</td>\n",
       "      <td>0</td>\n",
       "      <td>1</td>\n",
       "      <td>0</td>\n",
       "      <td>0</td>\n",
       "      <td>0</td>\n",
       "      <td>0</td>\n",
       "      <td>0</td>\n",
       "      <td>0</td>\n",
       "      <td>0</td>\n",
       "      <td>1</td>\n",
       "      <td>0</td>\n",
       "      <td>0</td>\n",
       "      <td>0</td>\n",
       "      <td>0</td>\n",
       "      <td>0</td>\n",
       "      <td>0</td>\n",
       "      <td>0</td>\n",
       "      <td>0</td>\n",
       "      <td>0</td>\n",
       "      <td>1</td>\n",
       "      <td>0</td>\n",
       "      <td>0</td>\n",
       "      <td>0</td>\n",
       "      <td>0</td>\n",
       "      <td>0</td>\n",
       "      <td>1</td>\n",
       "      <td>0</td>\n",
       "      <td>0</td>\n",
       "      <td>0</td>\n",
       "      <td>0</td>\n",
       "      <td>0</td>\n",
       "      <td>0</td>\n",
       "      <td>1</td>\n",
       "      <td>0</td>\n",
       "      <td>0</td>\n",
       "      <td>0</td>\n",
       "      <td>0</td>\n",
       "      <td>0</td>\n",
       "    </tr>\n",
       "    <tr>\n",
       "      <th>7388</th>\n",
       "      <td>0</td>\n",
       "      <td>4.0</td>\n",
       "      <td>192</td>\n",
       "      <td>4.0</td>\n",
       "      <td>1</td>\n",
       "      <td>0</td>\n",
       "      <td>1</td>\n",
       "      <td>0</td>\n",
       "      <td>0</td>\n",
       "      <td>0</td>\n",
       "      <td>0</td>\n",
       "      <td>0</td>\n",
       "      <td>1</td>\n",
       "      <td>0</td>\n",
       "      <td>0</td>\n",
       "      <td>0</td>\n",
       "      <td>0</td>\n",
       "      <td>0</td>\n",
       "      <td>0</td>\n",
       "      <td>0</td>\n",
       "      <td>0</td>\n",
       "      <td>0</td>\n",
       "      <td>1</td>\n",
       "      <td>0</td>\n",
       "      <td>0</td>\n",
       "      <td>0</td>\n",
       "      <td>0</td>\n",
       "      <td>1</td>\n",
       "      <td>0</td>\n",
       "      <td>0</td>\n",
       "      <td>0</td>\n",
       "      <td>0</td>\n",
       "      <td>0</td>\n",
       "      <td>1</td>\n",
       "      <td>0</td>\n",
       "      <td>0</td>\n",
       "      <td>0</td>\n",
       "      <td>0</td>\n",
       "      <td>0</td>\n",
       "      <td>0</td>\n",
       "      <td>1</td>\n",
       "      <td>0</td>\n",
       "      <td>0</td>\n",
       "      <td>0</td>\n",
       "      <td>0</td>\n",
       "      <td>1</td>\n",
       "    </tr>\n",
       "  </tbody>\n",
       "</table>\n",
       "</div>"
      ],
      "text/plain": [
       "      do_not_email  total_visits  time_on_website  page_views_per_visit  \\\n",
       "601              0           3.0              345                   2.0   \n",
       "1488             0           1.0              993                   1.0   \n",
       "4099             0           1.0              526                   1.0   \n",
       "1201             0           2.0              918                   2.0   \n",
       "7388             0           4.0              192                   4.0   \n",
       "\n",
       "      mastering_interview  lead_origin_API  \\\n",
       "601                     0                0   \n",
       "1488                    1                0   \n",
       "4099                    0                0   \n",
       "1201                    0                0   \n",
       "7388                    1                0   \n",
       "\n",
       "      lead_origin_Landing Page Submission  lead_origin_Lead Add Form  \\\n",
       "601                                     0                          0   \n",
       "1488                                    1                          0   \n",
       "4099                                    1                          0   \n",
       "1201                                    1                          0   \n",
       "7388                                    1                          0   \n",
       "\n",
       "      lead_origin_Lead Import  lead_source_Direct Traffic  lead_source_Google  \\\n",
       "601                         1                           0                   0   \n",
       "1488                        0                           1                   0   \n",
       "4099                        0                           1                   0   \n",
       "1201                        0                           1                   0   \n",
       "7388                        0                           0                   0   \n",
       "\n",
       "      lead_source_Olark Chat  lead_source_Organic Search  \\\n",
       "601                        0                           0   \n",
       "1488                       0                           0   \n",
       "4099                       0                           0   \n",
       "1201                       0                           0   \n",
       "7388                       0                           1   \n",
       "\n",
       "      lead_source_Reference  lead_source_Welingak Website  \\\n",
       "601                       0                             0   \n",
       "1488                      0                             0   \n",
       "4099                      0                             0   \n",
       "1201                      0                             0   \n",
       "7388                      0                             0   \n",
       "\n",
       "      last_activity_Converted to Lead  last_activity_Email Bounced  \\\n",
       "601                                 0                            0   \n",
       "1488                                1                            0   \n",
       "4099                                1                            0   \n",
       "1201                                0                            0   \n",
       "7388                                0                            0   \n",
       "\n",
       "      last_activity_Email Link Clicked  last_activity_Email Opened  \\\n",
       "601                                  0                           1   \n",
       "1488                                 0                           0   \n",
       "4099                                 0                           0   \n",
       "1201                                 1                           0   \n",
       "7388                                 0                           0   \n",
       "\n",
       "      last_activity_Form Submitted on Website  \\\n",
       "601                                         0   \n",
       "1488                                        0   \n",
       "4099                                        0   \n",
       "1201                                        0   \n",
       "7388                                        0   \n",
       "\n",
       "      last_activity_Olark Chat Conversation  \\\n",
       "601                                       0   \n",
       "1488                                      0   \n",
       "4099                                      0   \n",
       "1201                                      0   \n",
       "7388                                      0   \n",
       "\n",
       "      last_activity_Page Visited on Website  last_activity_SMS Sent  \\\n",
       "601                                       0                       0   \n",
       "1488                                      0                       0   \n",
       "4099                                      0                       0   \n",
       "1201                                      0                       0   \n",
       "7388                                      0                       1   \n",
       "\n",
       "      specialization_Banking, Investment And Insurance  \\\n",
       "601                                                  0   \n",
       "1488                                                 0   \n",
       "4099                                                 0   \n",
       "1201                                                 0   \n",
       "7388                                                 0   \n",
       "\n",
       "      specialization_Business Administration  \\\n",
       "601                                        0   \n",
       "1488                                       0   \n",
       "4099                                       0   \n",
       "1201                                       0   \n",
       "7388                                       0   \n",
       "\n",
       "      specialization_Business Specializations  specialization_E-COMMERCE  \\\n",
       "601                                         0                          0   \n",
       "1488                                        0                          0   \n",
       "4099                                        0                          0   \n",
       "1201                                        0                          0   \n",
       "7388                                        0                          0   \n",
       "\n",
       "      specialization_Management Specializations  \\\n",
       "601                                           0   \n",
       "1488                                          1   \n",
       "4099                                          0   \n",
       "1201                                          1   \n",
       "7388                                          1   \n",
       "\n",
       "      specialization_Media and Advertising  \\\n",
       "601                                      0   \n",
       "1488                                     0   \n",
       "4099                                     0   \n",
       "1201                                     0   \n",
       "7388                                     0   \n",
       "\n",
       "      specialization_Services Excellence  specialization_Travel and Tourism  \\\n",
       "601                                    0                                  0   \n",
       "1488                                   0                                  0   \n",
       "4099                                   0                                  0   \n",
       "1201                                   0                                  0   \n",
       "7388                                   0                                  0   \n",
       "\n",
       "      occupation_Not Specified  occupation_Student  occupation_Unemployed  \\\n",
       "601                          0                   0                      1   \n",
       "1488                         0                   0                      0   \n",
       "4099                         0                   1                      0   \n",
       "1201                         0                   0                      1   \n",
       "7388                         0                   0                      1   \n",
       "\n",
       "      occupation_Working Professional  tags_Already a student  \\\n",
       "601                                 0                       0   \n",
       "1488                                1                       0   \n",
       "4099                                0                       0   \n",
       "1201                                0                       0   \n",
       "7388                                0                       0   \n",
       "\n",
       "      tags_Closed by Horizzon  tags_Interested in Next batch  \\\n",
       "601                         0                              0   \n",
       "1488                        0                              0   \n",
       "4099                        0                              0   \n",
       "1201                        0                              0   \n",
       "7388                        0                              0   \n",
       "\n",
       "      tags_Interested in other courses  tags_Other Tags  tags_Ringing  \\\n",
       "601                                  0                0             1   \n",
       "1488                                 0                0             0   \n",
       "4099                                 0                0             0   \n",
       "1201                                 0                0             1   \n",
       "7388                                 0                0             1   \n",
       "\n",
       "      tags_Still Thinking  tags_Will revert after reading the email  \\\n",
       "601                     0                                         0   \n",
       "1488                    0                                         1   \n",
       "4099                    0                                         0   \n",
       "1201                    0                                         0   \n",
       "7388                    0                                         0   \n",
       "\n",
       "      last_notable_activity_Email Opened  last_notable_activity_Modified  \\\n",
       "601                                    0                               1   \n",
       "1488                                   0                               1   \n",
       "4099                                   0                               1   \n",
       "1201                                   0                               0   \n",
       "7388                                   0                               0   \n",
       "\n",
       "      last_notable_activity_SMS Sent  \n",
       "601                                0  \n",
       "1488                               0  \n",
       "4099                               0  \n",
       "1201                               0  \n",
       "7388                               1  "
      ]
     },
     "execution_count": 95,
     "metadata": {},
     "output_type": "execute_result"
    }
   ],
   "source": [
    "X_train.head()"
   ]
  },
  {
   "cell_type": "markdown",
   "id": "0c19dfe5",
   "metadata": {},
   "source": [
    "<h2 style=\"color:Blue;font-family:Georgia\">Scaling Numerical variables</h2>"
   ]
  },
  {
   "cell_type": "code",
   "execution_count": 96,
   "id": "8ead6872",
   "metadata": {},
   "outputs": [
    {
     "data": {
      "text/html": [
       "<div>\n",
       "<style scoped>\n",
       "    .dataframe tbody tr th:only-of-type {\n",
       "        vertical-align: middle;\n",
       "    }\n",
       "\n",
       "    .dataframe tbody tr th {\n",
       "        vertical-align: top;\n",
       "    }\n",
       "\n",
       "    .dataframe thead th {\n",
       "        text-align: right;\n",
       "    }\n",
       "</style>\n",
       "<table border=\"1\" class=\"dataframe\">\n",
       "  <thead>\n",
       "    <tr style=\"text-align: right;\">\n",
       "      <th></th>\n",
       "      <th>do_not_email</th>\n",
       "      <th>total_visits</th>\n",
       "      <th>time_on_website</th>\n",
       "      <th>page_views_per_visit</th>\n",
       "      <th>mastering_interview</th>\n",
       "      <th>lead_origin_API</th>\n",
       "      <th>lead_origin_Landing Page Submission</th>\n",
       "      <th>lead_origin_Lead Add Form</th>\n",
       "      <th>lead_origin_Lead Import</th>\n",
       "      <th>lead_source_Direct Traffic</th>\n",
       "      <th>lead_source_Google</th>\n",
       "      <th>lead_source_Olark Chat</th>\n",
       "      <th>lead_source_Organic Search</th>\n",
       "      <th>lead_source_Reference</th>\n",
       "      <th>lead_source_Welingak Website</th>\n",
       "      <th>last_activity_Converted to Lead</th>\n",
       "      <th>last_activity_Email Bounced</th>\n",
       "      <th>last_activity_Email Link Clicked</th>\n",
       "      <th>last_activity_Email Opened</th>\n",
       "      <th>last_activity_Form Submitted on Website</th>\n",
       "      <th>last_activity_Olark Chat Conversation</th>\n",
       "      <th>last_activity_Page Visited on Website</th>\n",
       "      <th>last_activity_SMS Sent</th>\n",
       "      <th>specialization_Banking, Investment And Insurance</th>\n",
       "      <th>specialization_Business Administration</th>\n",
       "      <th>specialization_Business Specializations</th>\n",
       "      <th>specialization_E-COMMERCE</th>\n",
       "      <th>specialization_Management Specializations</th>\n",
       "      <th>specialization_Media and Advertising</th>\n",
       "      <th>specialization_Services Excellence</th>\n",
       "      <th>specialization_Travel and Tourism</th>\n",
       "      <th>occupation_Not Specified</th>\n",
       "      <th>occupation_Student</th>\n",
       "      <th>occupation_Unemployed</th>\n",
       "      <th>occupation_Working Professional</th>\n",
       "      <th>tags_Already a student</th>\n",
       "      <th>tags_Closed by Horizzon</th>\n",
       "      <th>tags_Interested in Next batch</th>\n",
       "      <th>tags_Interested in other courses</th>\n",
       "      <th>tags_Other Tags</th>\n",
       "      <th>tags_Ringing</th>\n",
       "      <th>tags_Still Thinking</th>\n",
       "      <th>tags_Will revert after reading the email</th>\n",
       "      <th>last_notable_activity_Email Opened</th>\n",
       "      <th>last_notable_activity_Modified</th>\n",
       "      <th>last_notable_activity_SMS Sent</th>\n",
       "    </tr>\n",
       "  </thead>\n",
       "  <tbody>\n",
       "    <tr>\n",
       "      <th>601</th>\n",
       "      <td>0</td>\n",
       "      <td>0.011996</td>\n",
       "      <td>-0.252142</td>\n",
       "      <td>-0.101088</td>\n",
       "      <td>0</td>\n",
       "      <td>0</td>\n",
       "      <td>0</td>\n",
       "      <td>0</td>\n",
       "      <td>1</td>\n",
       "      <td>0</td>\n",
       "      <td>0</td>\n",
       "      <td>0</td>\n",
       "      <td>0</td>\n",
       "      <td>0</td>\n",
       "      <td>0</td>\n",
       "      <td>0</td>\n",
       "      <td>0</td>\n",
       "      <td>0</td>\n",
       "      <td>1</td>\n",
       "      <td>0</td>\n",
       "      <td>0</td>\n",
       "      <td>0</td>\n",
       "      <td>0</td>\n",
       "      <td>0</td>\n",
       "      <td>0</td>\n",
       "      <td>0</td>\n",
       "      <td>0</td>\n",
       "      <td>0</td>\n",
       "      <td>0</td>\n",
       "      <td>0</td>\n",
       "      <td>0</td>\n",
       "      <td>0</td>\n",
       "      <td>0</td>\n",
       "      <td>1</td>\n",
       "      <td>0</td>\n",
       "      <td>0</td>\n",
       "      <td>0</td>\n",
       "      <td>0</td>\n",
       "      <td>0</td>\n",
       "      <td>0</td>\n",
       "      <td>1</td>\n",
       "      <td>0</td>\n",
       "      <td>0</td>\n",
       "      <td>0</td>\n",
       "      <td>1</td>\n",
       "      <td>0</td>\n",
       "    </tr>\n",
       "    <tr>\n",
       "      <th>1488</th>\n",
       "      <td>0</td>\n",
       "      <td>-0.753316</td>\n",
       "      <td>0.931490</td>\n",
       "      <td>-0.671787</td>\n",
       "      <td>1</td>\n",
       "      <td>0</td>\n",
       "      <td>1</td>\n",
       "      <td>0</td>\n",
       "      <td>0</td>\n",
       "      <td>1</td>\n",
       "      <td>0</td>\n",
       "      <td>0</td>\n",
       "      <td>0</td>\n",
       "      <td>0</td>\n",
       "      <td>0</td>\n",
       "      <td>1</td>\n",
       "      <td>0</td>\n",
       "      <td>0</td>\n",
       "      <td>0</td>\n",
       "      <td>0</td>\n",
       "      <td>0</td>\n",
       "      <td>0</td>\n",
       "      <td>0</td>\n",
       "      <td>0</td>\n",
       "      <td>0</td>\n",
       "      <td>0</td>\n",
       "      <td>0</td>\n",
       "      <td>1</td>\n",
       "      <td>0</td>\n",
       "      <td>0</td>\n",
       "      <td>0</td>\n",
       "      <td>0</td>\n",
       "      <td>0</td>\n",
       "      <td>0</td>\n",
       "      <td>1</td>\n",
       "      <td>0</td>\n",
       "      <td>0</td>\n",
       "      <td>0</td>\n",
       "      <td>0</td>\n",
       "      <td>0</td>\n",
       "      <td>0</td>\n",
       "      <td>0</td>\n",
       "      <td>1</td>\n",
       "      <td>0</td>\n",
       "      <td>1</td>\n",
       "      <td>0</td>\n",
       "    </tr>\n",
       "    <tr>\n",
       "      <th>4099</th>\n",
       "      <td>0</td>\n",
       "      <td>-0.753316</td>\n",
       "      <td>0.078472</td>\n",
       "      <td>-0.671787</td>\n",
       "      <td>0</td>\n",
       "      <td>0</td>\n",
       "      <td>1</td>\n",
       "      <td>0</td>\n",
       "      <td>0</td>\n",
       "      <td>1</td>\n",
       "      <td>0</td>\n",
       "      <td>0</td>\n",
       "      <td>0</td>\n",
       "      <td>0</td>\n",
       "      <td>0</td>\n",
       "      <td>1</td>\n",
       "      <td>0</td>\n",
       "      <td>0</td>\n",
       "      <td>0</td>\n",
       "      <td>0</td>\n",
       "      <td>0</td>\n",
       "      <td>0</td>\n",
       "      <td>0</td>\n",
       "      <td>0</td>\n",
       "      <td>0</td>\n",
       "      <td>0</td>\n",
       "      <td>0</td>\n",
       "      <td>0</td>\n",
       "      <td>0</td>\n",
       "      <td>0</td>\n",
       "      <td>0</td>\n",
       "      <td>0</td>\n",
       "      <td>1</td>\n",
       "      <td>0</td>\n",
       "      <td>0</td>\n",
       "      <td>0</td>\n",
       "      <td>0</td>\n",
       "      <td>0</td>\n",
       "      <td>0</td>\n",
       "      <td>0</td>\n",
       "      <td>0</td>\n",
       "      <td>0</td>\n",
       "      <td>0</td>\n",
       "      <td>0</td>\n",
       "      <td>1</td>\n",
       "      <td>0</td>\n",
       "    </tr>\n",
       "    <tr>\n",
       "      <th>1201</th>\n",
       "      <td>0</td>\n",
       "      <td>-0.370660</td>\n",
       "      <td>0.794496</td>\n",
       "      <td>-0.101088</td>\n",
       "      <td>0</td>\n",
       "      <td>0</td>\n",
       "      <td>1</td>\n",
       "      <td>0</td>\n",
       "      <td>0</td>\n",
       "      <td>1</td>\n",
       "      <td>0</td>\n",
       "      <td>0</td>\n",
       "      <td>0</td>\n",
       "      <td>0</td>\n",
       "      <td>0</td>\n",
       "      <td>0</td>\n",
       "      <td>0</td>\n",
       "      <td>1</td>\n",
       "      <td>0</td>\n",
       "      <td>0</td>\n",
       "      <td>0</td>\n",
       "      <td>0</td>\n",
       "      <td>0</td>\n",
       "      <td>0</td>\n",
       "      <td>0</td>\n",
       "      <td>0</td>\n",
       "      <td>0</td>\n",
       "      <td>1</td>\n",
       "      <td>0</td>\n",
       "      <td>0</td>\n",
       "      <td>0</td>\n",
       "      <td>0</td>\n",
       "      <td>0</td>\n",
       "      <td>1</td>\n",
       "      <td>0</td>\n",
       "      <td>0</td>\n",
       "      <td>0</td>\n",
       "      <td>0</td>\n",
       "      <td>0</td>\n",
       "      <td>0</td>\n",
       "      <td>1</td>\n",
       "      <td>0</td>\n",
       "      <td>0</td>\n",
       "      <td>0</td>\n",
       "      <td>0</td>\n",
       "      <td>0</td>\n",
       "    </tr>\n",
       "    <tr>\n",
       "      <th>7388</th>\n",
       "      <td>0</td>\n",
       "      <td>0.394653</td>\n",
       "      <td>-0.531610</td>\n",
       "      <td>1.040310</td>\n",
       "      <td>1</td>\n",
       "      <td>0</td>\n",
       "      <td>1</td>\n",
       "      <td>0</td>\n",
       "      <td>0</td>\n",
       "      <td>0</td>\n",
       "      <td>0</td>\n",
       "      <td>0</td>\n",
       "      <td>1</td>\n",
       "      <td>0</td>\n",
       "      <td>0</td>\n",
       "      <td>0</td>\n",
       "      <td>0</td>\n",
       "      <td>0</td>\n",
       "      <td>0</td>\n",
       "      <td>0</td>\n",
       "      <td>0</td>\n",
       "      <td>0</td>\n",
       "      <td>1</td>\n",
       "      <td>0</td>\n",
       "      <td>0</td>\n",
       "      <td>0</td>\n",
       "      <td>0</td>\n",
       "      <td>1</td>\n",
       "      <td>0</td>\n",
       "      <td>0</td>\n",
       "      <td>0</td>\n",
       "      <td>0</td>\n",
       "      <td>0</td>\n",
       "      <td>1</td>\n",
       "      <td>0</td>\n",
       "      <td>0</td>\n",
       "      <td>0</td>\n",
       "      <td>0</td>\n",
       "      <td>0</td>\n",
       "      <td>0</td>\n",
       "      <td>1</td>\n",
       "      <td>0</td>\n",
       "      <td>0</td>\n",
       "      <td>0</td>\n",
       "      <td>0</td>\n",
       "      <td>1</td>\n",
       "    </tr>\n",
       "  </tbody>\n",
       "</table>\n",
       "</div>"
      ],
      "text/plain": [
       "      do_not_email  total_visits  time_on_website  page_views_per_visit  \\\n",
       "601              0      0.011996        -0.252142             -0.101088   \n",
       "1488             0     -0.753316         0.931490             -0.671787   \n",
       "4099             0     -0.753316         0.078472             -0.671787   \n",
       "1201             0     -0.370660         0.794496             -0.101088   \n",
       "7388             0      0.394653        -0.531610              1.040310   \n",
       "\n",
       "      mastering_interview  lead_origin_API  \\\n",
       "601                     0                0   \n",
       "1488                    1                0   \n",
       "4099                    0                0   \n",
       "1201                    0                0   \n",
       "7388                    1                0   \n",
       "\n",
       "      lead_origin_Landing Page Submission  lead_origin_Lead Add Form  \\\n",
       "601                                     0                          0   \n",
       "1488                                    1                          0   \n",
       "4099                                    1                          0   \n",
       "1201                                    1                          0   \n",
       "7388                                    1                          0   \n",
       "\n",
       "      lead_origin_Lead Import  lead_source_Direct Traffic  lead_source_Google  \\\n",
       "601                         1                           0                   0   \n",
       "1488                        0                           1                   0   \n",
       "4099                        0                           1                   0   \n",
       "1201                        0                           1                   0   \n",
       "7388                        0                           0                   0   \n",
       "\n",
       "      lead_source_Olark Chat  lead_source_Organic Search  \\\n",
       "601                        0                           0   \n",
       "1488                       0                           0   \n",
       "4099                       0                           0   \n",
       "1201                       0                           0   \n",
       "7388                       0                           1   \n",
       "\n",
       "      lead_source_Reference  lead_source_Welingak Website  \\\n",
       "601                       0                             0   \n",
       "1488                      0                             0   \n",
       "4099                      0                             0   \n",
       "1201                      0                             0   \n",
       "7388                      0                             0   \n",
       "\n",
       "      last_activity_Converted to Lead  last_activity_Email Bounced  \\\n",
       "601                                 0                            0   \n",
       "1488                                1                            0   \n",
       "4099                                1                            0   \n",
       "1201                                0                            0   \n",
       "7388                                0                            0   \n",
       "\n",
       "      last_activity_Email Link Clicked  last_activity_Email Opened  \\\n",
       "601                                  0                           1   \n",
       "1488                                 0                           0   \n",
       "4099                                 0                           0   \n",
       "1201                                 1                           0   \n",
       "7388                                 0                           0   \n",
       "\n",
       "      last_activity_Form Submitted on Website  \\\n",
       "601                                         0   \n",
       "1488                                        0   \n",
       "4099                                        0   \n",
       "1201                                        0   \n",
       "7388                                        0   \n",
       "\n",
       "      last_activity_Olark Chat Conversation  \\\n",
       "601                                       0   \n",
       "1488                                      0   \n",
       "4099                                      0   \n",
       "1201                                      0   \n",
       "7388                                      0   \n",
       "\n",
       "      last_activity_Page Visited on Website  last_activity_SMS Sent  \\\n",
       "601                                       0                       0   \n",
       "1488                                      0                       0   \n",
       "4099                                      0                       0   \n",
       "1201                                      0                       0   \n",
       "7388                                      0                       1   \n",
       "\n",
       "      specialization_Banking, Investment And Insurance  \\\n",
       "601                                                  0   \n",
       "1488                                                 0   \n",
       "4099                                                 0   \n",
       "1201                                                 0   \n",
       "7388                                                 0   \n",
       "\n",
       "      specialization_Business Administration  \\\n",
       "601                                        0   \n",
       "1488                                       0   \n",
       "4099                                       0   \n",
       "1201                                       0   \n",
       "7388                                       0   \n",
       "\n",
       "      specialization_Business Specializations  specialization_E-COMMERCE  \\\n",
       "601                                         0                          0   \n",
       "1488                                        0                          0   \n",
       "4099                                        0                          0   \n",
       "1201                                        0                          0   \n",
       "7388                                        0                          0   \n",
       "\n",
       "      specialization_Management Specializations  \\\n",
       "601                                           0   \n",
       "1488                                          1   \n",
       "4099                                          0   \n",
       "1201                                          1   \n",
       "7388                                          1   \n",
       "\n",
       "      specialization_Media and Advertising  \\\n",
       "601                                      0   \n",
       "1488                                     0   \n",
       "4099                                     0   \n",
       "1201                                     0   \n",
       "7388                                     0   \n",
       "\n",
       "      specialization_Services Excellence  specialization_Travel and Tourism  \\\n",
       "601                                    0                                  0   \n",
       "1488                                   0                                  0   \n",
       "4099                                   0                                  0   \n",
       "1201                                   0                                  0   \n",
       "7388                                   0                                  0   \n",
       "\n",
       "      occupation_Not Specified  occupation_Student  occupation_Unemployed  \\\n",
       "601                          0                   0                      1   \n",
       "1488                         0                   0                      0   \n",
       "4099                         0                   1                      0   \n",
       "1201                         0                   0                      1   \n",
       "7388                         0                   0                      1   \n",
       "\n",
       "      occupation_Working Professional  tags_Already a student  \\\n",
       "601                                 0                       0   \n",
       "1488                                1                       0   \n",
       "4099                                0                       0   \n",
       "1201                                0                       0   \n",
       "7388                                0                       0   \n",
       "\n",
       "      tags_Closed by Horizzon  tags_Interested in Next batch  \\\n",
       "601                         0                              0   \n",
       "1488                        0                              0   \n",
       "4099                        0                              0   \n",
       "1201                        0                              0   \n",
       "7388                        0                              0   \n",
       "\n",
       "      tags_Interested in other courses  tags_Other Tags  tags_Ringing  \\\n",
       "601                                  0                0             1   \n",
       "1488                                 0                0             0   \n",
       "4099                                 0                0             0   \n",
       "1201                                 0                0             1   \n",
       "7388                                 0                0             1   \n",
       "\n",
       "      tags_Still Thinking  tags_Will revert after reading the email  \\\n",
       "601                     0                                         0   \n",
       "1488                    0                                         1   \n",
       "4099                    0                                         0   \n",
       "1201                    0                                         0   \n",
       "7388                    0                                         0   \n",
       "\n",
       "      last_notable_activity_Email Opened  last_notable_activity_Modified  \\\n",
       "601                                    0                               1   \n",
       "1488                                   0                               1   \n",
       "4099                                   0                               1   \n",
       "1201                                   0                               0   \n",
       "7388                                   0                               0   \n",
       "\n",
       "      last_notable_activity_SMS Sent  \n",
       "601                                0  \n",
       "1488                               0  \n",
       "4099                               0  \n",
       "1201                               0  \n",
       "7388                               1  "
      ]
     },
     "execution_count": 96,
     "metadata": {},
     "output_type": "execute_result"
    }
   ],
   "source": [
    "scaler = StandardScaler()\n",
    "\n",
    "num_cols = ['total_visits', 'time_on_website', 'page_views_per_visit']\n",
    "\n",
    "X_train[num_cols] = scaler.fit_transform(X_train[num_cols])\n",
    "\n",
    "X_train.head()"
   ]
  },
  {
   "cell_type": "markdown",
   "id": "6e9cc26c",
   "metadata": {},
   "source": [
    "<h2 style=\"color:Blue;font-family:Georgia\">Building First Model</h2>"
   ]
  },
  {
   "cell_type": "code",
   "execution_count": 97,
   "id": "39272aab",
   "metadata": {},
   "outputs": [
    {
     "data": {
      "text/html": [
       "<table class=\"simpletable\">\n",
       "<caption>Generalized Linear Model Regression Results</caption>\n",
       "<tr>\n",
       "  <th>Dep. Variable:</th>       <td>converted</td>    <th>  No. Observations:  </th>  <td>  6220</td> \n",
       "</tr>\n",
       "<tr>\n",
       "  <th>Model:</th>                  <td>GLM</td>       <th>  Df Residuals:      </th>  <td>  6174</td> \n",
       "</tr>\n",
       "<tr>\n",
       "  <th>Model Family:</th>        <td>Binomial</td>     <th>  Df Model:          </th>  <td>    45</td> \n",
       "</tr>\n",
       "<tr>\n",
       "  <th>Link Function:</th>         <td>Logit</td>      <th>  Scale:             </th> <td>  1.0000</td>\n",
       "</tr>\n",
       "<tr>\n",
       "  <th>Method:</th>                <td>IRLS</td>       <th>  Log-Likelihood:    </th> <td> -1357.1</td>\n",
       "</tr>\n",
       "<tr>\n",
       "  <th>Date:</th>            <td>Tue, 24 Jan 2023</td> <th>  Deviance:          </th> <td>  2714.1</td>\n",
       "</tr>\n",
       "<tr>\n",
       "  <th>Time:</th>                <td>17:47:39</td>     <th>  Pearson chi2:      </th> <td>6.39e+03</td>\n",
       "</tr>\n",
       "<tr>\n",
       "  <th>No. Iterations:</th>         <td>100</td>       <th>  Pseudo R-squ. (CS):</th>  <td>0.5930</td> \n",
       "</tr>\n",
       "<tr>\n",
       "  <th>Covariance Type:</th>     <td>nonrobust</td>    <th>                     </th>     <td> </td>   \n",
       "</tr>\n",
       "</table>\n",
       "<table class=\"simpletable\">\n",
       "<tr>\n",
       "                          <td></td>                            <th>coef</th>     <th>std err</th>      <th>z</th>      <th>P>|z|</th>  <th>[0.025</th>    <th>0.975]</th>  \n",
       "</tr>\n",
       "<tr>\n",
       "  <th>const</th>                                            <td>   -0.5837</td> <td>    0.812</td> <td>   -0.719</td> <td> 0.472</td> <td>   -2.175</td> <td>    1.007</td>\n",
       "</tr>\n",
       "<tr>\n",
       "  <th>do_not_email</th>                                     <td>   -1.0300</td> <td>    0.275</td> <td>   -3.742</td> <td> 0.000</td> <td>   -1.569</td> <td>   -0.491</td>\n",
       "</tr>\n",
       "<tr>\n",
       "  <th>total_visits</th>                                     <td>    0.3205</td> <td>    0.079</td> <td>    4.063</td> <td> 0.000</td> <td>    0.166</td> <td>    0.475</td>\n",
       "</tr>\n",
       "<tr>\n",
       "  <th>time_on_website</th>                                  <td>    1.0326</td> <td>    0.059</td> <td>   17.612</td> <td> 0.000</td> <td>    0.918</td> <td>    1.147</td>\n",
       "</tr>\n",
       "<tr>\n",
       "  <th>page_views_per_visit</th>                             <td>   -0.3957</td> <td>    0.092</td> <td>   -4.301</td> <td> 0.000</td> <td>   -0.576</td> <td>   -0.215</td>\n",
       "</tr>\n",
       "<tr>\n",
       "  <th>mastering_interview</th>                              <td>    0.0100</td> <td>    0.166</td> <td>    0.060</td> <td> 0.952</td> <td>   -0.316</td> <td>    0.336</td>\n",
       "</tr>\n",
       "<tr>\n",
       "  <th>lead_origin_API</th>                                  <td>   -0.3940</td> <td>    0.340</td> <td>   -1.159</td> <td> 0.247</td> <td>   -1.060</td> <td>    0.272</td>\n",
       "</tr>\n",
       "<tr>\n",
       "  <th>lead_origin_Landing Page Submission</th>              <td>   -0.8479</td> <td>    0.371</td> <td>   -2.284</td> <td> 0.022</td> <td>   -1.576</td> <td>   -0.120</td>\n",
       "</tr>\n",
       "<tr>\n",
       "  <th>lead_origin_Lead Add Form</th>                        <td>    1.5148</td> <td>    0.687</td> <td>    2.206</td> <td> 0.027</td> <td>    0.169</td> <td>    2.861</td>\n",
       "</tr>\n",
       "<tr>\n",
       "  <th>lead_origin_Lead Import</th>                          <td>   -0.8565</td> <td>    0.600</td> <td>   -1.427</td> <td> 0.153</td> <td>   -2.032</td> <td>    0.319</td>\n",
       "</tr>\n",
       "<tr>\n",
       "  <th>lead_source_Direct Traffic</th>                       <td>    0.2980</td> <td>    0.472</td> <td>    0.631</td> <td> 0.528</td> <td>   -0.628</td> <td>    1.224</td>\n",
       "</tr>\n",
       "<tr>\n",
       "  <th>lead_source_Google</th>                               <td>    0.2846</td> <td>    0.453</td> <td>    0.628</td> <td> 0.530</td> <td>   -0.604</td> <td>    1.173</td>\n",
       "</tr>\n",
       "<tr>\n",
       "  <th>lead_source_Olark Chat</th>                           <td>    1.0952</td> <td>    0.474</td> <td>    2.309</td> <td> 0.021</td> <td>    0.166</td> <td>    2.025</td>\n",
       "</tr>\n",
       "<tr>\n",
       "  <th>lead_source_Organic Search</th>                       <td>    0.0983</td> <td>    0.471</td> <td>    0.209</td> <td> 0.835</td> <td>   -0.824</td> <td>    1.021</td>\n",
       "</tr>\n",
       "<tr>\n",
       "  <th>lead_source_Reference</th>                            <td>   -0.8756</td> <td>    0.946</td> <td>   -0.926</td> <td> 0.355</td> <td>   -2.730</td> <td>    0.978</td>\n",
       "</tr>\n",
       "<tr>\n",
       "  <th>lead_source_Welingak Website</th>                     <td>    3.0491</td> <td>    1.342</td> <td>    2.271</td> <td> 0.023</td> <td>    0.418</td> <td>    5.680</td>\n",
       "</tr>\n",
       "<tr>\n",
       "  <th>last_activity_Converted to Lead</th>                  <td>   -0.9193</td> <td>    0.517</td> <td>   -1.779</td> <td> 0.075</td> <td>   -1.932</td> <td>    0.093</td>\n",
       "</tr>\n",
       "<tr>\n",
       "  <th>last_activity_Email Bounced</th>                      <td>   -0.9412</td> <td>    0.610</td> <td>   -1.544</td> <td> 0.123</td> <td>   -2.136</td> <td>    0.254</td>\n",
       "</tr>\n",
       "<tr>\n",
       "  <th>last_activity_Email Link Clicked</th>                 <td>   -0.4362</td> <td>    0.504</td> <td>   -0.866</td> <td> 0.386</td> <td>   -1.423</td> <td>    0.551</td>\n",
       "</tr>\n",
       "<tr>\n",
       "  <th>last_activity_Email Opened</th>                       <td>    0.0823</td> <td>    0.469</td> <td>    0.176</td> <td> 0.861</td> <td>   -0.836</td> <td>    1.001</td>\n",
       "</tr>\n",
       "<tr>\n",
       "  <th>last_activity_Form Submitted on Website</th>          <td>   -0.0149</td> <td>    0.605</td> <td>   -0.025</td> <td> 0.980</td> <td>   -1.200</td> <td>    1.170</td>\n",
       "</tr>\n",
       "<tr>\n",
       "  <th>last_activity_Olark Chat Conversation</th>            <td>   -1.4993</td> <td>    0.465</td> <td>   -3.221</td> <td> 0.001</td> <td>   -2.411</td> <td>   -0.587</td>\n",
       "</tr>\n",
       "<tr>\n",
       "  <th>last_activity_Page Visited on Website</th>            <td>   -0.7283</td> <td>    0.460</td> <td>   -1.584</td> <td> 0.113</td> <td>   -1.630</td> <td>    0.173</td>\n",
       "</tr>\n",
       "<tr>\n",
       "  <th>last_activity_SMS Sent</th>                           <td>    0.8805</td> <td>    0.459</td> <td>    1.917</td> <td> 0.055</td> <td>   -0.020</td> <td>    1.781</td>\n",
       "</tr>\n",
       "<tr>\n",
       "  <th>specialization_Banking, Investment And Insurance</th> <td>    0.3764</td> <td>    0.356</td> <td>    1.057</td> <td> 0.290</td> <td>   -0.321</td> <td>    1.074</td>\n",
       "</tr>\n",
       "<tr>\n",
       "  <th>specialization_Business Administration</th>           <td>    0.3731</td> <td>    0.309</td> <td>    1.208</td> <td> 0.227</td> <td>   -0.232</td> <td>    0.978</td>\n",
       "</tr>\n",
       "<tr>\n",
       "  <th>specialization_Business Specializations</th>          <td>   -0.1614</td> <td>    0.350</td> <td>   -0.461</td> <td> 0.645</td> <td>   -0.847</td> <td>    0.525</td>\n",
       "</tr>\n",
       "<tr>\n",
       "  <th>specialization_E-COMMERCE</th>                        <td>    0.7412</td> <td>    0.484</td> <td>    1.531</td> <td> 0.126</td> <td>   -0.208</td> <td>    1.690</td>\n",
       "</tr>\n",
       "<tr>\n",
       "  <th>specialization_Management Specializations</th>        <td>    0.1651</td> <td>    0.210</td> <td>    0.785</td> <td> 0.433</td> <td>   -0.247</td> <td>    0.577</td>\n",
       "</tr>\n",
       "<tr>\n",
       "  <th>specialization_Media and Advertising</th>             <td>    0.1933</td> <td>    0.390</td> <td>    0.495</td> <td> 0.620</td> <td>   -0.572</td> <td>    0.958</td>\n",
       "</tr>\n",
       "<tr>\n",
       "  <th>specialization_Services Excellence</th>               <td>   -0.3290</td> <td>    0.783</td> <td>   -0.420</td> <td> 0.674</td> <td>   -1.863</td> <td>    1.205</td>\n",
       "</tr>\n",
       "<tr>\n",
       "  <th>specialization_Travel and Tourism</th>                <td>   -0.1748</td> <td>    0.448</td> <td>   -0.390</td> <td> 0.696</td> <td>   -1.053</td> <td>    0.703</td>\n",
       "</tr>\n",
       "<tr>\n",
       "  <th>occupation_Not Specified</th>                         <td>   -1.1273</td> <td>    0.820</td> <td>   -1.375</td> <td> 0.169</td> <td>   -2.734</td> <td>    0.480</td>\n",
       "</tr>\n",
       "<tr>\n",
       "  <th>occupation_Student</th>                               <td>    0.7965</td> <td>    0.985</td> <td>    0.808</td> <td> 0.419</td> <td>   -1.135</td> <td>    2.728</td>\n",
       "</tr>\n",
       "<tr>\n",
       "  <th>occupation_Unemployed</th>                            <td>    0.8264</td> <td>    0.810</td> <td>    1.020</td> <td> 0.308</td> <td>   -0.761</td> <td>    2.414</td>\n",
       "</tr>\n",
       "<tr>\n",
       "  <th>occupation_Working Professional</th>                  <td>    1.1663</td> <td>    0.854</td> <td>    1.366</td> <td> 0.172</td> <td>   -0.507</td> <td>    2.840</td>\n",
       "</tr>\n",
       "<tr>\n",
       "  <th>tags_Already a student</th>                           <td>   -4.4480</td> <td>    0.617</td> <td>   -7.205</td> <td> 0.000</td> <td>   -5.658</td> <td>   -3.238</td>\n",
       "</tr>\n",
       "<tr>\n",
       "  <th>tags_Closed by Horizzon</th>                          <td>    5.3768</td> <td>    1.031</td> <td>    5.213</td> <td> 0.000</td> <td>    3.355</td> <td>    7.398</td>\n",
       "</tr>\n",
       "<tr>\n",
       "  <th>tags_Interested in Next batch</th>                    <td> 3.704e+07</td> <td>    3e+07</td> <td>    1.234</td> <td> 0.217</td> <td>-2.18e+07</td> <td> 9.59e+07</td>\n",
       "</tr>\n",
       "<tr>\n",
       "  <th>tags_Interested in other courses</th>                 <td>   -3.5240</td> <td>    0.428</td> <td>   -8.235</td> <td> 0.000</td> <td>   -4.363</td> <td>   -2.685</td>\n",
       "</tr>\n",
       "<tr>\n",
       "  <th>tags_Other Tags</th>                                  <td>   -1.2383</td> <td>    0.166</td> <td>   -7.476</td> <td> 0.000</td> <td>   -1.563</td> <td>   -0.914</td>\n",
       "</tr>\n",
       "<tr>\n",
       "  <th>tags_Ringing</th>                                     <td>   -4.6221</td> <td>    0.269</td> <td>  -17.168</td> <td> 0.000</td> <td>   -5.150</td> <td>   -4.094</td>\n",
       "</tr>\n",
       "<tr>\n",
       "  <th>tags_Still Thinking</th>                              <td>   -1.1916</td> <td>    1.521</td> <td>   -0.783</td> <td> 0.433</td> <td>   -4.173</td> <td>    1.790</td>\n",
       "</tr>\n",
       "<tr>\n",
       "  <th>tags_Will revert after reading the email</th>         <td>    2.9677</td> <td>    0.226</td> <td>   13.154</td> <td> 0.000</td> <td>    2.525</td> <td>    3.410</td>\n",
       "</tr>\n",
       "<tr>\n",
       "  <th>last_notable_activity_Email Opened</th>               <td>   -0.2032</td> <td>    0.329</td> <td>   -0.617</td> <td> 0.537</td> <td>   -0.849</td> <td>    0.442</td>\n",
       "</tr>\n",
       "<tr>\n",
       "  <th>last_notable_activity_Modified</th>                   <td>   -0.4395</td> <td>    0.260</td> <td>   -1.691</td> <td> 0.091</td> <td>   -0.949</td> <td>    0.070</td>\n",
       "</tr>\n",
       "<tr>\n",
       "  <th>last_notable_activity_SMS Sent</th>                   <td>    0.7713</td> <td>    0.325</td> <td>    2.373</td> <td> 0.018</td> <td>    0.134</td> <td>    1.408</td>\n",
       "</tr>\n",
       "</table>"
      ],
      "text/plain": [
       "<class 'statsmodels.iolib.summary.Summary'>\n",
       "\"\"\"\n",
       "                 Generalized Linear Model Regression Results                  \n",
       "==============================================================================\n",
       "Dep. Variable:              converted   No. Observations:                 6220\n",
       "Model:                            GLM   Df Residuals:                     6174\n",
       "Model Family:                Binomial   Df Model:                           45\n",
       "Link Function:                  Logit   Scale:                          1.0000\n",
       "Method:                          IRLS   Log-Likelihood:                -1357.1\n",
       "Date:                Tue, 24 Jan 2023   Deviance:                       2714.1\n",
       "Time:                        17:47:39   Pearson chi2:                 6.39e+03\n",
       "No. Iterations:                   100   Pseudo R-squ. (CS):             0.5930\n",
       "Covariance Type:            nonrobust                                         \n",
       "====================================================================================================================\n",
       "                                                       coef    std err          z      P>|z|      [0.025      0.975]\n",
       "--------------------------------------------------------------------------------------------------------------------\n",
       "const                                               -0.5837      0.812     -0.719      0.472      -2.175       1.007\n",
       "do_not_email                                        -1.0300      0.275     -3.742      0.000      -1.569      -0.491\n",
       "total_visits                                         0.3205      0.079      4.063      0.000       0.166       0.475\n",
       "time_on_website                                      1.0326      0.059     17.612      0.000       0.918       1.147\n",
       "page_views_per_visit                                -0.3957      0.092     -4.301      0.000      -0.576      -0.215\n",
       "mastering_interview                                  0.0100      0.166      0.060      0.952      -0.316       0.336\n",
       "lead_origin_API                                     -0.3940      0.340     -1.159      0.247      -1.060       0.272\n",
       "lead_origin_Landing Page Submission                 -0.8479      0.371     -2.284      0.022      -1.576      -0.120\n",
       "lead_origin_Lead Add Form                            1.5148      0.687      2.206      0.027       0.169       2.861\n",
       "lead_origin_Lead Import                             -0.8565      0.600     -1.427      0.153      -2.032       0.319\n",
       "lead_source_Direct Traffic                           0.2980      0.472      0.631      0.528      -0.628       1.224\n",
       "lead_source_Google                                   0.2846      0.453      0.628      0.530      -0.604       1.173\n",
       "lead_source_Olark Chat                               1.0952      0.474      2.309      0.021       0.166       2.025\n",
       "lead_source_Organic Search                           0.0983      0.471      0.209      0.835      -0.824       1.021\n",
       "lead_source_Reference                               -0.8756      0.946     -0.926      0.355      -2.730       0.978\n",
       "lead_source_Welingak Website                         3.0491      1.342      2.271      0.023       0.418       5.680\n",
       "last_activity_Converted to Lead                     -0.9193      0.517     -1.779      0.075      -1.932       0.093\n",
       "last_activity_Email Bounced                         -0.9412      0.610     -1.544      0.123      -2.136       0.254\n",
       "last_activity_Email Link Clicked                    -0.4362      0.504     -0.866      0.386      -1.423       0.551\n",
       "last_activity_Email Opened                           0.0823      0.469      0.176      0.861      -0.836       1.001\n",
       "last_activity_Form Submitted on Website             -0.0149      0.605     -0.025      0.980      -1.200       1.170\n",
       "last_activity_Olark Chat Conversation               -1.4993      0.465     -3.221      0.001      -2.411      -0.587\n",
       "last_activity_Page Visited on Website               -0.7283      0.460     -1.584      0.113      -1.630       0.173\n",
       "last_activity_SMS Sent                               0.8805      0.459      1.917      0.055      -0.020       1.781\n",
       "specialization_Banking, Investment And Insurance     0.3764      0.356      1.057      0.290      -0.321       1.074\n",
       "specialization_Business Administration               0.3731      0.309      1.208      0.227      -0.232       0.978\n",
       "specialization_Business Specializations             -0.1614      0.350     -0.461      0.645      -0.847       0.525\n",
       "specialization_E-COMMERCE                            0.7412      0.484      1.531      0.126      -0.208       1.690\n",
       "specialization_Management Specializations            0.1651      0.210      0.785      0.433      -0.247       0.577\n",
       "specialization_Media and Advertising                 0.1933      0.390      0.495      0.620      -0.572       0.958\n",
       "specialization_Services Excellence                  -0.3290      0.783     -0.420      0.674      -1.863       1.205\n",
       "specialization_Travel and Tourism                   -0.1748      0.448     -0.390      0.696      -1.053       0.703\n",
       "occupation_Not Specified                            -1.1273      0.820     -1.375      0.169      -2.734       0.480\n",
       "occupation_Student                                   0.7965      0.985      0.808      0.419      -1.135       2.728\n",
       "occupation_Unemployed                                0.8264      0.810      1.020      0.308      -0.761       2.414\n",
       "occupation_Working Professional                      1.1663      0.854      1.366      0.172      -0.507       2.840\n",
       "tags_Already a student                              -4.4480      0.617     -7.205      0.000      -5.658      -3.238\n",
       "tags_Closed by Horizzon                              5.3768      1.031      5.213      0.000       3.355       7.398\n",
       "tags_Interested in Next batch                     3.704e+07      3e+07      1.234      0.217   -2.18e+07    9.59e+07\n",
       "tags_Interested in other courses                    -3.5240      0.428     -8.235      0.000      -4.363      -2.685\n",
       "tags_Other Tags                                     -1.2383      0.166     -7.476      0.000      -1.563      -0.914\n",
       "tags_Ringing                                        -4.6221      0.269    -17.168      0.000      -5.150      -4.094\n",
       "tags_Still Thinking                                 -1.1916      1.521     -0.783      0.433      -4.173       1.790\n",
       "tags_Will revert after reading the email             2.9677      0.226     13.154      0.000       2.525       3.410\n",
       "last_notable_activity_Email Opened                  -0.2032      0.329     -0.617      0.537      -0.849       0.442\n",
       "last_notable_activity_Modified                      -0.4395      0.260     -1.691      0.091      -0.949       0.070\n",
       "last_notable_activity_SMS Sent                       0.7713      0.325      2.373      0.018       0.134       1.408\n",
       "====================================================================================================================\n",
       "\"\"\""
      ]
     },
     "execution_count": 97,
     "metadata": {},
     "output_type": "execute_result"
    }
   ],
   "source": [
    "# Logistic regression Model building using statsmodels\n",
    "logm1 = sm.GLM(y_train,(sm.add_constant(X_train)), family = sm.families.Binomial())\n",
    "logm1.fit().summary()"
   ]
  },
  {
   "cell_type": "markdown",
   "id": "94b1ab7a",
   "metadata": {},
   "source": [
    "<h2 style=\"color:Blue;font-family:Georgia\">Feature selection</h2>"
   ]
  },
  {
   "cell_type": "code",
   "execution_count": 98,
   "id": "36fa825e",
   "metadata": {},
   "outputs": [],
   "source": [
    "# Logistic Regression\n",
    "logreg = LogisticRegression(max_iter=1000)\n",
    "\n",
    "rfe = RFE(logreg, n_features_to_select=20)             \n",
    "rfe = rfe.fit(X_train, y_train)"
   ]
  },
  {
   "cell_type": "code",
   "execution_count": 99,
   "id": "6cebaa6a",
   "metadata": {},
   "outputs": [
    {
     "data": {
      "text/plain": [
       "Index(['do_not_email', 'time_on_website', 'lead_origin_Lead Add Form',\n",
       "       'lead_source_Olark Chat', 'lead_source_Welingak Website',\n",
       "       'last_activity_Converted to Lead', 'last_activity_Email Bounced',\n",
       "       'last_activity_Olark Chat Conversation',\n",
       "       'last_activity_Page Visited on Website', 'last_activity_SMS Sent',\n",
       "       'specialization_Travel and Tourism', 'occupation_Not Specified',\n",
       "       'occupation_Working Professional', 'tags_Already a student',\n",
       "       'tags_Closed by Horizzon', 'tags_Interested in other courses',\n",
       "       'tags_Other Tags', 'tags_Ringing',\n",
       "       'tags_Will revert after reading the email',\n",
       "       'last_notable_activity_SMS Sent'],\n",
       "      dtype='object')"
      ]
     },
     "execution_count": 99,
     "metadata": {},
     "output_type": "execute_result"
    }
   ],
   "source": [
    "# Selected Variables\n",
    "col = X_train.columns[rfe.support_]\n",
    "col"
   ]
  },
  {
   "cell_type": "code",
   "execution_count": 100,
   "id": "4952d3a6",
   "metadata": {},
   "outputs": [
    {
     "data": {
      "text/plain": [
       "Index(['total_visits', 'page_views_per_visit', 'mastering_interview',\n",
       "       'lead_origin_API', 'lead_origin_Landing Page Submission',\n",
       "       'lead_origin_Lead Import', 'lead_source_Direct Traffic',\n",
       "       'lead_source_Google', 'lead_source_Organic Search',\n",
       "       'lead_source_Reference', 'last_activity_Email Link Clicked',\n",
       "       'last_activity_Email Opened', 'last_activity_Form Submitted on Website',\n",
       "       'specialization_Banking, Investment And Insurance',\n",
       "       'specialization_Business Administration',\n",
       "       'specialization_Business Specializations', 'specialization_E-COMMERCE',\n",
       "       'specialization_Management Specializations',\n",
       "       'specialization_Media and Advertising',\n",
       "       'specialization_Services Excellence', 'occupation_Student',\n",
       "       'occupation_Unemployed', 'tags_Interested in Next batch',\n",
       "       'tags_Still Thinking', 'last_notable_activity_Email Opened',\n",
       "       'last_notable_activity_Modified'],\n",
       "      dtype='object')"
      ]
     },
     "execution_count": 100,
     "metadata": {},
     "output_type": "execute_result"
    }
   ],
   "source": [
    "X_train.columns[~rfe.support_]\n"
   ]
  },
  {
   "cell_type": "markdown",
   "id": "2a91e5fc",
   "metadata": {},
   "source": [
    "<h2 style=\"color:Blue;font-family:Georgia\">Building Second Model"
   ]
  },
  {
   "cell_type": "code",
   "execution_count": 101,
   "id": "8c9840db",
   "metadata": {},
   "outputs": [
    {
     "data": {
      "text/html": [
       "<table class=\"simpletable\">\n",
       "<caption>Generalized Linear Model Regression Results</caption>\n",
       "<tr>\n",
       "  <th>Dep. Variable:</th>       <td>converted</td>    <th>  No. Observations:  </th>  <td>  6220</td> \n",
       "</tr>\n",
       "<tr>\n",
       "  <th>Model:</th>                  <td>GLM</td>       <th>  Df Residuals:      </th>  <td>  6199</td> \n",
       "</tr>\n",
       "<tr>\n",
       "  <th>Model Family:</th>        <td>Binomial</td>     <th>  Df Model:          </th>  <td>    20</td> \n",
       "</tr>\n",
       "<tr>\n",
       "  <th>Link Function:</th>         <td>Logit</td>      <th>  Scale:             </th> <td>  1.0000</td>\n",
       "</tr>\n",
       "<tr>\n",
       "  <th>Method:</th>                <td>IRLS</td>       <th>  Log-Likelihood:    </th> <td> -1383.8</td>\n",
       "</tr>\n",
       "<tr>\n",
       "  <th>Date:</th>            <td>Tue, 24 Jan 2023</td> <th>  Deviance:          </th> <td>  2767.5</td>\n",
       "</tr>\n",
       "<tr>\n",
       "  <th>Time:</th>                <td>17:47:42</td>     <th>  Pearson chi2:      </th> <td>6.54e+03</td>\n",
       "</tr>\n",
       "<tr>\n",
       "  <th>No. Iterations:</th>          <td>8</td>        <th>  Pseudo R-squ. (CS):</th>  <td>0.5895</td> \n",
       "</tr>\n",
       "<tr>\n",
       "  <th>Covariance Type:</th>     <td>nonrobust</td>    <th>                     </th>     <td> </td>   \n",
       "</tr>\n",
       "</table>\n",
       "<table class=\"simpletable\">\n",
       "<tr>\n",
       "                      <td></td>                        <th>coef</th>     <th>std err</th>      <th>z</th>      <th>P>|z|</th>  <th>[0.025</th>    <th>0.975]</th>  \n",
       "</tr>\n",
       "<tr>\n",
       "  <th>const</th>                                    <td>   -0.2249</td> <td>    0.143</td> <td>   -1.575</td> <td> 0.115</td> <td>   -0.505</td> <td>    0.055</td>\n",
       "</tr>\n",
       "<tr>\n",
       "  <th>do_not_email</th>                             <td>   -1.0344</td> <td>    0.259</td> <td>   -3.995</td> <td> 0.000</td> <td>   -1.542</td> <td>   -0.527</td>\n",
       "</tr>\n",
       "<tr>\n",
       "  <th>time_on_website</th>                          <td>    1.0331</td> <td>    0.057</td> <td>   18.079</td> <td> 0.000</td> <td>    0.921</td> <td>    1.145</td>\n",
       "</tr>\n",
       "<tr>\n",
       "  <th>lead_origin_Lead Add Form</th>                <td>    1.4002</td> <td>    0.327</td> <td>    4.277</td> <td> 0.000</td> <td>    0.759</td> <td>    2.042</td>\n",
       "</tr>\n",
       "<tr>\n",
       "  <th>lead_source_Olark Chat</th>                   <td>    1.1550</td> <td>    0.146</td> <td>    7.891</td> <td> 0.000</td> <td>    0.868</td> <td>    1.442</td>\n",
       "</tr>\n",
       "<tr>\n",
       "  <th>lead_source_Welingak Website</th>             <td>    3.6394</td> <td>    1.071</td> <td>    3.399</td> <td> 0.001</td> <td>    1.541</td> <td>    5.738</td>\n",
       "</tr>\n",
       "<tr>\n",
       "  <th>last_activity_Converted to Lead</th>          <td>   -1.1492</td> <td>    0.292</td> <td>   -3.932</td> <td> 0.000</td> <td>   -1.722</td> <td>   -0.576</td>\n",
       "</tr>\n",
       "<tr>\n",
       "  <th>last_activity_Email Bounced</th>              <td>   -1.0437</td> <td>    0.472</td> <td>   -2.210</td> <td> 0.027</td> <td>   -1.969</td> <td>   -0.118</td>\n",
       "</tr>\n",
       "<tr>\n",
       "  <th>last_activity_Olark Chat Conversation</th>    <td>   -1.5388</td> <td>    0.216</td> <td>   -7.116</td> <td> 0.000</td> <td>   -1.963</td> <td>   -1.115</td>\n",
       "</tr>\n",
       "<tr>\n",
       "  <th>last_activity_Page Visited on Website</th>    <td>   -0.6655</td> <td>    0.230</td> <td>   -2.897</td> <td> 0.004</td> <td>   -1.116</td> <td>   -0.215</td>\n",
       "</tr>\n",
       "<tr>\n",
       "  <th>last_activity_SMS Sent</th>                   <td>    0.6090</td> <td>    0.179</td> <td>    3.397</td> <td> 0.001</td> <td>    0.258</td> <td>    0.960</td>\n",
       "</tr>\n",
       "<tr>\n",
       "  <th>specialization_Travel and Tourism</th>        <td>   -0.6102</td> <td>    0.387</td> <td>   -1.578</td> <td> 0.114</td> <td>   -1.368</td> <td>    0.148</td>\n",
       "</tr>\n",
       "<tr>\n",
       "  <th>occupation_Not Specified</th>                 <td>   -2.0026</td> <td>    0.145</td> <td>  -13.852</td> <td> 0.000</td> <td>   -2.286</td> <td>   -1.719</td>\n",
       "</tr>\n",
       "<tr>\n",
       "  <th>occupation_Working Professional</th>          <td>    0.3682</td> <td>    0.312</td> <td>    1.180</td> <td> 0.238</td> <td>   -0.243</td> <td>    0.980</td>\n",
       "</tr>\n",
       "<tr>\n",
       "  <th>tags_Already a student</th>                   <td>   -4.4201</td> <td>    0.604</td> <td>   -7.314</td> <td> 0.000</td> <td>   -5.605</td> <td>   -3.236</td>\n",
       "</tr>\n",
       "<tr>\n",
       "  <th>tags_Closed by Horizzon</th>                  <td>    5.1003</td> <td>    1.024</td> <td>    4.981</td> <td> 0.000</td> <td>    3.093</td> <td>    7.107</td>\n",
       "</tr>\n",
       "<tr>\n",
       "  <th>tags_Interested in other courses</th>         <td>   -3.6437</td> <td>    0.425</td> <td>   -8.571</td> <td> 0.000</td> <td>   -4.477</td> <td>   -2.811</td>\n",
       "</tr>\n",
       "<tr>\n",
       "  <th>tags_Other Tags</th>                          <td>   -1.3659</td> <td>    0.155</td> <td>   -8.784</td> <td> 0.000</td> <td>   -1.671</td> <td>   -1.061</td>\n",
       "</tr>\n",
       "<tr>\n",
       "  <th>tags_Ringing</th>                             <td>   -4.6903</td> <td>    0.265</td> <td>  -17.731</td> <td> 0.000</td> <td>   -5.209</td> <td>   -4.172</td>\n",
       "</tr>\n",
       "<tr>\n",
       "  <th>tags_Will revert after reading the email</th> <td>    2.8118</td> <td>    0.211</td> <td>   13.341</td> <td> 0.000</td> <td>    2.399</td> <td>    3.225</td>\n",
       "</tr>\n",
       "<tr>\n",
       "  <th>last_notable_activity_SMS Sent</th>           <td>    1.1755</td> <td>    0.190</td> <td>    6.177</td> <td> 0.000</td> <td>    0.802</td> <td>    1.548</td>\n",
       "</tr>\n",
       "</table>"
      ],
      "text/plain": [
       "<class 'statsmodels.iolib.summary.Summary'>\n",
       "\"\"\"\n",
       "                 Generalized Linear Model Regression Results                  \n",
       "==============================================================================\n",
       "Dep. Variable:              converted   No. Observations:                 6220\n",
       "Model:                            GLM   Df Residuals:                     6199\n",
       "Model Family:                Binomial   Df Model:                           20\n",
       "Link Function:                  Logit   Scale:                          1.0000\n",
       "Method:                          IRLS   Log-Likelihood:                -1383.8\n",
       "Date:                Tue, 24 Jan 2023   Deviance:                       2767.5\n",
       "Time:                        17:47:42   Pearson chi2:                 6.54e+03\n",
       "No. Iterations:                     8   Pseudo R-squ. (CS):             0.5895\n",
       "Covariance Type:            nonrobust                                         \n",
       "============================================================================================================\n",
       "                                               coef    std err          z      P>|z|      [0.025      0.975]\n",
       "------------------------------------------------------------------------------------------------------------\n",
       "const                                       -0.2249      0.143     -1.575      0.115      -0.505       0.055\n",
       "do_not_email                                -1.0344      0.259     -3.995      0.000      -1.542      -0.527\n",
       "time_on_website                              1.0331      0.057     18.079      0.000       0.921       1.145\n",
       "lead_origin_Lead Add Form                    1.4002      0.327      4.277      0.000       0.759       2.042\n",
       "lead_source_Olark Chat                       1.1550      0.146      7.891      0.000       0.868       1.442\n",
       "lead_source_Welingak Website                 3.6394      1.071      3.399      0.001       1.541       5.738\n",
       "last_activity_Converted to Lead             -1.1492      0.292     -3.932      0.000      -1.722      -0.576\n",
       "last_activity_Email Bounced                 -1.0437      0.472     -2.210      0.027      -1.969      -0.118\n",
       "last_activity_Olark Chat Conversation       -1.5388      0.216     -7.116      0.000      -1.963      -1.115\n",
       "last_activity_Page Visited on Website       -0.6655      0.230     -2.897      0.004      -1.116      -0.215\n",
       "last_activity_SMS Sent                       0.6090      0.179      3.397      0.001       0.258       0.960\n",
       "specialization_Travel and Tourism           -0.6102      0.387     -1.578      0.114      -1.368       0.148\n",
       "occupation_Not Specified                    -2.0026      0.145    -13.852      0.000      -2.286      -1.719\n",
       "occupation_Working Professional              0.3682      0.312      1.180      0.238      -0.243       0.980\n",
       "tags_Already a student                      -4.4201      0.604     -7.314      0.000      -5.605      -3.236\n",
       "tags_Closed by Horizzon                      5.1003      1.024      4.981      0.000       3.093       7.107\n",
       "tags_Interested in other courses            -3.6437      0.425     -8.571      0.000      -4.477      -2.811\n",
       "tags_Other Tags                             -1.3659      0.155     -8.784      0.000      -1.671      -1.061\n",
       "tags_Ringing                                -4.6903      0.265    -17.731      0.000      -5.209      -4.172\n",
       "tags_Will revert after reading the email     2.8118      0.211     13.341      0.000       2.399       3.225\n",
       "last_notable_activity_SMS Sent               1.1755      0.190      6.177      0.000       0.802       1.548\n",
       "============================================================================================================\n",
       "\"\"\""
      ]
     },
     "execution_count": 101,
     "metadata": {},
     "output_type": "execute_result"
    }
   ],
   "source": [
    "X_train_sm = sm.add_constant(X_train[col])\n",
    "\n",
    "logm2 = sm.GLM(y_train, X_train_sm, family= sm.families.Binomial())\n",
    "res = logm2.fit()\n",
    "res.summary()"
   ]
  },
  {
   "cell_type": "code",
   "execution_count": 102,
   "id": "5afff00c",
   "metadata": {},
   "outputs": [],
   "source": [
    "#Dropping the variables with p-values greater than 0.05 <br>\n",
    "col = col.drop(['specialization_Travel and Tourism','occupation_Working Professional'])"
   ]
  },
  {
   "cell_type": "code",
   "execution_count": 103,
   "id": "7e3d741a",
   "metadata": {},
   "outputs": [
    {
     "data": {
      "text/plain": [
       "Index(['do_not_email', 'time_on_website', 'lead_origin_Lead Add Form',\n",
       "       'lead_source_Olark Chat', 'lead_source_Welingak Website',\n",
       "       'last_activity_Converted to Lead', 'last_activity_Email Bounced',\n",
       "       'last_activity_Olark Chat Conversation',\n",
       "       'last_activity_Page Visited on Website', 'last_activity_SMS Sent',\n",
       "       'occupation_Not Specified', 'tags_Already a student',\n",
       "       'tags_Closed by Horizzon', 'tags_Interested in other courses',\n",
       "       'tags_Other Tags', 'tags_Ringing',\n",
       "       'tags_Will revert after reading the email',\n",
       "       'last_notable_activity_SMS Sent'],\n",
       "      dtype='object')"
      ]
     },
     "execution_count": 103,
     "metadata": {},
     "output_type": "execute_result"
    }
   ],
   "source": [
    "col"
   ]
  },
  {
   "cell_type": "markdown",
   "id": "2026b856",
   "metadata": {},
   "source": [
    "<h2 style=\"color:Blue;font-family:Georgia\">Building Third Model"
   ]
  },
  {
   "cell_type": "code",
   "execution_count": 104,
   "id": "b63bbf1e",
   "metadata": {},
   "outputs": [
    {
     "data": {
      "text/html": [
       "<table class=\"simpletable\">\n",
       "<caption>Generalized Linear Model Regression Results</caption>\n",
       "<tr>\n",
       "  <th>Dep. Variable:</th>       <td>converted</td>    <th>  No. Observations:  </th>  <td>  6220</td> \n",
       "</tr>\n",
       "<tr>\n",
       "  <th>Model:</th>                  <td>GLM</td>       <th>  Df Residuals:      </th>  <td>  6201</td> \n",
       "</tr>\n",
       "<tr>\n",
       "  <th>Model Family:</th>        <td>Binomial</td>     <th>  Df Model:          </th>  <td>    18</td> \n",
       "</tr>\n",
       "<tr>\n",
       "  <th>Link Function:</th>         <td>Logit</td>      <th>  Scale:             </th> <td>  1.0000</td>\n",
       "</tr>\n",
       "<tr>\n",
       "  <th>Method:</th>                <td>IRLS</td>       <th>  Log-Likelihood:    </th> <td> -1385.8</td>\n",
       "</tr>\n",
       "<tr>\n",
       "  <th>Date:</th>            <td>Tue, 24 Jan 2023</td> <th>  Deviance:          </th> <td>  2771.6</td>\n",
       "</tr>\n",
       "<tr>\n",
       "  <th>Time:</th>                <td>17:47:43</td>     <th>  Pearson chi2:      </th> <td>6.52e+03</td>\n",
       "</tr>\n",
       "<tr>\n",
       "  <th>No. Iterations:</th>          <td>8</td>        <th>  Pseudo R-squ. (CS):</th>  <td>0.5892</td> \n",
       "</tr>\n",
       "<tr>\n",
       "  <th>Covariance Type:</th>     <td>nonrobust</td>    <th>                     </th>     <td> </td>   \n",
       "</tr>\n",
       "</table>\n",
       "<table class=\"simpletable\">\n",
       "<tr>\n",
       "                      <td></td>                        <th>coef</th>     <th>std err</th>      <th>z</th>      <th>P>|z|</th>  <th>[0.025</th>    <th>0.975]</th>  \n",
       "</tr>\n",
       "<tr>\n",
       "  <th>const</th>                                    <td>   -0.2262</td> <td>    0.143</td> <td>   -1.586</td> <td> 0.113</td> <td>   -0.506</td> <td>    0.053</td>\n",
       "</tr>\n",
       "<tr>\n",
       "  <th>do_not_email</th>                             <td>   -1.0383</td> <td>    0.258</td> <td>   -4.027</td> <td> 0.000</td> <td>   -1.544</td> <td>   -0.533</td>\n",
       "</tr>\n",
       "<tr>\n",
       "  <th>time_on_website</th>                          <td>    1.0341</td> <td>    0.057</td> <td>   18.109</td> <td> 0.000</td> <td>    0.922</td> <td>    1.146</td>\n",
       "</tr>\n",
       "<tr>\n",
       "  <th>lead_origin_Lead Add Form</th>                <td>    1.4679</td> <td>    0.327</td> <td>    4.486</td> <td> 0.000</td> <td>    0.827</td> <td>    2.109</td>\n",
       "</tr>\n",
       "<tr>\n",
       "  <th>lead_source_Olark Chat</th>                   <td>    1.1647</td> <td>    0.146</td> <td>    7.962</td> <td> 0.000</td> <td>    0.878</td> <td>    1.451</td>\n",
       "</tr>\n",
       "<tr>\n",
       "  <th>lead_source_Welingak Website</th>             <td>    3.5829</td> <td>    1.071</td> <td>    3.344</td> <td> 0.001</td> <td>    1.483</td> <td>    5.683</td>\n",
       "</tr>\n",
       "<tr>\n",
       "  <th>last_activity_Converted to Lead</th>          <td>   -1.1357</td> <td>    0.290</td> <td>   -3.912</td> <td> 0.000</td> <td>   -1.705</td> <td>   -0.567</td>\n",
       "</tr>\n",
       "<tr>\n",
       "  <th>last_activity_Email Bounced</th>              <td>   -1.0856</td> <td>    0.476</td> <td>   -2.282</td> <td> 0.023</td> <td>   -2.018</td> <td>   -0.153</td>\n",
       "</tr>\n",
       "<tr>\n",
       "  <th>last_activity_Olark Chat Conversation</th>    <td>   -1.5405</td> <td>    0.216</td> <td>   -7.121</td> <td> 0.000</td> <td>   -1.964</td> <td>   -1.117</td>\n",
       "</tr>\n",
       "<tr>\n",
       "  <th>last_activity_Page Visited on Website</th>    <td>   -0.6832</td> <td>    0.230</td> <td>   -2.975</td> <td> 0.003</td> <td>   -1.133</td> <td>   -0.233</td>\n",
       "</tr>\n",
       "<tr>\n",
       "  <th>last_activity_SMS Sent</th>                   <td>    0.6027</td> <td>    0.178</td> <td>    3.378</td> <td> 0.001</td> <td>    0.253</td> <td>    0.952</td>\n",
       "</tr>\n",
       "<tr>\n",
       "  <th>occupation_Not Specified</th>                 <td>   -2.0110</td> <td>    0.145</td> <td>  -13.916</td> <td> 0.000</td> <td>   -2.294</td> <td>   -1.728</td>\n",
       "</tr>\n",
       "<tr>\n",
       "  <th>tags_Already a student</th>                   <td>   -4.4193</td> <td>    0.604</td> <td>   -7.312</td> <td> 0.000</td> <td>   -5.604</td> <td>   -3.235</td>\n",
       "</tr>\n",
       "<tr>\n",
       "  <th>tags_Closed by Horizzon</th>                  <td>    5.1843</td> <td>    1.024</td> <td>    5.061</td> <td> 0.000</td> <td>    3.177</td> <td>    7.192</td>\n",
       "</tr>\n",
       "<tr>\n",
       "  <th>tags_Interested in other courses</th>         <td>   -3.6479</td> <td>    0.425</td> <td>   -8.578</td> <td> 0.000</td> <td>   -4.481</td> <td>   -2.814</td>\n",
       "</tr>\n",
       "<tr>\n",
       "  <th>tags_Other Tags</th>                          <td>   -1.3674</td> <td>    0.155</td> <td>   -8.796</td> <td> 0.000</td> <td>   -1.672</td> <td>   -1.063</td>\n",
       "</tr>\n",
       "<tr>\n",
       "  <th>tags_Ringing</th>                             <td>   -4.6856</td> <td>    0.264</td> <td>  -17.741</td> <td> 0.000</td> <td>   -5.203</td> <td>   -4.168</td>\n",
       "</tr>\n",
       "<tr>\n",
       "  <th>tags_Will revert after reading the email</th> <td>    2.8607</td> <td>    0.205</td> <td>   13.947</td> <td> 0.000</td> <td>    2.459</td> <td>    3.263</td>\n",
       "</tr>\n",
       "<tr>\n",
       "  <th>last_notable_activity_SMS Sent</th>           <td>    1.1751</td> <td>    0.190</td> <td>    6.201</td> <td> 0.000</td> <td>    0.804</td> <td>    1.547</td>\n",
       "</tr>\n",
       "</table>"
      ],
      "text/plain": [
       "<class 'statsmodels.iolib.summary.Summary'>\n",
       "\"\"\"\n",
       "                 Generalized Linear Model Regression Results                  \n",
       "==============================================================================\n",
       "Dep. Variable:              converted   No. Observations:                 6220\n",
       "Model:                            GLM   Df Residuals:                     6201\n",
       "Model Family:                Binomial   Df Model:                           18\n",
       "Link Function:                  Logit   Scale:                          1.0000\n",
       "Method:                          IRLS   Log-Likelihood:                -1385.8\n",
       "Date:                Tue, 24 Jan 2023   Deviance:                       2771.6\n",
       "Time:                        17:47:43   Pearson chi2:                 6.52e+03\n",
       "No. Iterations:                     8   Pseudo R-squ. (CS):             0.5892\n",
       "Covariance Type:            nonrobust                                         \n",
       "============================================================================================================\n",
       "                                               coef    std err          z      P>|z|      [0.025      0.975]\n",
       "------------------------------------------------------------------------------------------------------------\n",
       "const                                       -0.2262      0.143     -1.586      0.113      -0.506       0.053\n",
       "do_not_email                                -1.0383      0.258     -4.027      0.000      -1.544      -0.533\n",
       "time_on_website                              1.0341      0.057     18.109      0.000       0.922       1.146\n",
       "lead_origin_Lead Add Form                    1.4679      0.327      4.486      0.000       0.827       2.109\n",
       "lead_source_Olark Chat                       1.1647      0.146      7.962      0.000       0.878       1.451\n",
       "lead_source_Welingak Website                 3.5829      1.071      3.344      0.001       1.483       5.683\n",
       "last_activity_Converted to Lead             -1.1357      0.290     -3.912      0.000      -1.705      -0.567\n",
       "last_activity_Email Bounced                 -1.0856      0.476     -2.282      0.023      -2.018      -0.153\n",
       "last_activity_Olark Chat Conversation       -1.5405      0.216     -7.121      0.000      -1.964      -1.117\n",
       "last_activity_Page Visited on Website       -0.6832      0.230     -2.975      0.003      -1.133      -0.233\n",
       "last_activity_SMS Sent                       0.6027      0.178      3.378      0.001       0.253       0.952\n",
       "occupation_Not Specified                    -2.0110      0.145    -13.916      0.000      -2.294      -1.728\n",
       "tags_Already a student                      -4.4193      0.604     -7.312      0.000      -5.604      -3.235\n",
       "tags_Closed by Horizzon                      5.1843      1.024      5.061      0.000       3.177       7.192\n",
       "tags_Interested in other courses            -3.6479      0.425     -8.578      0.000      -4.481      -2.814\n",
       "tags_Other Tags                             -1.3674      0.155     -8.796      0.000      -1.672      -1.063\n",
       "tags_Ringing                                -4.6856      0.264    -17.741      0.000      -5.203      -4.168\n",
       "tags_Will revert after reading the email     2.8607      0.205     13.947      0.000       2.459       3.263\n",
       "last_notable_activity_SMS Sent               1.1751      0.190      6.201      0.000       0.804       1.547\n",
       "============================================================================================================\n",
       "\"\"\""
      ]
     },
     "execution_count": 104,
     "metadata": {},
     "output_type": "execute_result"
    }
   ],
   "source": [
    "# Model 3\n",
    "X_train_sm = sm.add_constant(X_train[col])\n",
    "\n",
    "logm3 = sm.GLM(y_train, X_train_sm, family= sm.families.Binomial())\n",
    "res = logm3.fit()\n",
    "res.summary()"
   ]
  },
  {
   "cell_type": "markdown",
   "id": "3e8b1440",
   "metadata": {},
   "source": [
    "6.7 Checking VIFs"
   ]
  },
  {
   "cell_type": "code",
   "execution_count": 105,
   "id": "9e84130a",
   "metadata": {},
   "outputs": [
    {
     "data": {
      "text/html": [
       "<div>\n",
       "<style scoped>\n",
       "    .dataframe tbody tr th:only-of-type {\n",
       "        vertical-align: middle;\n",
       "    }\n",
       "\n",
       "    .dataframe tbody tr th {\n",
       "        vertical-align: top;\n",
       "    }\n",
       "\n",
       "    .dataframe thead th {\n",
       "        text-align: right;\n",
       "    }\n",
       "</style>\n",
       "<table border=\"1\" class=\"dataframe\">\n",
       "  <thead>\n",
       "    <tr style=\"text-align: right;\">\n",
       "      <th></th>\n",
       "      <th>Features</th>\n",
       "      <th>VIF</th>\n",
       "    </tr>\n",
       "  </thead>\n",
       "  <tbody>\n",
       "    <tr>\n",
       "      <th>9</th>\n",
       "      <td>last_activity_SMS Sent</td>\n",
       "      <td>5.38</td>\n",
       "    </tr>\n",
       "    <tr>\n",
       "      <th>17</th>\n",
       "      <td>last_notable_activity_SMS Sent</td>\n",
       "      <td>4.92</td>\n",
       "    </tr>\n",
       "    <tr>\n",
       "      <th>2</th>\n",
       "      <td>lead_origin_Lead Add Form</td>\n",
       "      <td>1.87</td>\n",
       "    </tr>\n",
       "    <tr>\n",
       "      <th>0</th>\n",
       "      <td>do_not_email</td>\n",
       "      <td>1.83</td>\n",
       "    </tr>\n",
       "    <tr>\n",
       "      <th>6</th>\n",
       "      <td>last_activity_Email Bounced</td>\n",
       "      <td>1.79</td>\n",
       "    </tr>\n",
       "    <tr>\n",
       "      <th>3</th>\n",
       "      <td>lead_source_Olark Chat</td>\n",
       "      <td>1.77</td>\n",
       "    </tr>\n",
       "    <tr>\n",
       "      <th>16</th>\n",
       "      <td>tags_Will revert after reading the email</td>\n",
       "      <td>1.67</td>\n",
       "    </tr>\n",
       "    <tr>\n",
       "      <th>10</th>\n",
       "      <td>occupation_Not Specified</td>\n",
       "      <td>1.56</td>\n",
       "    </tr>\n",
       "    <tr>\n",
       "      <th>7</th>\n",
       "      <td>last_activity_Olark Chat Conversation</td>\n",
       "      <td>1.51</td>\n",
       "    </tr>\n",
       "    <tr>\n",
       "      <th>1</th>\n",
       "      <td>time_on_website</td>\n",
       "      <td>1.38</td>\n",
       "    </tr>\n",
       "    <tr>\n",
       "      <th>4</th>\n",
       "      <td>lead_source_Welingak Website</td>\n",
       "      <td>1.31</td>\n",
       "    </tr>\n",
       "    <tr>\n",
       "      <th>12</th>\n",
       "      <td>tags_Closed by Horizzon</td>\n",
       "      <td>1.30</td>\n",
       "    </tr>\n",
       "    <tr>\n",
       "      <th>14</th>\n",
       "      <td>tags_Other Tags</td>\n",
       "      <td>1.18</td>\n",
       "    </tr>\n",
       "    <tr>\n",
       "      <th>8</th>\n",
       "      <td>last_activity_Page Visited on Website</td>\n",
       "      <td>1.16</td>\n",
       "    </tr>\n",
       "    <tr>\n",
       "      <th>15</th>\n",
       "      <td>tags_Ringing</td>\n",
       "      <td>1.14</td>\n",
       "    </tr>\n",
       "    <tr>\n",
       "      <th>5</th>\n",
       "      <td>last_activity_Converted to Lead</td>\n",
       "      <td>1.12</td>\n",
       "    </tr>\n",
       "    <tr>\n",
       "      <th>11</th>\n",
       "      <td>tags_Already a student</td>\n",
       "      <td>1.09</td>\n",
       "    </tr>\n",
       "    <tr>\n",
       "      <th>13</th>\n",
       "      <td>tags_Interested in other courses</td>\n",
       "      <td>1.09</td>\n",
       "    </tr>\n",
       "  </tbody>\n",
       "</table>\n",
       "</div>"
      ],
      "text/plain": [
       "                                    Features   VIF\n",
       "9                     last_activity_SMS Sent  5.38\n",
       "17            last_notable_activity_SMS Sent  4.92\n",
       "2                  lead_origin_Lead Add Form  1.87\n",
       "0                               do_not_email  1.83\n",
       "6                last_activity_Email Bounced  1.79\n",
       "3                     lead_source_Olark Chat  1.77\n",
       "16  tags_Will revert after reading the email  1.67\n",
       "10                  occupation_Not Specified  1.56\n",
       "7      last_activity_Olark Chat Conversation  1.51\n",
       "1                            time_on_website  1.38\n",
       "4               lead_source_Welingak Website  1.31\n",
       "12                   tags_Closed by Horizzon  1.30\n",
       "14                           tags_Other Tags  1.18\n",
       "8      last_activity_Page Visited on Website  1.16\n",
       "15                              tags_Ringing  1.14\n",
       "5            last_activity_Converted to Lead  1.12\n",
       "11                    tags_Already a student  1.09\n",
       "13          tags_Interested in other courses  1.09"
      ]
     },
     "execution_count": 105,
     "metadata": {},
     "output_type": "execute_result"
    }
   ],
   "source": [
    "# Create a dataframe that will contain the names of all the feature variables and their respective VIFs\n",
    "vif = pd.DataFrame()\n",
    "vif['Features'] = X_train[col].columns\n",
    "vif['VIF'] = [variance_inflation_factor(X_train[col].values, i) for i in range(X_train[col].shape[1])]\n",
    "vif['VIF'] = round(vif['VIF'], 2)\n",
    "vif = vif.sort_values(by = \"VIF\", ascending = False)\n",
    "vif"
   ]
  },
  {
   "cell_type": "code",
   "execution_count": 106,
   "id": "8545e613",
   "metadata": {},
   "outputs": [],
   "source": [
    "# dropping columns with high VIF <br>\n",
    "col = col.drop(['last_activity_SMS Sent','last_notable_activity_SMS Sent'])"
   ]
  },
  {
   "cell_type": "code",
   "execution_count": 107,
   "id": "f6d589e7",
   "metadata": {},
   "outputs": [
    {
     "data": {
      "text/html": [
       "<div>\n",
       "<style scoped>\n",
       "    .dataframe tbody tr th:only-of-type {\n",
       "        vertical-align: middle;\n",
       "    }\n",
       "\n",
       "    .dataframe tbody tr th {\n",
       "        vertical-align: top;\n",
       "    }\n",
       "\n",
       "    .dataframe thead th {\n",
       "        text-align: right;\n",
       "    }\n",
       "</style>\n",
       "<table border=\"1\" class=\"dataframe\">\n",
       "  <thead>\n",
       "    <tr style=\"text-align: right;\">\n",
       "      <th></th>\n",
       "      <th>Features</th>\n",
       "      <th>VIF</th>\n",
       "    </tr>\n",
       "  </thead>\n",
       "  <tbody>\n",
       "    <tr>\n",
       "      <th>2</th>\n",
       "      <td>lead_origin_Lead Add Form</td>\n",
       "      <td>1.86</td>\n",
       "    </tr>\n",
       "    <tr>\n",
       "      <th>0</th>\n",
       "      <td>do_not_email</td>\n",
       "      <td>1.80</td>\n",
       "    </tr>\n",
       "    <tr>\n",
       "      <th>3</th>\n",
       "      <td>lead_source_Olark Chat</td>\n",
       "      <td>1.76</td>\n",
       "    </tr>\n",
       "    <tr>\n",
       "      <th>6</th>\n",
       "      <td>last_activity_Email Bounced</td>\n",
       "      <td>1.74</td>\n",
       "    </tr>\n",
       "    <tr>\n",
       "      <th>7</th>\n",
       "      <td>last_activity_Olark Chat Conversation</td>\n",
       "      <td>1.46</td>\n",
       "    </tr>\n",
       "    <tr>\n",
       "      <th>9</th>\n",
       "      <td>occupation_Not Specified</td>\n",
       "      <td>1.40</td>\n",
       "    </tr>\n",
       "    <tr>\n",
       "      <th>1</th>\n",
       "      <td>time_on_website</td>\n",
       "      <td>1.37</td>\n",
       "    </tr>\n",
       "    <tr>\n",
       "      <th>15</th>\n",
       "      <td>tags_Will revert after reading the email</td>\n",
       "      <td>1.36</td>\n",
       "    </tr>\n",
       "    <tr>\n",
       "      <th>4</th>\n",
       "      <td>lead_source_Welingak Website</td>\n",
       "      <td>1.30</td>\n",
       "    </tr>\n",
       "    <tr>\n",
       "      <th>11</th>\n",
       "      <td>tags_Closed by Horizzon</td>\n",
       "      <td>1.29</td>\n",
       "    </tr>\n",
       "    <tr>\n",
       "      <th>8</th>\n",
       "      <td>last_activity_Page Visited on Website</td>\n",
       "      <td>1.12</td>\n",
       "    </tr>\n",
       "    <tr>\n",
       "      <th>5</th>\n",
       "      <td>last_activity_Converted to Lead</td>\n",
       "      <td>1.10</td>\n",
       "    </tr>\n",
       "    <tr>\n",
       "      <th>13</th>\n",
       "      <td>tags_Other Tags</td>\n",
       "      <td>1.10</td>\n",
       "    </tr>\n",
       "    <tr>\n",
       "      <th>10</th>\n",
       "      <td>tags_Already a student</td>\n",
       "      <td>1.08</td>\n",
       "    </tr>\n",
       "    <tr>\n",
       "      <th>12</th>\n",
       "      <td>tags_Interested in other courses</td>\n",
       "      <td>1.08</td>\n",
       "    </tr>\n",
       "    <tr>\n",
       "      <th>14</th>\n",
       "      <td>tags_Ringing</td>\n",
       "      <td>1.03</td>\n",
       "    </tr>\n",
       "  </tbody>\n",
       "</table>\n",
       "</div>"
      ],
      "text/plain": [
       "                                    Features   VIF\n",
       "2                  lead_origin_Lead Add Form  1.86\n",
       "0                               do_not_email  1.80\n",
       "3                     lead_source_Olark Chat  1.76\n",
       "6                last_activity_Email Bounced  1.74\n",
       "7      last_activity_Olark Chat Conversation  1.46\n",
       "9                   occupation_Not Specified  1.40\n",
       "1                            time_on_website  1.37\n",
       "15  tags_Will revert after reading the email  1.36\n",
       "4               lead_source_Welingak Website  1.30\n",
       "11                   tags_Closed by Horizzon  1.29\n",
       "8      last_activity_Page Visited on Website  1.12\n",
       "5            last_activity_Converted to Lead  1.10\n",
       "13                           tags_Other Tags  1.10\n",
       "10                    tags_Already a student  1.08\n",
       "12          tags_Interested in other courses  1.08\n",
       "14                              tags_Ringing  1.03"
      ]
     },
     "execution_count": 107,
     "metadata": {},
     "output_type": "execute_result"
    }
   ],
   "source": [
    "# Create a dataframe that will contain the names of all the feature variables and their respective VIFs\n",
    "vif = pd.DataFrame()\n",
    "vif['Features'] = X_train[col].columns\n",
    "vif['VIF'] = [variance_inflation_factor(X_train[col].values, i) for i in range(X_train[col].shape[1])]\n",
    "vif['VIF'] = round(vif['VIF'], 2)\n",
    "vif = vif.sort_values(by = \"VIF\", ascending = False)\n",
    "vif"
   ]
  },
  {
   "cell_type": "markdown",
   "id": "e51ee3bd",
   "metadata": {},
   "source": [
    "6.8 Building Fourth Model"
   ]
  },
  {
   "cell_type": "code",
   "execution_count": 108,
   "id": "6bcbf125",
   "metadata": {},
   "outputs": [
    {
     "data": {
      "text/html": [
       "<table class=\"simpletable\">\n",
       "<caption>Generalized Linear Model Regression Results</caption>\n",
       "<tr>\n",
       "  <th>Dep. Variable:</th>       <td>converted</td>    <th>  No. Observations:  </th>  <td>  6220</td> \n",
       "</tr>\n",
       "<tr>\n",
       "  <th>Model:</th>                  <td>GLM</td>       <th>  Df Residuals:      </th>  <td>  6203</td> \n",
       "</tr>\n",
       "<tr>\n",
       "  <th>Model Family:</th>        <td>Binomial</td>     <th>  Df Model:          </th>  <td>    16</td> \n",
       "</tr>\n",
       "<tr>\n",
       "  <th>Link Function:</th>         <td>Logit</td>      <th>  Scale:             </th> <td>  1.0000</td>\n",
       "</tr>\n",
       "<tr>\n",
       "  <th>Method:</th>                <td>IRLS</td>       <th>  Log-Likelihood:    </th> <td> -1492.4</td>\n",
       "</tr>\n",
       "<tr>\n",
       "  <th>Date:</th>            <td>Tue, 24 Jan 2023</td> <th>  Deviance:          </th> <td>  2984.8</td>\n",
       "</tr>\n",
       "<tr>\n",
       "  <th>Time:</th>                <td>17:47:43</td>     <th>  Pearson chi2:      </th> <td>6.75e+03</td>\n",
       "</tr>\n",
       "<tr>\n",
       "  <th>No. Iterations:</th>          <td>8</td>        <th>  Pseudo R-squ. (CS):</th>  <td>0.5749</td> \n",
       "</tr>\n",
       "<tr>\n",
       "  <th>Covariance Type:</th>     <td>nonrobust</td>    <th>                     </th>     <td> </td>   \n",
       "</tr>\n",
       "</table>\n",
       "<table class=\"simpletable\">\n",
       "<tr>\n",
       "                      <td></td>                        <th>coef</th>     <th>std err</th>      <th>z</th>      <th>P>|z|</th>  <th>[0.025</th>    <th>0.975]</th>  \n",
       "</tr>\n",
       "<tr>\n",
       "  <th>const</th>                                    <td>    0.5025</td> <td>    0.127</td> <td>    3.969</td> <td> 0.000</td> <td>    0.254</td> <td>    0.751</td>\n",
       "</tr>\n",
       "<tr>\n",
       "  <th>do_not_email</th>                             <td>   -0.5397</td> <td>    0.244</td> <td>   -2.214</td> <td> 0.027</td> <td>   -1.018</td> <td>   -0.062</td>\n",
       "</tr>\n",
       "<tr>\n",
       "  <th>time_on_website</th>                          <td>    1.0441</td> <td>    0.055</td> <td>   18.957</td> <td> 0.000</td> <td>    0.936</td> <td>    1.152</td>\n",
       "</tr>\n",
       "<tr>\n",
       "  <th>lead_origin_Lead Add Form</th>                <td>    1.5088</td> <td>    0.315</td> <td>    4.791</td> <td> 0.000</td> <td>    0.891</td> <td>    2.126</td>\n",
       "</tr>\n",
       "<tr>\n",
       "  <th>lead_source_Olark Chat</th>                   <td>    1.0106</td> <td>    0.138</td> <td>    7.345</td> <td> 0.000</td> <td>    0.741</td> <td>    1.280</td>\n",
       "</tr>\n",
       "<tr>\n",
       "  <th>lead_source_Welingak Website</th>             <td>    3.5067</td> <td>    1.064</td> <td>    3.297</td> <td> 0.001</td> <td>    1.422</td> <td>    5.592</td>\n",
       "</tr>\n",
       "<tr>\n",
       "  <th>last_activity_Converted to Lead</th>          <td>   -1.7667</td> <td>    0.286</td> <td>   -6.167</td> <td> 0.000</td> <td>   -2.328</td> <td>   -1.205</td>\n",
       "</tr>\n",
       "<tr>\n",
       "  <th>last_activity_Email Bounced</th>              <td>   -2.1790</td> <td>    0.462</td> <td>   -4.714</td> <td> 0.000</td> <td>   -3.085</td> <td>   -1.273</td>\n",
       "</tr>\n",
       "<tr>\n",
       "  <th>last_activity_Olark Chat Conversation</th>    <td>   -2.0720</td> <td>    0.214</td> <td>   -9.680</td> <td> 0.000</td> <td>   -2.492</td> <td>   -1.653</td>\n",
       "</tr>\n",
       "<tr>\n",
       "  <th>last_activity_Page Visited on Website</th>    <td>   -1.3286</td> <td>    0.225</td> <td>   -5.914</td> <td> 0.000</td> <td>   -1.769</td> <td>   -0.888</td>\n",
       "</tr>\n",
       "<tr>\n",
       "  <th>occupation_Not Specified</th>                 <td>   -2.1841</td> <td>    0.136</td> <td>  -16.087</td> <td> 0.000</td> <td>   -2.450</td> <td>   -1.918</td>\n",
       "</tr>\n",
       "<tr>\n",
       "  <th>tags_Already a student</th>                   <td>   -5.0182</td> <td>    0.604</td> <td>   -8.307</td> <td> 0.000</td> <td>   -6.202</td> <td>   -3.834</td>\n",
       "</tr>\n",
       "<tr>\n",
       "  <th>tags_Closed by Horizzon</th>                  <td>    4.7715</td> <td>    1.028</td> <td>    4.640</td> <td> 0.000</td> <td>    2.756</td> <td>    6.787</td>\n",
       "</tr>\n",
       "<tr>\n",
       "  <th>tags_Interested in other courses</th>         <td>   -4.1099</td> <td>    0.416</td> <td>   -9.868</td> <td> 0.000</td> <td>   -4.926</td> <td>   -3.294</td>\n",
       "</tr>\n",
       "<tr>\n",
       "  <th>tags_Other Tags</th>                          <td>   -1.4565</td> <td>    0.147</td> <td>   -9.896</td> <td> 0.000</td> <td>   -1.745</td> <td>   -1.168</td>\n",
       "</tr>\n",
       "<tr>\n",
       "  <th>tags_Ringing</th>                             <td>   -4.3971</td> <td>    0.252</td> <td>  -17.415</td> <td> 0.000</td> <td>   -4.892</td> <td>   -3.902</td>\n",
       "</tr>\n",
       "<tr>\n",
       "  <th>tags_Will revert after reading the email</th> <td>    2.7497</td> <td>    0.199</td> <td>   13.839</td> <td> 0.000</td> <td>    2.360</td> <td>    3.139</td>\n",
       "</tr>\n",
       "</table>"
      ],
      "text/plain": [
       "<class 'statsmodels.iolib.summary.Summary'>\n",
       "\"\"\"\n",
       "                 Generalized Linear Model Regression Results                  \n",
       "==============================================================================\n",
       "Dep. Variable:              converted   No. Observations:                 6220\n",
       "Model:                            GLM   Df Residuals:                     6203\n",
       "Model Family:                Binomial   Df Model:                           16\n",
       "Link Function:                  Logit   Scale:                          1.0000\n",
       "Method:                          IRLS   Log-Likelihood:                -1492.4\n",
       "Date:                Tue, 24 Jan 2023   Deviance:                       2984.8\n",
       "Time:                        17:47:43   Pearson chi2:                 6.75e+03\n",
       "No. Iterations:                     8   Pseudo R-squ. (CS):             0.5749\n",
       "Covariance Type:            nonrobust                                         \n",
       "============================================================================================================\n",
       "                                               coef    std err          z      P>|z|      [0.025      0.975]\n",
       "------------------------------------------------------------------------------------------------------------\n",
       "const                                        0.5025      0.127      3.969      0.000       0.254       0.751\n",
       "do_not_email                                -0.5397      0.244     -2.214      0.027      -1.018      -0.062\n",
       "time_on_website                              1.0441      0.055     18.957      0.000       0.936       1.152\n",
       "lead_origin_Lead Add Form                    1.5088      0.315      4.791      0.000       0.891       2.126\n",
       "lead_source_Olark Chat                       1.0106      0.138      7.345      0.000       0.741       1.280\n",
       "lead_source_Welingak Website                 3.5067      1.064      3.297      0.001       1.422       5.592\n",
       "last_activity_Converted to Lead             -1.7667      0.286     -6.167      0.000      -2.328      -1.205\n",
       "last_activity_Email Bounced                 -2.1790      0.462     -4.714      0.000      -3.085      -1.273\n",
       "last_activity_Olark Chat Conversation       -2.0720      0.214     -9.680      0.000      -2.492      -1.653\n",
       "last_activity_Page Visited on Website       -1.3286      0.225     -5.914      0.000      -1.769      -0.888\n",
       "occupation_Not Specified                    -2.1841      0.136    -16.087      0.000      -2.450      -1.918\n",
       "tags_Already a student                      -5.0182      0.604     -8.307      0.000      -6.202      -3.834\n",
       "tags_Closed by Horizzon                      4.7715      1.028      4.640      0.000       2.756       6.787\n",
       "tags_Interested in other courses            -4.1099      0.416     -9.868      0.000      -4.926      -3.294\n",
       "tags_Other Tags                             -1.4565      0.147     -9.896      0.000      -1.745      -1.168\n",
       "tags_Ringing                                -4.3971      0.252    -17.415      0.000      -4.892      -3.902\n",
       "tags_Will revert after reading the email     2.7497      0.199     13.839      0.000       2.360       3.139\n",
       "============================================================================================================\n",
       "\"\"\""
      ]
     },
     "execution_count": 108,
     "metadata": {},
     "output_type": "execute_result"
    }
   ],
   "source": [
    "X_train_sm = sm.add_constant(X_train[col])\n",
    "\n",
    "logm3 = sm.GLM(y_train, X_train_sm, family= sm.families.Binomial())\n",
    "res = logm3.fit()\n",
    "res.summary()"
   ]
  },
  {
   "cell_type": "markdown",
   "id": "365245dc",
   "metadata": {},
   "source": [
    " <h2 style=\"color:Blue;font-family:Georgia\">Predicting the train set</h2>"
   ]
  },
  {
   "cell_type": "code",
   "execution_count": 109,
   "id": "44ec1aff",
   "metadata": {},
   "outputs": [
    {
     "data": {
      "text/plain": [
       "array([0.01540135, 0.92114717, 0.23464363, ..., 0.11389254, 0.19625095,\n",
       "       0.00654142])"
      ]
     },
     "execution_count": 109,
     "metadata": {},
     "output_type": "execute_result"
    }
   ],
   "source": [
    "y_train_pred = res.predict(X_train_sm).values.reshape(-1)\n",
    "y_train_pred"
   ]
  },
  {
   "cell_type": "code",
   "execution_count": 110,
   "id": "05cef4eb",
   "metadata": {},
   "outputs": [
    {
     "data": {
      "text/html": [
       "<div>\n",
       "<style scoped>\n",
       "    .dataframe tbody tr th:only-of-type {\n",
       "        vertical-align: middle;\n",
       "    }\n",
       "\n",
       "    .dataframe tbody tr th {\n",
       "        vertical-align: top;\n",
       "    }\n",
       "\n",
       "    .dataframe thead th {\n",
       "        text-align: right;\n",
       "    }\n",
       "</style>\n",
       "<table border=\"1\" class=\"dataframe\">\n",
       "  <thead>\n",
       "    <tr style=\"text-align: right;\">\n",
       "      <th></th>\n",
       "      <th>Converted</th>\n",
       "      <th>Converted_Prob</th>\n",
       "      <th>Prospect ID</th>\n",
       "    </tr>\n",
       "  </thead>\n",
       "  <tbody>\n",
       "    <tr>\n",
       "      <th>0</th>\n",
       "      <td>0</td>\n",
       "      <td>0.015401</td>\n",
       "      <td>601</td>\n",
       "    </tr>\n",
       "    <tr>\n",
       "      <th>1</th>\n",
       "      <td>1</td>\n",
       "      <td>0.921147</td>\n",
       "      <td>1488</td>\n",
       "    </tr>\n",
       "    <tr>\n",
       "      <th>2</th>\n",
       "      <td>0</td>\n",
       "      <td>0.234644</td>\n",
       "      <td>4099</td>\n",
       "    </tr>\n",
       "    <tr>\n",
       "      <th>3</th>\n",
       "      <td>0</td>\n",
       "      <td>0.044574</td>\n",
       "      <td>1201</td>\n",
       "    </tr>\n",
       "    <tr>\n",
       "      <th>4</th>\n",
       "      <td>0</td>\n",
       "      <td>0.011549</td>\n",
       "      <td>7388</td>\n",
       "    </tr>\n",
       "  </tbody>\n",
       "</table>\n",
       "</div>"
      ],
      "text/plain": [
       "   Converted  Converted_Prob  Prospect ID\n",
       "0          0        0.015401          601\n",
       "1          1        0.921147         1488\n",
       "2          0        0.234644         4099\n",
       "3          0        0.044574         1201\n",
       "4          0        0.011549         7388"
      ]
     },
     "execution_count": 110,
     "metadata": {},
     "output_type": "execute_result"
    }
   ],
   "source": [
    "y_train_pred_final = pd.DataFrame({'Converted': y_train.values, 'Converted_Prob': y_train_pred})\n",
    "y_train_pred_final['Prospect ID'] = y_train.index\n",
    "y_train_pred_final.head()"
   ]
  },
  {
   "cell_type": "code",
   "execution_count": 111,
   "id": "40598edf",
   "metadata": {},
   "outputs": [
    {
     "data": {
      "text/html": [
       "<div>\n",
       "<style scoped>\n",
       "    .dataframe tbody tr th:only-of-type {\n",
       "        vertical-align: middle;\n",
       "    }\n",
       "\n",
       "    .dataframe tbody tr th {\n",
       "        vertical-align: top;\n",
       "    }\n",
       "\n",
       "    .dataframe thead th {\n",
       "        text-align: right;\n",
       "    }\n",
       "</style>\n",
       "<table border=\"1\" class=\"dataframe\">\n",
       "  <thead>\n",
       "    <tr style=\"text-align: right;\">\n",
       "      <th></th>\n",
       "      <th>Converted</th>\n",
       "      <th>Converted_Prob</th>\n",
       "      <th>Prospect ID</th>\n",
       "      <th>Predicted</th>\n",
       "    </tr>\n",
       "  </thead>\n",
       "  <tbody>\n",
       "    <tr>\n",
       "      <th>0</th>\n",
       "      <td>0</td>\n",
       "      <td>0.015401</td>\n",
       "      <td>601</td>\n",
       "      <td>0</td>\n",
       "    </tr>\n",
       "    <tr>\n",
       "      <th>1</th>\n",
       "      <td>1</td>\n",
       "      <td>0.921147</td>\n",
       "      <td>1488</td>\n",
       "      <td>1</td>\n",
       "    </tr>\n",
       "    <tr>\n",
       "      <th>2</th>\n",
       "      <td>0</td>\n",
       "      <td>0.234644</td>\n",
       "      <td>4099</td>\n",
       "      <td>0</td>\n",
       "    </tr>\n",
       "    <tr>\n",
       "      <th>3</th>\n",
       "      <td>0</td>\n",
       "      <td>0.044574</td>\n",
       "      <td>1201</td>\n",
       "      <td>0</td>\n",
       "    </tr>\n",
       "    <tr>\n",
       "      <th>4</th>\n",
       "      <td>0</td>\n",
       "      <td>0.011549</td>\n",
       "      <td>7388</td>\n",
       "      <td>0</td>\n",
       "    </tr>\n",
       "  </tbody>\n",
       "</table>\n",
       "</div>"
      ],
      "text/plain": [
       "   Converted  Converted_Prob  Prospect ID  Predicted\n",
       "0          0        0.015401          601          0\n",
       "1          1        0.921147         1488          1\n",
       "2          0        0.234644         4099          0\n",
       "3          0        0.044574         1201          0\n",
       "4          0        0.011549         7388          0"
      ]
     },
     "execution_count": 111,
     "metadata": {},
     "output_type": "execute_result"
    }
   ],
   "source": [
    "# Making a new column Predicted with values which have Probability greater than 0.5\n",
    "y_train_pred_final['Predicted'] = y_train_pred_final.Converted_Prob.map(lambda x: 1 if x > 0.5 else 0)\n",
    "y_train_pred_final.head()"
   ]
  },
  {
   "cell_type": "code",
   "execution_count": 112,
   "id": "9ce24745",
   "metadata": {},
   "outputs": [
    {
     "name": "stdout",
     "output_type": "stream",
     "text": [
      "0.9059485530546624\n"
     ]
    }
   ],
   "source": [
    "# Let's check the overall accuracy.\n",
    "print(metrics.accuracy_score(y_true= y_train_pred_final.Converted, y_pred= y_train_pred_final.Predicted))"
   ]
  },
  {
   "cell_type": "code",
   "execution_count": 113,
   "id": "8c6192d2",
   "metadata": {},
   "outputs": [
    {
     "data": {
      "text/plain": [
       "array([[3608,  201],\n",
       "       [ 384, 2027]], dtype=int64)"
      ]
     },
     "execution_count": 113,
     "metadata": {},
     "output_type": "execute_result"
    }
   ],
   "source": [
    "# Let's take a look at the confusion matrix again \n",
    "confusion = metrics.confusion_matrix(y_true= y_train_pred_final.Converted, y_pred= y_train_pred_final.Predicted)\n",
    "confusion"
   ]
  },
  {
   "cell_type": "code",
   "execution_count": 114,
   "id": "5efa2c6d",
   "metadata": {},
   "outputs": [],
   "source": [
    "#Metrics beyond Simple Accuracy\n",
    "TP = confusion[1,1] # true positive \n",
    "TN = confusion[0,0] # true negatives\n",
    "FP = confusion[0,1] # false positives\n",
    "FN = confusion[1,0] # false negatives"
   ]
  },
  {
   "cell_type": "code",
   "execution_count": 115,
   "id": "acf47367",
   "metadata": {},
   "outputs": [
    {
     "data": {
      "text/plain": [
       "0.8407299875570303"
      ]
     },
     "execution_count": 115,
     "metadata": {},
     "output_type": "execute_result"
    }
   ],
   "source": [
    "# Let's see the sensitivity of our logistic regression model\n",
    "TP / float(TP+FN)"
   ]
  },
  {
   "cell_type": "code",
   "execution_count": 116,
   "id": "4c2d8aa4",
   "metadata": {},
   "outputs": [
    {
     "data": {
      "text/plain": [
       "0.9472302441585718"
      ]
     },
     "execution_count": 116,
     "metadata": {},
     "output_type": "execute_result"
    }
   ],
   "source": [
    "# Let us calculate specificity\n",
    "TN / float(TN+FP)"
   ]
  },
  {
   "cell_type": "code",
   "execution_count": 117,
   "id": "923715bb",
   "metadata": {},
   "outputs": [
    {
     "name": "stdout",
     "output_type": "stream",
     "text": [
      "0.0527697558414282\n"
     ]
    }
   ],
   "source": [
    "# Calculate false postive rate\n",
    "print(FP/ float(TN+FP))"
   ]
  },
  {
   "cell_type": "code",
   "execution_count": 118,
   "id": "34777c96",
   "metadata": {},
   "outputs": [
    {
     "name": "stdout",
     "output_type": "stream",
     "text": [
      "0.9097845601436265\n"
     ]
    }
   ],
   "source": [
    "# positive predictive value \n",
    "print (TP / float(TP+FP))"
   ]
  },
  {
   "cell_type": "code",
   "execution_count": 119,
   "id": "ad4508f3",
   "metadata": {},
   "outputs": [
    {
     "name": "stdout",
     "output_type": "stream",
     "text": [
      "0.9038076152304609\n"
     ]
    }
   ],
   "source": [
    "# Negative predictive value\n",
    "print (TN / float(TN+ FN))"
   ]
  },
  {
   "cell_type": "markdown",
   "id": "d0253fe8",
   "metadata": {},
   "source": [
    "<h2 style=\"color:Blue;font-family:Georgia\"> ROC Curve - Plotting"
   ]
  },
  {
   "cell_type": "code",
   "execution_count": 120,
   "id": "6f91ff92",
   "metadata": {},
   "outputs": [],
   "source": [
    "def draw_roc( actual, probs ):\n",
    "    fpr, tpr, thresholds = metrics.roc_curve( actual, probs,\n",
    "                                              drop_intermediate = False )\n",
    "    auc_score = metrics.roc_auc_score( actual, probs )\n",
    "    plt.figure(figsize=(5, 5))\n",
    "    plt.plot( fpr, tpr, label='ROC curve (area = %0.2f)' % auc_score )\n",
    "    plt.plot([0, 1], [0, 1], 'k--')\n",
    "    plt.xlim([0.0, 1.0])\n",
    "    plt.ylim([0.0, 1.05])\n",
    "    plt.xlabel('False Positive Rate or [1 - True Negative Rate]')\n",
    "    plt.ylabel('True Positive Rate')\n",
    "    plt.title('Receiver Operating Characteristic Curve')\n",
    "    plt.legend(loc=\"lower right\")\n",
    "    plt.show()\n",
    "\n",
    "    return None"
   ]
  },
  {
   "cell_type": "code",
   "execution_count": 121,
   "id": "80f9ca3b",
   "metadata": {},
   "outputs": [],
   "source": [
    "fpr, tpr, thresholds = metrics.roc_curve(y_train_pred_final.Converted, y_train_pred_final.Converted_Prob,\n",
    "                                         drop_intermediate = False)"
   ]
  },
  {
   "cell_type": "code",
   "execution_count": 122,
   "id": "79a50611",
   "metadata": {},
   "outputs": [
    {
     "data": {
      "image/png": "[encoded data removed]",
      "text/plain": [
       "<Figure size 360x360 with 1 Axes>"
      ]
     },
     "metadata": {},
     "output_type": "display_data"
    }
   ],
   "source": [
    "draw_roc(y_train_pred_final.Converted, y_train_pred_final.Converted_Prob)"
   ]
  },
  {
   "cell_type": "markdown",
   "id": "3d52a123",
   "metadata": {},
   "source": [
    "### Finding Optimal Cut-OFF POINTS"
   ]
  },
  {
   "cell_type": "code",
   "execution_count": 123,
   "id": "9edfdcb2",
   "metadata": {},
   "outputs": [
    {
     "data": {
      "text/html": [
       "<div>\n",
       "<style scoped>\n",
       "    .dataframe tbody tr th:only-of-type {\n",
       "        vertical-align: middle;\n",
       "    }\n",
       "\n",
       "    .dataframe tbody tr th {\n",
       "        vertical-align: top;\n",
       "    }\n",
       "\n",
       "    .dataframe thead th {\n",
       "        text-align: right;\n",
       "    }\n",
       "</style>\n",
       "<table border=\"1\" class=\"dataframe\">\n",
       "  <thead>\n",
       "    <tr style=\"text-align: right;\">\n",
       "      <th></th>\n",
       "      <th>Converted</th>\n",
       "      <th>Converted_Prob</th>\n",
       "      <th>Prospect ID</th>\n",
       "      <th>Predicted</th>\n",
       "      <th>0.0</th>\n",
       "      <th>0.1</th>\n",
       "      <th>0.2</th>\n",
       "      <th>0.3</th>\n",
       "      <th>0.4</th>\n",
       "      <th>0.5</th>\n",
       "      <th>0.6</th>\n",
       "      <th>0.7</th>\n",
       "      <th>0.8</th>\n",
       "      <th>0.9</th>\n",
       "    </tr>\n",
       "  </thead>\n",
       "  <tbody>\n",
       "    <tr>\n",
       "      <th>0</th>\n",
       "      <td>0</td>\n",
       "      <td>0.015401</td>\n",
       "      <td>601</td>\n",
       "      <td>0</td>\n",
       "      <td>1</td>\n",
       "      <td>0</td>\n",
       "      <td>0</td>\n",
       "      <td>0</td>\n",
       "      <td>0</td>\n",
       "      <td>0</td>\n",
       "      <td>0</td>\n",
       "      <td>0</td>\n",
       "      <td>0</td>\n",
       "      <td>0</td>\n",
       "    </tr>\n",
       "    <tr>\n",
       "      <th>1</th>\n",
       "      <td>1</td>\n",
       "      <td>0.921147</td>\n",
       "      <td>1488</td>\n",
       "      <td>1</td>\n",
       "      <td>1</td>\n",
       "      <td>1</td>\n",
       "      <td>1</td>\n",
       "      <td>1</td>\n",
       "      <td>1</td>\n",
       "      <td>1</td>\n",
       "      <td>1</td>\n",
       "      <td>1</td>\n",
       "      <td>1</td>\n",
       "      <td>1</td>\n",
       "    </tr>\n",
       "    <tr>\n",
       "      <th>2</th>\n",
       "      <td>0</td>\n",
       "      <td>0.234644</td>\n",
       "      <td>4099</td>\n",
       "      <td>0</td>\n",
       "      <td>1</td>\n",
       "      <td>1</td>\n",
       "      <td>1</td>\n",
       "      <td>0</td>\n",
       "      <td>0</td>\n",
       "      <td>0</td>\n",
       "      <td>0</td>\n",
       "      <td>0</td>\n",
       "      <td>0</td>\n",
       "      <td>0</td>\n",
       "    </tr>\n",
       "    <tr>\n",
       "      <th>3</th>\n",
       "      <td>0</td>\n",
       "      <td>0.044574</td>\n",
       "      <td>1201</td>\n",
       "      <td>0</td>\n",
       "      <td>1</td>\n",
       "      <td>0</td>\n",
       "      <td>0</td>\n",
       "      <td>0</td>\n",
       "      <td>0</td>\n",
       "      <td>0</td>\n",
       "      <td>0</td>\n",
       "      <td>0</td>\n",
       "      <td>0</td>\n",
       "      <td>0</td>\n",
       "    </tr>\n",
       "    <tr>\n",
       "      <th>4</th>\n",
       "      <td>0</td>\n",
       "      <td>0.011549</td>\n",
       "      <td>7388</td>\n",
       "      <td>0</td>\n",
       "      <td>1</td>\n",
       "      <td>0</td>\n",
       "      <td>0</td>\n",
       "      <td>0</td>\n",
       "      <td>0</td>\n",
       "      <td>0</td>\n",
       "      <td>0</td>\n",
       "      <td>0</td>\n",
       "      <td>0</td>\n",
       "      <td>0</td>\n",
       "    </tr>\n",
       "  </tbody>\n",
       "</table>\n",
       "</div>"
      ],
      "text/plain": [
       "   Converted  Converted_Prob  Prospect ID  Predicted  0.0  0.1  0.2  0.3  0.4  \\\n",
       "0          0        0.015401          601          0    1    0    0    0    0   \n",
       "1          1        0.921147         1488          1    1    1    1    1    1   \n",
       "2          0        0.234644         4099          0    1    1    1    0    0   \n",
       "3          0        0.044574         1201          0    1    0    0    0    0   \n",
       "4          0        0.011549         7388          0    1    0    0    0    0   \n",
       "\n",
       "   0.5  0.6  0.7  0.8  0.9  \n",
       "0    0    0    0    0    0  \n",
       "1    1    1    1    1    1  \n",
       "2    0    0    0    0    0  \n",
       "3    0    0    0    0    0  \n",
       "4    0    0    0    0    0  "
      ]
     },
     "execution_count": 123,
     "metadata": {},
     "output_type": "execute_result"
    }
   ],
   "source": [
    "# Let's create columns with different probability cutoffs \n",
    "numbers = [float(x)/10 for x in range(10)]\n",
    "for i in numbers:\n",
    "    y_train_pred_final[i]= y_train_pred_final.Converted_Prob.map(lambda x: 1 if x > i else 0)\n",
    "y_train_pred_final.head()"
   ]
  },
  {
   "cell_type": "code",
   "execution_count": 124,
   "id": "0950de1a",
   "metadata": {},
   "outputs": [
    {
     "name": "stdout",
     "output_type": "stream",
     "text": [
      "     prob  accuracy  sensitivity  specificity\n",
      "0.0   0.0  0.387621     1.000000     0.000000\n",
      "0.1   0.1  0.771383     0.970137     0.645576\n",
      "0.2   0.2  0.882476     0.920365     0.858493\n",
      "0.3   0.3  0.902251     0.891746     0.908900\n",
      "0.4   0.4  0.904662     0.871008     0.925965\n",
      "0.5   0.5  0.905949     0.840730     0.947230\n",
      "0.6   0.6  0.903537     0.811282     0.961932\n",
      "0.7   0.7  0.890836     0.754873     0.976897\n",
      "0.8   0.8  0.883762     0.724181     0.984773\n",
      "0.9   0.9  0.872669     0.688096     0.989499\n"
     ]
    }
   ],
   "source": [
    "# Now let's calculate accuracy sensitivity and specificity for various probability cutoffs.\n",
    "cutoff_df = pd.DataFrame( columns = ['prob','accuracy','sensitivity','specificity'])\n",
    "from sklearn.metrics import confusion_matrix\n",
    "\n",
    "# TP = confusion[1,1] # true positive \n",
    "# TN = confusion[0,0] # true negatives\n",
    "# FP = confusion[0,1] # false positives\n",
    "# FN = confusion[1,0] # false negatives\n",
    "\n",
    "num = [0.0,0.1,0.2,0.3,0.4,0.5,0.6,0.7,0.8,0.9]\n",
    "for i in num:\n",
    "    cm1 = metrics.confusion_matrix(y_train_pred_final.Converted, y_train_pred_final[i] )\n",
    "    total1=sum(sum(cm1))\n",
    "    accuracy = (cm1[0,0]+cm1[1,1])/total1\n",
    "    \n",
    "    speci = cm1[0,0]/(cm1[0,0]+cm1[0,1])\n",
    "    sensi = cm1[1,1]/(cm1[1,0]+cm1[1,1])\n",
    "    cutoff_df.loc[i] =[ i ,accuracy,sensi,speci]\n",
    "print(cutoff_df)"
   ]
  },
  {
   "cell_type": "code",
   "execution_count": 125,
   "id": "94f755ea",
   "metadata": {},
   "outputs": [
    {
     "data": {
      "image/png": "[encoded data removed]",
      "text/plain": [
       "<Figure size 432x288 with 1 Axes>"
      ]
     },
     "metadata": {},
     "output_type": "display_data"
    }
   ],
   "source": [
    "# Let's plot accuracy sensitivity and specificity for various probabilities.\n",
    "cutoff_df.plot.line(x='prob', y=['accuracy','sensitivity','specificity'])\n",
    "plt.show()"
   ]
  },
  {
   "cell_type": "markdown",
   "id": "de6a663d",
   "metadata": {},
   "source": [
    "<h5 style = \"color:#00539CFF\">Observations:</h5>\n",
    "From the curve above, we can see that 0.3 is our Optimal Point"
   ]
  },
  {
   "cell_type": "code",
   "execution_count": 126,
   "id": "985d3db2",
   "metadata": {},
   "outputs": [
    {
     "data": {
      "text/html": [
       "<div>\n",
       "<style scoped>\n",
       "    .dataframe tbody tr th:only-of-type {\n",
       "        vertical-align: middle;\n",
       "    }\n",
       "\n",
       "    .dataframe tbody tr th {\n",
       "        vertical-align: top;\n",
       "    }\n",
       "\n",
       "    .dataframe thead th {\n",
       "        text-align: right;\n",
       "    }\n",
       "</style>\n",
       "<table border=\"1\" class=\"dataframe\">\n",
       "  <thead>\n",
       "    <tr style=\"text-align: right;\">\n",
       "      <th></th>\n",
       "      <th>Converted</th>\n",
       "      <th>Converted_Prob</th>\n",
       "      <th>Prospect ID</th>\n",
       "      <th>Predicted</th>\n",
       "      <th>0.0</th>\n",
       "      <th>0.1</th>\n",
       "      <th>0.2</th>\n",
       "      <th>0.3</th>\n",
       "      <th>0.4</th>\n",
       "      <th>0.5</th>\n",
       "      <th>0.6</th>\n",
       "      <th>0.7</th>\n",
       "      <th>0.8</th>\n",
       "      <th>0.9</th>\n",
       "      <th>Final_Predicted</th>\n",
       "    </tr>\n",
       "  </thead>\n",
       "  <tbody>\n",
       "    <tr>\n",
       "      <th>0</th>\n",
       "      <td>0</td>\n",
       "      <td>0.015401</td>\n",
       "      <td>601</td>\n",
       "      <td>0</td>\n",
       "      <td>1</td>\n",
       "      <td>0</td>\n",
       "      <td>0</td>\n",
       "      <td>0</td>\n",
       "      <td>0</td>\n",
       "      <td>0</td>\n",
       "      <td>0</td>\n",
       "      <td>0</td>\n",
       "      <td>0</td>\n",
       "      <td>0</td>\n",
       "      <td>0</td>\n",
       "    </tr>\n",
       "    <tr>\n",
       "      <th>1</th>\n",
       "      <td>1</td>\n",
       "      <td>0.921147</td>\n",
       "      <td>1488</td>\n",
       "      <td>1</td>\n",
       "      <td>1</td>\n",
       "      <td>1</td>\n",
       "      <td>1</td>\n",
       "      <td>1</td>\n",
       "      <td>1</td>\n",
       "      <td>1</td>\n",
       "      <td>1</td>\n",
       "      <td>1</td>\n",
       "      <td>1</td>\n",
       "      <td>1</td>\n",
       "      <td>1</td>\n",
       "    </tr>\n",
       "    <tr>\n",
       "      <th>2</th>\n",
       "      <td>0</td>\n",
       "      <td>0.234644</td>\n",
       "      <td>4099</td>\n",
       "      <td>0</td>\n",
       "      <td>1</td>\n",
       "      <td>1</td>\n",
       "      <td>1</td>\n",
       "      <td>0</td>\n",
       "      <td>0</td>\n",
       "      <td>0</td>\n",
       "      <td>0</td>\n",
       "      <td>0</td>\n",
       "      <td>0</td>\n",
       "      <td>0</td>\n",
       "      <td>0</td>\n",
       "    </tr>\n",
       "    <tr>\n",
       "      <th>3</th>\n",
       "      <td>0</td>\n",
       "      <td>0.044574</td>\n",
       "      <td>1201</td>\n",
       "      <td>0</td>\n",
       "      <td>1</td>\n",
       "      <td>0</td>\n",
       "      <td>0</td>\n",
       "      <td>0</td>\n",
       "      <td>0</td>\n",
       "      <td>0</td>\n",
       "      <td>0</td>\n",
       "      <td>0</td>\n",
       "      <td>0</td>\n",
       "      <td>0</td>\n",
       "      <td>0</td>\n",
       "    </tr>\n",
       "    <tr>\n",
       "      <th>4</th>\n",
       "      <td>0</td>\n",
       "      <td>0.011549</td>\n",
       "      <td>7388</td>\n",
       "      <td>0</td>\n",
       "      <td>1</td>\n",
       "      <td>0</td>\n",
       "      <td>0</td>\n",
       "      <td>0</td>\n",
       "      <td>0</td>\n",
       "      <td>0</td>\n",
       "      <td>0</td>\n",
       "      <td>0</td>\n",
       "      <td>0</td>\n",
       "      <td>0</td>\n",
       "      <td>0</td>\n",
       "    </tr>\n",
       "  </tbody>\n",
       "</table>\n",
       "</div>"
      ],
      "text/plain": [
       "   Converted  Converted_Prob  Prospect ID  Predicted  0.0  0.1  0.2  0.3  0.4  \\\n",
       "0          0        0.015401          601          0    1    0    0    0    0   \n",
       "1          1        0.921147         1488          1    1    1    1    1    1   \n",
       "2          0        0.234644         4099          0    1    1    1    0    0   \n",
       "3          0        0.044574         1201          0    1    0    0    0    0   \n",
       "4          0        0.011549         7388          0    1    0    0    0    0   \n",
       "\n",
       "   0.5  0.6  0.7  0.8  0.9  Final_Predicted  \n",
       "0    0    0    0    0    0                0  \n",
       "1    1    1    1    1    1                1  \n",
       "2    0    0    0    0    0                0  \n",
       "3    0    0    0    0    0                0  \n",
       "4    0    0    0    0    0                0  "
      ]
     },
     "execution_count": 126,
     "metadata": {},
     "output_type": "execute_result"
    }
   ],
   "source": [
    "# Making a new column Predicted with values which have Probability greater than 0.3\n",
    "y_train_pred_final['Final_Predicted'] = y_train_pred_final.Converted_Prob.map( lambda x: 1 if x > 0.3 else 0)\n",
    "\n",
    "y_train_pred_final.head()"
   ]
  },
  {
   "cell_type": "markdown",
   "id": "49c468d7",
   "metadata": {},
   "source": [
    "<h2 style=\"color:Blue;font-family:Georgia\">Accuracy of the model </h2>"
   ]
  },
  {
   "cell_type": "code",
   "execution_count": 127,
   "id": "a5275f3b",
   "metadata": {},
   "outputs": [
    {
     "name": "stdout",
     "output_type": "stream",
     "text": [
      "0.9022508038585209\n"
     ]
    }
   ],
   "source": [
    "# Let's check the overall accuracy.\n",
    "print(metrics.accuracy_score(y_true= y_train_pred_final.Converted, y_pred= y_train_pred_final.Final_Predicted))"
   ]
  },
  {
   "cell_type": "code",
   "execution_count": 128,
   "id": "b6111ae6",
   "metadata": {},
   "outputs": [
    {
     "data": {
      "text/plain": [
       "array([[3462,  347],\n",
       "       [ 261, 2150]], dtype=int64)"
      ]
     },
     "execution_count": 128,
     "metadata": {},
     "output_type": "execute_result"
    }
   ],
   "source": [
    "# Let's take a look at the confusion matrix again \n",
    "confusion = metrics.confusion_matrix(y_true= y_train_pred_final.Converted, y_pred= y_train_pred_final.Final_Predicted)\n",
    "confusion"
   ]
  },
  {
   "cell_type": "code",
   "execution_count": 129,
   "id": "1e15157c",
   "metadata": {},
   "outputs": [],
   "source": [
    "#Metrics beyond Simple Accuracy with 0.3 as Optimal Cutoff point\n",
    "TP = confusion[1,1] # true positive \n",
    "TN = confusion[0,0] # true negatives\n",
    "FP = confusion[0,1] # false positives\n",
    "FN = confusion[1,0] # false negatives"
   ]
  },
  {
   "cell_type": "code",
   "execution_count": 130,
   "id": "88d68ffa",
   "metadata": {},
   "outputs": [
    {
     "data": {
      "text/plain": [
       "0.891746163417669"
      ]
     },
     "execution_count": 130,
     "metadata": {},
     "output_type": "execute_result"
    }
   ],
   "source": [
    "# Let's see the sensitivity of our logistic regression model\n",
    "TP / float(TP+FN)"
   ]
  },
  {
   "cell_type": "code",
   "execution_count": 131,
   "id": "bb602588",
   "metadata": {},
   "outputs": [
    {
     "data": {
      "text/plain": [
       "0.9088999737463901"
      ]
     },
     "execution_count": 131,
     "metadata": {},
     "output_type": "execute_result"
    }
   ],
   "source": [
    "# Let us calculate specificity\n",
    "TN / float(TN+FP)"
   ]
  },
  {
   "cell_type": "code",
   "execution_count": 132,
   "id": "eeb5ea1b",
   "metadata": {},
   "outputs": [
    {
     "name": "stdout",
     "output_type": "stream",
     "text": [
      "0.09110002625360987\n"
     ]
    }
   ],
   "source": [
    "# Calculate false postive rate\n",
    "print(FP/ float(TN+FP))"
   ]
  },
  {
   "cell_type": "code",
   "execution_count": 133,
   "id": "e30d0053",
   "metadata": {},
   "outputs": [
    {
     "name": "stdout",
     "output_type": "stream",
     "text": [
      "0.8610332398878654\n"
     ]
    }
   ],
   "source": [
    "# Positive predictive value \n",
    "print (TP / float(TP+FP))"
   ]
  },
  {
   "cell_type": "code",
   "execution_count": 134,
   "id": "f148fc11",
   "metadata": {},
   "outputs": [
    {
     "name": "stdout",
     "output_type": "stream",
     "text": [
      "0.9298952457695407\n"
     ]
    }
   ],
   "source": [
    "# Negative predictive value\n",
    "print (TN / float(TN+ FN))"
   ]
  },
  {
   "cell_type": "markdown",
   "id": "971379cf",
   "metadata": {},
   "source": [
    "<h2 style=\"color:Blue;font-family:Georgia\">Precision and Recall"
   ]
  },
  {
   "cell_type": "code",
   "execution_count": 135,
   "id": "270e828b",
   "metadata": {},
   "outputs": [
    {
     "data": {
      "text/plain": [
       "0.8610332398878654"
      ]
     },
     "execution_count": 135,
     "metadata": {},
     "output_type": "execute_result"
    }
   ],
   "source": [
    "# Precision Score\n",
    "precision_score(y_train_pred_final.Converted, y_train_pred_final.Final_Predicted)"
   ]
  },
  {
   "cell_type": "code",
   "execution_count": 136,
   "id": "b1c13132",
   "metadata": {},
   "outputs": [
    {
     "data": {
      "text/plain": [
       "0.891746163417669"
      ]
     },
     "execution_count": 136,
     "metadata": {},
     "output_type": "execute_result"
    }
   ],
   "source": [
    "# Recall Score\n",
    "recall_score(y_train_pred_final.Converted, y_train_pred_final.Final_Predicted)"
   ]
  },
  {
   "cell_type": "code",
   "execution_count": 137,
   "id": "b77a1679",
   "metadata": {},
   "outputs": [],
   "source": [
    "#Precision and Recall Tradeoff\n",
    "p, r, thresholds = precision_recall_curve(y_train_pred_final.Converted, y_train_pred_final.Converted_Prob)"
   ]
  },
  {
   "cell_type": "code",
   "execution_count": 138,
   "id": "6f4045b0",
   "metadata": {},
   "outputs": [
    {
     "data": {
      "image/png": "[encoded data removed]",
      "text/plain": [
       "<Figure size 432x288 with 1 Axes>"
      ]
     },
     "metadata": {},
     "output_type": "display_data"
    }
   ],
   "source": [
    "plt.plot(thresholds, p[:-1], \"g-\")\n",
    "plt.plot(thresholds, r[:-1], \"r-\")\n",
    "plt.show()"
   ]
  },
  {
   "cell_type": "markdown",
   "id": "aaf30ab0",
   "metadata": {},
   "source": [
    "<h2 style=\"color:Blue;font-family:Georgia\"> Predicting the Test Data"
   ]
  },
  {
   "cell_type": "code",
   "execution_count": 139,
   "id": "7ef1f975",
   "metadata": {},
   "outputs": [],
   "source": [
    "# Scaling the Numerical Variables\n",
    "X_test[num_cols] = scaler.transform(X_test[num_cols])"
   ]
  },
  {
   "cell_type": "code",
   "execution_count": 140,
   "id": "c4e8304d",
   "metadata": {},
   "outputs": [
    {
     "data": {
      "text/html": [
       "<div>\n",
       "<style scoped>\n",
       "    .dataframe tbody tr th:only-of-type {\n",
       "        vertical-align: middle;\n",
       "    }\n",
       "\n",
       "    .dataframe tbody tr th {\n",
       "        vertical-align: top;\n",
       "    }\n",
       "\n",
       "    .dataframe thead th {\n",
       "        text-align: right;\n",
       "    }\n",
       "</style>\n",
       "<table border=\"1\" class=\"dataframe\">\n",
       "  <thead>\n",
       "    <tr style=\"text-align: right;\">\n",
       "      <th></th>\n",
       "      <th>do_not_email</th>\n",
       "      <th>time_on_website</th>\n",
       "      <th>lead_origin_Lead Add Form</th>\n",
       "      <th>lead_source_Olark Chat</th>\n",
       "      <th>lead_source_Welingak Website</th>\n",
       "      <th>last_activity_Converted to Lead</th>\n",
       "      <th>last_activity_Email Bounced</th>\n",
       "      <th>last_activity_Olark Chat Conversation</th>\n",
       "      <th>last_activity_Page Visited on Website</th>\n",
       "      <th>occupation_Not Specified</th>\n",
       "      <th>tags_Already a student</th>\n",
       "      <th>tags_Closed by Horizzon</th>\n",
       "      <th>tags_Interested in other courses</th>\n",
       "      <th>tags_Other Tags</th>\n",
       "      <th>tags_Ringing</th>\n",
       "      <th>tags_Will revert after reading the email</th>\n",
       "    </tr>\n",
       "  </thead>\n",
       "  <tbody>\n",
       "    <tr>\n",
       "      <th>3334</th>\n",
       "      <td>1</td>\n",
       "      <td>-0.832998</td>\n",
       "      <td>0</td>\n",
       "      <td>0</td>\n",
       "      <td>0</td>\n",
       "      <td>0</td>\n",
       "      <td>1</td>\n",
       "      <td>0</td>\n",
       "      <td>0</td>\n",
       "      <td>1</td>\n",
       "      <td>0</td>\n",
       "      <td>0</td>\n",
       "      <td>0</td>\n",
       "      <td>0</td>\n",
       "      <td>0</td>\n",
       "      <td>0</td>\n",
       "    </tr>\n",
       "    <tr>\n",
       "      <th>3405</th>\n",
       "      <td>0</td>\n",
       "      <td>1.170774</td>\n",
       "      <td>0</td>\n",
       "      <td>0</td>\n",
       "      <td>0</td>\n",
       "      <td>0</td>\n",
       "      <td>0</td>\n",
       "      <td>0</td>\n",
       "      <td>0</td>\n",
       "      <td>0</td>\n",
       "      <td>0</td>\n",
       "      <td>0</td>\n",
       "      <td>0</td>\n",
       "      <td>0</td>\n",
       "      <td>0</td>\n",
       "      <td>0</td>\n",
       "    </tr>\n",
       "    <tr>\n",
       "      <th>8344</th>\n",
       "      <td>0</td>\n",
       "      <td>-0.882316</td>\n",
       "      <td>0</td>\n",
       "      <td>1</td>\n",
       "      <td>0</td>\n",
       "      <td>0</td>\n",
       "      <td>0</td>\n",
       "      <td>1</td>\n",
       "      <td>0</td>\n",
       "      <td>1</td>\n",
       "      <td>0</td>\n",
       "      <td>0</td>\n",
       "      <td>0</td>\n",
       "      <td>0</td>\n",
       "      <td>0</td>\n",
       "      <td>0</td>\n",
       "    </tr>\n",
       "    <tr>\n",
       "      <th>2905</th>\n",
       "      <td>1</td>\n",
       "      <td>0.124136</td>\n",
       "      <td>0</td>\n",
       "      <td>0</td>\n",
       "      <td>0</td>\n",
       "      <td>0</td>\n",
       "      <td>0</td>\n",
       "      <td>0</td>\n",
       "      <td>0</td>\n",
       "      <td>0</td>\n",
       "      <td>0</td>\n",
       "      <td>0</td>\n",
       "      <td>0</td>\n",
       "      <td>0</td>\n",
       "      <td>1</td>\n",
       "      <td>0</td>\n",
       "    </tr>\n",
       "    <tr>\n",
       "      <th>4966</th>\n",
       "      <td>0</td>\n",
       "      <td>-0.405576</td>\n",
       "      <td>0</td>\n",
       "      <td>0</td>\n",
       "      <td>0</td>\n",
       "      <td>0</td>\n",
       "      <td>0</td>\n",
       "      <td>0</td>\n",
       "      <td>0</td>\n",
       "      <td>0</td>\n",
       "      <td>0</td>\n",
       "      <td>0</td>\n",
       "      <td>0</td>\n",
       "      <td>0</td>\n",
       "      <td>1</td>\n",
       "      <td>0</td>\n",
       "    </tr>\n",
       "  </tbody>\n",
       "</table>\n",
       "</div>"
      ],
      "text/plain": [
       "      do_not_email  time_on_website  lead_origin_Lead Add Form  \\\n",
       "3334             1        -0.832998                          0   \n",
       "3405             0         1.170774                          0   \n",
       "8344             0        -0.882316                          0   \n",
       "2905             1         0.124136                          0   \n",
       "4966             0        -0.405576                          0   \n",
       "\n",
       "      lead_source_Olark Chat  lead_source_Welingak Website  \\\n",
       "3334                       0                             0   \n",
       "3405                       0                             0   \n",
       "8344                       1                             0   \n",
       "2905                       0                             0   \n",
       "4966                       0                             0   \n",
       "\n",
       "      last_activity_Converted to Lead  last_activity_Email Bounced  \\\n",
       "3334                                0                            1   \n",
       "3405                                0                            0   \n",
       "8344                                0                            0   \n",
       "2905                                0                            0   \n",
       "4966                                0                            0   \n",
       "\n",
       "      last_activity_Olark Chat Conversation  \\\n",
       "3334                                      0   \n",
       "3405                                      0   \n",
       "8344                                      1   \n",
       "2905                                      0   \n",
       "4966                                      0   \n",
       "\n",
       "      last_activity_Page Visited on Website  occupation_Not Specified  \\\n",
       "3334                                      0                         1   \n",
       "3405                                      0                         0   \n",
       "8344                                      0                         1   \n",
       "2905                                      0                         0   \n",
       "4966                                      0                         0   \n",
       "\n",
       "      tags_Already a student  tags_Closed by Horizzon  \\\n",
       "3334                       0                        0   \n",
       "3405                       0                        0   \n",
       "8344                       0                        0   \n",
       "2905                       0                        0   \n",
       "4966                       0                        0   \n",
       "\n",
       "      tags_Interested in other courses  tags_Other Tags  tags_Ringing  \\\n",
       "3334                                 0                0             0   \n",
       "3405                                 0                0             0   \n",
       "8344                                 0                0             0   \n",
       "2905                                 0                0             1   \n",
       "4966                                 0                0             1   \n",
       "\n",
       "      tags_Will revert after reading the email  \n",
       "3334                                         0  \n",
       "3405                                         0  \n",
       "8344                                         0  \n",
       "2905                                         0  \n",
       "4966                                         0  "
      ]
     },
     "execution_count": 140,
     "metadata": {},
     "output_type": "execute_result"
    }
   ],
   "source": [
    "X_test = X_test[col]\n",
    "X_test.head()"
   ]
  },
  {
   "cell_type": "code",
   "execution_count": 141,
   "id": "f32629f0",
   "metadata": {},
   "outputs": [],
   "source": [
    "X_test_sm = sm.add_constant(X_test)"
   ]
  },
  {
   "cell_type": "code",
   "execution_count": 142,
   "id": "acf4720c",
   "metadata": {},
   "outputs": [
    {
     "data": {
      "text/plain": [
       "3334    0.005118\n",
       "3405    0.848761\n",
       "8344    0.024985\n",
       "2905    0.013327\n",
       "4966    0.013152\n",
       "dtype: float64"
      ]
     },
     "execution_count": 142,
     "metadata": {},
     "output_type": "execute_result"
    }
   ],
   "source": [
    "# Predictions on test set\n",
    "y_test_pred = res.predict(X_test_sm)\n",
    "y_test_pred.head()"
   ]
  },
  {
   "cell_type": "code",
   "execution_count": 143,
   "id": "6acc5818",
   "metadata": {},
   "outputs": [
    {
     "data": {
      "text/html": [
       "<div>\n",
       "<style scoped>\n",
       "    .dataframe tbody tr th:only-of-type {\n",
       "        vertical-align: middle;\n",
       "    }\n",
       "\n",
       "    .dataframe tbody tr th {\n",
       "        vertical-align: top;\n",
       "    }\n",
       "\n",
       "    .dataframe thead th {\n",
       "        text-align: right;\n",
       "    }\n",
       "</style>\n",
       "<table border=\"1\" class=\"dataframe\">\n",
       "  <thead>\n",
       "    <tr style=\"text-align: right;\">\n",
       "      <th></th>\n",
       "      <th>0</th>\n",
       "    </tr>\n",
       "  </thead>\n",
       "  <tbody>\n",
       "    <tr>\n",
       "      <th>3334</th>\n",
       "      <td>0.005118</td>\n",
       "    </tr>\n",
       "    <tr>\n",
       "      <th>3405</th>\n",
       "      <td>0.848761</td>\n",
       "    </tr>\n",
       "    <tr>\n",
       "      <th>8344</th>\n",
       "      <td>0.024985</td>\n",
       "    </tr>\n",
       "    <tr>\n",
       "      <th>2905</th>\n",
       "      <td>0.013327</td>\n",
       "    </tr>\n",
       "    <tr>\n",
       "      <th>4966</th>\n",
       "      <td>0.013152</td>\n",
       "    </tr>\n",
       "  </tbody>\n",
       "</table>\n",
       "</div>"
      ],
      "text/plain": [
       "             0\n",
       "3334  0.005118\n",
       "3405  0.848761\n",
       "8344  0.024985\n",
       "2905  0.013327\n",
       "4966  0.013152"
      ]
     },
     "execution_count": 143,
     "metadata": {},
     "output_type": "execute_result"
    }
   ],
   "source": [
    "# Converting y_pred to a DataFrame\n",
    "y_pred_1 = pd.DataFrame(y_test_pred)\n",
    "y_pred_1.head()"
   ]
  },
  {
   "cell_type": "code",
   "execution_count": 144,
   "id": "9234bd79",
   "metadata": {},
   "outputs": [],
   "source": [
    "# Converting y_test to DataFrame\n",
    "y_test_df = pd.DataFrame(y_test)"
   ]
  },
  {
   "cell_type": "code",
   "execution_count": 145,
   "id": "7cebda70",
   "metadata": {},
   "outputs": [],
   "source": [
    "# Putting 'Prospect ID' to index\n",
    "y_test_df['Prospect ID'] = y_test_df.index"
   ]
  },
  {
   "cell_type": "code",
   "execution_count": 146,
   "id": "8281d3b3",
   "metadata": {},
   "outputs": [],
   "source": [
    "# Removing index for both DataFrames to concatenate them side by side\n",
    "y_pred_1.reset_index(drop= True, inplace= True)\n",
    "y_test_df.reset_index(drop= True, inplace= True)"
   ]
  },
  {
   "cell_type": "code",
   "execution_count": 147,
   "id": "16c39855",
   "metadata": {},
   "outputs": [
    {
     "data": {
      "text/html": [
       "<div>\n",
       "<style scoped>\n",
       "    .dataframe tbody tr th:only-of-type {\n",
       "        vertical-align: middle;\n",
       "    }\n",
       "\n",
       "    .dataframe tbody tr th {\n",
       "        vertical-align: top;\n",
       "    }\n",
       "\n",
       "    .dataframe thead th {\n",
       "        text-align: right;\n",
       "    }\n",
       "</style>\n",
       "<table border=\"1\" class=\"dataframe\">\n",
       "  <thead>\n",
       "    <tr style=\"text-align: right;\">\n",
       "      <th></th>\n",
       "      <th>converted</th>\n",
       "      <th>Prospect ID</th>\n",
       "      <th>0</th>\n",
       "    </tr>\n",
       "  </thead>\n",
       "  <tbody>\n",
       "    <tr>\n",
       "      <th>0</th>\n",
       "      <td>0</td>\n",
       "      <td>3334</td>\n",
       "      <td>0.005118</td>\n",
       "    </tr>\n",
       "    <tr>\n",
       "      <th>1</th>\n",
       "      <td>1</td>\n",
       "      <td>3405</td>\n",
       "      <td>0.848761</td>\n",
       "    </tr>\n",
       "    <tr>\n",
       "      <th>2</th>\n",
       "      <td>0</td>\n",
       "      <td>8344</td>\n",
       "      <td>0.024985</td>\n",
       "    </tr>\n",
       "    <tr>\n",
       "      <th>3</th>\n",
       "      <td>0</td>\n",
       "      <td>2905</td>\n",
       "      <td>0.013327</td>\n",
       "    </tr>\n",
       "    <tr>\n",
       "      <th>4</th>\n",
       "      <td>0</td>\n",
       "      <td>4966</td>\n",
       "      <td>0.013152</td>\n",
       "    </tr>\n",
       "  </tbody>\n",
       "</table>\n",
       "</div>"
      ],
      "text/plain": [
       "   converted  Prospect ID         0\n",
       "0          0         3334  0.005118\n",
       "1          1         3405  0.848761\n",
       "2          0         8344  0.024985\n",
       "3          0         2905  0.013327\n",
       "4          0         4966  0.013152"
      ]
     },
     "execution_count": 147,
     "metadata": {},
     "output_type": "execute_result"
    }
   ],
   "source": [
    "# Concatenating y_test_df and y_pred_1\n",
    "y_pred_final = pd.concat([y_test_df, y_pred_1], axis = 1)\n",
    "y_pred_final.head()"
   ]
  },
  {
   "cell_type": "code",
   "execution_count": 148,
   "id": "ceaf3d41",
   "metadata": {},
   "outputs": [],
   "source": [
    "# Renaming the column\n",
    "y_pred_final = y_pred_final.rename(columns = {0: 'Converted_Prob'})"
   ]
  },
  {
   "cell_type": "code",
   "execution_count": 149,
   "id": "4017c1d6",
   "metadata": {},
   "outputs": [
    {
     "data": {
      "text/html": [
       "<div>\n",
       "<style scoped>\n",
       "    .dataframe tbody tr th:only-of-type {\n",
       "        vertical-align: middle;\n",
       "    }\n",
       "\n",
       "    .dataframe tbody tr th {\n",
       "        vertical-align: top;\n",
       "    }\n",
       "\n",
       "    .dataframe thead th {\n",
       "        text-align: right;\n",
       "    }\n",
       "</style>\n",
       "<table border=\"1\" class=\"dataframe\">\n",
       "  <thead>\n",
       "    <tr style=\"text-align: right;\">\n",
       "      <th></th>\n",
       "      <th>Prospect ID</th>\n",
       "      <th>converted</th>\n",
       "      <th>Converted_Prob</th>\n",
       "    </tr>\n",
       "  </thead>\n",
       "  <tbody>\n",
       "    <tr>\n",
       "      <th>0</th>\n",
       "      <td>3334</td>\n",
       "      <td>0</td>\n",
       "      <td>0.005118</td>\n",
       "    </tr>\n",
       "    <tr>\n",
       "      <th>1</th>\n",
       "      <td>3405</td>\n",
       "      <td>1</td>\n",
       "      <td>0.848761</td>\n",
       "    </tr>\n",
       "    <tr>\n",
       "      <th>2</th>\n",
       "      <td>8344</td>\n",
       "      <td>0</td>\n",
       "      <td>0.024985</td>\n",
       "    </tr>\n",
       "    <tr>\n",
       "      <th>3</th>\n",
       "      <td>2905</td>\n",
       "      <td>0</td>\n",
       "      <td>0.013327</td>\n",
       "    </tr>\n",
       "    <tr>\n",
       "      <th>4</th>\n",
       "      <td>4966</td>\n",
       "      <td>0</td>\n",
       "      <td>0.013152</td>\n",
       "    </tr>\n",
       "  </tbody>\n",
       "</table>\n",
       "</div>"
      ],
      "text/plain": [
       "   Prospect ID  converted  Converted_Prob\n",
       "0         3334          0        0.005118\n",
       "1         3405          1        0.848761\n",
       "2         8344          0        0.024985\n",
       "3         2905          0        0.013327\n",
       "4         4966          0        0.013152"
      ]
     },
     "execution_count": 149,
     "metadata": {},
     "output_type": "execute_result"
    }
   ],
   "source": [
    "# Rearranging the columns\n",
    "y_pred_final = y_pred_final[['Prospect ID', 'converted', 'Converted_Prob']]\n",
    "y_pred_final.head()"
   ]
  },
  {
   "cell_type": "code",
   "execution_count": 150,
   "id": "5a709cec",
   "metadata": {},
   "outputs": [
    {
     "data": {
      "text/html": [
       "<div>\n",
       "<style scoped>\n",
       "    .dataframe tbody tr th:only-of-type {\n",
       "        vertical-align: middle;\n",
       "    }\n",
       "\n",
       "    .dataframe tbody tr th {\n",
       "        vertical-align: top;\n",
       "    }\n",
       "\n",
       "    .dataframe thead th {\n",
       "        text-align: right;\n",
       "    }\n",
       "</style>\n",
       "<table border=\"1\" class=\"dataframe\">\n",
       "  <thead>\n",
       "    <tr style=\"text-align: right;\">\n",
       "      <th></th>\n",
       "      <th>Prospect ID</th>\n",
       "      <th>converted</th>\n",
       "      <th>Converted_Prob</th>\n",
       "      <th>Final_Predicted</th>\n",
       "    </tr>\n",
       "  </thead>\n",
       "  <tbody>\n",
       "    <tr>\n",
       "      <th>0</th>\n",
       "      <td>3334</td>\n",
       "      <td>0</td>\n",
       "      <td>0.005118</td>\n",
       "      <td>0</td>\n",
       "    </tr>\n",
       "    <tr>\n",
       "      <th>1</th>\n",
       "      <td>3405</td>\n",
       "      <td>1</td>\n",
       "      <td>0.848761</td>\n",
       "      <td>1</td>\n",
       "    </tr>\n",
       "    <tr>\n",
       "      <th>2</th>\n",
       "      <td>8344</td>\n",
       "      <td>0</td>\n",
       "      <td>0.024985</td>\n",
       "      <td>0</td>\n",
       "    </tr>\n",
       "    <tr>\n",
       "      <th>3</th>\n",
       "      <td>2905</td>\n",
       "      <td>0</td>\n",
       "      <td>0.013327</td>\n",
       "      <td>0</td>\n",
       "    </tr>\n",
       "    <tr>\n",
       "      <th>4</th>\n",
       "      <td>4966</td>\n",
       "      <td>0</td>\n",
       "      <td>0.013152</td>\n",
       "      <td>0</td>\n",
       "    </tr>\n",
       "  </tbody>\n",
       "</table>\n",
       "</div>"
      ],
      "text/plain": [
       "   Prospect ID  converted  Converted_Prob  Final_Predicted\n",
       "0         3334          0        0.005118                0\n",
       "1         3405          1        0.848761                1\n",
       "2         8344          0        0.024985                0\n",
       "3         2905          0        0.013327                0\n",
       "4         4966          0        0.013152                0"
      ]
     },
     "execution_count": 150,
     "metadata": {},
     "output_type": "execute_result"
    }
   ],
   "source": [
    "y_pred_final['Final_Predicted'] = y_pred_final.Converted_Prob.map(lambda x: 1 if x > 0.3 else 0)\n",
    "y_pred_final.head()"
   ]
  },
  {
   "cell_type": "code",
   "execution_count": 151,
   "id": "69fa837a",
   "metadata": {},
   "outputs": [
    {
     "data": {
      "text/plain": [
       "0.905511811023622"
      ]
     },
     "execution_count": 151,
     "metadata": {},
     "output_type": "execute_result"
    }
   ],
   "source": [
    "# Overall Accuracy\n",
    "metrics.accuracy_score(y_true= y_pred_final.converted, y_pred= y_pred_final.Final_Predicted)"
   ]
  },
  {
   "cell_type": "code",
   "execution_count": 152,
   "id": "8de8828b",
   "metadata": {},
   "outputs": [
    {
     "data": {
      "text/plain": [
       "array([[1511,  152],\n",
       "       [ 100,  904]], dtype=int64)"
      ]
     },
     "execution_count": 152,
     "metadata": {},
     "output_type": "execute_result"
    }
   ],
   "source": [
    "# Confusion Matrix\n",
    "confusion2 = metrics.confusion_matrix(y_true= y_pred_final.converted, y_pred= y_pred_final.Final_Predicted)\n",
    "confusion2"
   ]
  },
  {
   "cell_type": "code",
   "execution_count": 153,
   "id": "f2358952",
   "metadata": {},
   "outputs": [],
   "source": [
    "TP = confusion2[1,1]\n",
    "TN = confusion2[0,0]\n",
    "FP = confusion2[0,1]\n",
    "FN = confusion2[1,0]"
   ]
  },
  {
   "cell_type": "code",
   "execution_count": 154,
   "id": "630232b5",
   "metadata": {},
   "outputs": [
    {
     "data": {
      "text/plain": [
       "0.900398406374502"
      ]
     },
     "execution_count": 154,
     "metadata": {},
     "output_type": "execute_result"
    }
   ],
   "source": [
    "# Let's see the sensitivity of our logistic regression model\n",
    "TP / float(TP+FN)"
   ]
  },
  {
   "cell_type": "code",
   "execution_count": 155,
   "id": "7b0964f4",
   "metadata": {},
   "outputs": [
    {
     "data": {
      "text/plain": [
       "0.9085989176187613"
      ]
     },
     "execution_count": 155,
     "metadata": {},
     "output_type": "execute_result"
    }
   ],
   "source": [
    "# Let us calculate specificity\n",
    "TN / float(TN+FP)"
   ]
  },
  {
   "cell_type": "code",
   "execution_count": 156,
   "id": "def70c36",
   "metadata": {},
   "outputs": [
    {
     "name": "stdout",
     "output_type": "stream",
     "text": [
      "0.09140108238123873\n"
     ]
    }
   ],
   "source": [
    "# Calculate false postive rate\n",
    "print(FP/ float(TN+FP))"
   ]
  },
  {
   "cell_type": "code",
   "execution_count": 157,
   "id": "0658f58b",
   "metadata": {},
   "outputs": [
    {
     "name": "stdout",
     "output_type": "stream",
     "text": [
      "0.8560606060606061\n"
     ]
    }
   ],
   "source": [
    "# Positive predictive value \n",
    "print (TP / float(TP+FP))"
   ]
  },
  {
   "cell_type": "code",
   "execution_count": 158,
   "id": "b82a6098",
   "metadata": {},
   "outputs": [
    {
     "name": "stdout",
     "output_type": "stream",
     "text": [
      "0.9379267535692116\n"
     ]
    }
   ],
   "source": [
    "# Negative predictive value\n",
    "print (TN / float(TN+ FN))"
   ]
  },
  {
   "cell_type": "markdown",
   "id": "91cb79a9",
   "metadata": {},
   "source": [
    "<h1 style=\"color:#FA7A35;font-family:Georgia\">Conclusion"
   ]
  },
  {
   "cell_type": "markdown",
   "id": "5b0ed7e9",
   "metadata": {},
   "source": [
    "`The variables that were selected finally for prediction are:`"
   ]
  },
  {
   "cell_type": "code",
   "execution_count": 159,
   "id": "a82263f8",
   "metadata": {},
   "outputs": [
    {
     "data": {
      "text/plain": [
       "Index(['do_not_email', 'time_on_website', 'lead_origin_Lead Add Form',\n",
       "       'lead_source_Olark Chat', 'lead_source_Welingak Website',\n",
       "       'last_activity_Converted to Lead', 'last_activity_Email Bounced',\n",
       "       'last_activity_Olark Chat Conversation',\n",
       "       'last_activity_Page Visited on Website', 'occupation_Not Specified',\n",
       "       'tags_Already a student', 'tags_Closed by Horizzon',\n",
       "       'tags_Interested in other courses', 'tags_Other Tags', 'tags_Ringing',\n",
       "       'tags_Will revert after reading the email'],\n",
       "      dtype='object')"
      ]
     },
     "execution_count": 159,
     "metadata": {},
     "output_type": "execute_result"
    }
   ],
   "source": [
    "col"
   ]
  },
  {
   "cell_type": "markdown",
   "id": "b0e268a3",
   "metadata": {},
   "source": [
    "<h5 style = \"color:#00539CFF\">Results:</h5>\n"
   ]
  },
  {
   "cell_type": "markdown",
   "id": "943fdc14",
   "metadata": {},
   "source": [
    "1. From the ROC curve, we found out 0.3 is our Optimal Point\n",
    "2. Overall Accuracy of the model is 0.905511811023622\n",
    "3. Sensitivity of our logistic regression model is 0.900398406374502\n",
    "4. specificity of our logistic regression model is 0.9085989176187613\n",
    "5. false postive rate of our logistic regression model is 0.09140108238123873\n",
    "6. Positive predictive value of our logistic regression model is 0.8560606060606061\n",
    "7. Negative predictive value of our logistic regression model is 0.9379267535692116"
   ]
  },
  {
   "cell_type": "markdown",
   "id": "3e60dc5c",
   "metadata": {},
   "source": [
    "<h5 style = \"color:#00539CFF\">Important Features of the Model"
   ]
  },
  {
   "cell_type": "code",
   "execution_count": 161,
   "id": "2bcad3a7",
   "metadata": {},
   "outputs": [
    {
     "data": {
      "text/plain": [
       "tags_Closed by Horizzon                     4.771457\n",
       "lead_source_Welingak Website                3.506717\n",
       "tags_Will revert after reading the email    2.749690\n",
       "lead_origin_Lead Add Form                   1.508771\n",
       "time_on_website                             1.044081\n",
       "lead_source_Olark Chat                      1.010594\n",
       "const                                       0.502532\n",
       "do_not_email                               -0.539665\n",
       "last_activity_Page Visited on Website      -1.328608\n",
       "tags_Other Tags                            -1.456550\n",
       "last_activity_Converted to Lead            -1.766736\n",
       "last_activity_Olark Chat Conversation      -2.072034\n",
       "last_activity_Email Bounced                -2.178976\n",
       "occupation_Not Specified                   -2.184060\n",
       "tags_Interested in other courses           -4.109882\n",
       "tags_Ringing                               -4.397054\n",
       "tags_Already a student                     -5.018204\n",
       "dtype: float64"
      ]
     },
     "execution_count": 161,
     "metadata": {},
     "output_type": "execute_result"
    }
   ],
   "source": [
    "res.params.sort_values(ascending=False)"
   ]
  },
  {
   "cell_type": "markdown",
   "id": "93ed8b30",
   "metadata": {},
   "source": [
    " <h1 style=\"color:#FA7A35;font-family:Georgia\">Recommendations:</h1>\n",
    "\n",
    "* The company **should make calls** to the leads coming from `\"tags_Closed by Horizzon \"` as they are more likely to get converted.\n",
    "* The company **should make calls** to the leads who spent `\"time_on_website\"` as these are more likely to get converted.\n",
    "* The company **should make calls** to the leads coming from the `lead sources \"Olark Chat\"` as these are more likely to get converted.\n",
    "\n",
    "* The company **should not make calls** to the leads whose `last activity` was `\"Olark Chat Conversation\"` as they are not likely to get converted.\n",
    "* The company **should not make calls** to the leads whose `tags` is `\"Already a student\"` as they are not likely to get converted.\n",
    "* The company **should not make calls** to the leads who chose the option of `\"Do not Email\" as \"yes\"` as they are not likely to get converted."
   ]
  },
  {
   "cell_type": "code",
   "execution_count": null,
   "id": "9607a41d",
   "metadata": {},
   "outputs": [],
   "source": []
  }
 ],
 "metadata": {
  "kernelspec": {
   "display_name": "Python 3 (ipykernel)",
   "language": "python",
   "name": "python3"
  },
  "language_info": {
   "codemirror_mode": {
    "name": "ipython",
    "version": 3
   },
   "file_extension": ".py",
   "mimetype": "text/x-python",
   "name": "python",
   "nbconvert_exporter": "python",
   "pygments_lexer": "ipython3",
   "version": "3.9.12"
  },
  "toc": {
   "base_numbering": 1,
   "nav_menu": {},
   "number_sections": true,
   "sideBar": true,
   "skip_h1_title": false,
   "title_cell": "Table of Contents",
   "title_sidebar": "Contents",
   "toc_cell": false,
   "toc_position": {},
   "toc_section_display": true,
   "toc_window_display": false
  }
 },
 "nbformat": 4,
 "nbformat_minor": 5
}
